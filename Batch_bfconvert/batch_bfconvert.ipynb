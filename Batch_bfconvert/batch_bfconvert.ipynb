{
 "cells": [
  {
   "cell_type": "code",
   "execution_count": 1,
   "metadata": {},
   "outputs": [],
   "source": [
    "import os\n",
    "from pathlib import Path\n",
    "from subprocess import Popen\n",
    "from typing import List\n",
    "import tqdm"
   ]
  },
  {
   "cell_type": "code",
   "execution_count": 2,
   "metadata": {},
   "outputs": [],
   "source": [
    "# bfconvertbinary = Path(\"bfconvert\") # use this if bfconvert is in Path\n",
    "bfconvertbinary = \"C:/Users/Volker/bftools/bfconvert.bat\""
   ]
  },
  {
   "cell_type": "code",
   "execution_count": 3,
   "metadata": {},
   "outputs": [],
   "source": [
    "class BatchConverter:\n",
    "    \"\"\"BatchConverter class for calling bfconvert on a whole folder tree\"\"\"\n",
    "    def __init__(self, infolder: Path, outfolder: Path, pattern: str, bfconvertexe: Path=Path(\"bfconvert\")):\n",
    "        # set during init\n",
    "        self.infolder = infolder\n",
    "        self.outfolder = outfolder\n",
    "        self.pattern = pattern\n",
    "        self.exe = str(bfconvertexe)\n",
    "        # overwrite if necessary\n",
    "        self.format_append = r'--S%%s--T%%t--Z%%z--C%%c.tif' \n",
    "        self.options = ['-padded', \"-overwrite\"]\n",
    "        \n",
    "    def convert(self):\n",
    "        # run the batch conversion\n",
    "        files = self.infolder.rglob(self.pattern)\n",
    "        results = list(map(self._process_file,files))\n",
    "        print(list(map(lambda x: x.wait(), tqdm.tqdm(results))))\n",
    "        \n",
    "    def _build_command(self, file: Path, outpattern:str) -> List[str]:\n",
    "        return [self.exe] + self.options + [str(file), outpattern]\n",
    "        \n",
    "    def _process_file(self, file: Path):\n",
    "        relpath: Path = file.relative_to(self.infolder)\n",
    "        outpattern: str = str(self.outfolder / relpath.parent / relpath.stem) + self.format_append\n",
    "        finalfolder = self.outfolder / relpath.parent \n",
    "        finalfolder.mkdir(exist_ok=True, parents=True)\n",
    "        cmd = self._build_command(file, outpattern)\n",
    "        return Popen(cmd)\n"
   ]
  },
  {
   "cell_type": "code",
   "execution_count": 4,
   "metadata": {},
   "outputs": [],
   "source": [
    "# Set up the batch converter\n",
    "bc = BatchConverter(infolder = Path(\"C:/Users/Volker/Data/Oleks_intensity/\"), \n",
    "                    outfolder = Path(\"C:/Users/Volker/Data/Output/\"),\n",
    "                    pattern = \"*.lif\",\n",
    "                    bfconvertexe = Path(bfconvertbinary))"
   ]
  },
  {
   "cell_type": "code",
   "execution_count": 5,
   "metadata": {},
   "outputs": [
    {
     "name": "stderr",
     "output_type": "stream",
     "text": [
      "100%|███████████████████████████████████████████████████████████████████████████████████████████████████| 3/3 [00:15<00:00,  5.20s/it]"
     ]
    },
    {
     "name": "stdout",
     "output_type": "stream",
     "text": [
      "[0, 0, 0]\n"
     ]
    },
    {
     "name": "stderr",
     "output_type": "stream",
     "text": [
      "\n"
     ]
    }
   ],
   "source": [
    "# run the conversion\n",
    "bc.convert()"
   ]
  },
  {
   "cell_type": "code",
   "execution_count": null,
   "metadata": {},
   "outputs": [],
   "source": []
  }
 ],
 "metadata": {
  "kernelspec": {
   "display_name": "Python 3",
   "language": "python",
   "name": "python3"
  },
  "language_info": {
   "codemirror_mode": {
    "name": "ipython",
    "version": 3
   },
   "file_extension": ".py",
   "mimetype": "text/x-python",
   "name": "python",
   "nbconvert_exporter": "python",
   "pygments_lexer": "ipython3",
   "version": "3.7.7"
  }
 },
 "nbformat": 4,
 "nbformat_minor": 4
}

{
 "cells": [
  {
   "cell_type": "markdown",
   "metadata": {},
   "source": [
    "# Download a file from a dropbox-share URL using requests\n",
    "\n",
    "I had some issues downloading files from dropbox share URLs (e.g. when you right-click a file and share a link) as the link points to a preview page.\n",
    "\n",
    "After some searching I found out that the behaviour can be changed by modifying the URL. \n",
    "URLs that contain `?dl=0`,`?dl=1` or those whithout a `?` modifier point to the preview page.\n",
    "\n",
    "To download the actual file, the URL must contain `?raw=1` and be stripped of the `?dl=` bits.\n",
    "\n",
    "Below is just a quick snippet for demonstration without error checking."
   ]
  },
  {
   "cell_type": "code",
   "execution_count": 14,
   "metadata": {},
   "outputs": [],
   "source": [
    "import requests\n",
    "\n",
    "\n",
    "def extract_filename_from_url(url):\n",
    "    try:\n",
    "        end = url[url.rfind('/')+1:]\n",
    "        filename = end[:end.find('?')]\n",
    "        return filename\n",
    "    except: \n",
    "        return None\n",
    "    \n",
    "def download_from_dropbox(url, outfile=None):\n",
    "    url = url.replace('?dl=0', '')\n",
    "    url = url.replace('?dl=1', '')\n",
    "    if not '?raw=1' in url:\n",
    "        url += \"?raw=1\"\n",
    "    r = requests.get(url, allow_redirects=True)\n",
    "    if not outfile:\n",
    "        outfile = extract_filename_from_url(url)\n",
    "    if outfile:\n",
    "        open(outfile, 'wb').write(r.content)\n",
    "\n",
    "url= 'https://www.dropbox.com/s/34ei5jj0qgylf8q/drp1_dendra2_test_1_CamA_ch0_stack0000_488nm_0000000msec_0018218290msecAbs.tif?dl=0'\n",
    "download_from_dropbox(url, \"sample_file.tif\")\n",
    "download_from_dropbox(url)\n"
   ]
  },
  {
   "cell_type": "code",
   "execution_count": 15,
   "metadata": {},
   "outputs": [
    {
     "name": "stdout",
     "output_type": "stream",
     "text": [
      "DownloadFromDropboxShareURL.ipynb\n",
      "drp1_dendra2_test_1_CamA_ch0_stack0000_488nm_0000000msec_0018218290msecAbs.tif\n",
      "sample_file.tif\n"
     ]
    }
   ],
   "source": [
    "!ls\n"
   ]
  }
 ],
 "metadata": {
  "kernelspec": {
   "display_name": "Python 3",
   "language": "python",
   "name": "python3"
  },
  "language_info": {
   "codemirror_mode": {
    "name": "ipython",
    "version": 3
   },
   "file_extension": ".py",
   "mimetype": "text/x-python",
   "name": "python",
   "nbconvert_exporter": "python",
   "pygments_lexer": "ipython3",
   "version": "3.6.8"
  }
 },
 "nbformat": 4,
 "nbformat_minor": 2
}

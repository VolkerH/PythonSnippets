{
 "cells": [
  {
   "cell_type": "markdown",
   "metadata": {},
   "source": [
    "# Retrieve Gitlab issues and create a table using gitlab python\n",
    "\n",
    "The code snippets in this notebook demonstrate how to retrieve issues from a Gitlab server using [Python-Gitlab](https://python-gitlab.readthedocs.io/en/stable/index.html) and create a pandas Dataframe from them.\n",
    "\n",
    "As I use Gitlab for internal (non-open) issues, the output and session key have been stripped from this notebook.\n",
    "\n",
    "You will have to [generate an access token for your Gitlab server](https://docs.gitlab.com/ee/user/profile/personal_access_tokens.html)."
   ]
  },
  {
   "cell_type": "code",
   "execution_count": 4,
   "metadata": {},
   "outputs": [],
   "source": [
    "# install Gitlab-python if required: pip install --upgrade python-gitlab\n",
    "import gitlab\n",
    "import pandas as pd"
   ]
  },
  {
   "cell_type": "markdown",
   "metadata": {},
   "source": [
    "### Step 1: set hostname and access token"
   ]
  },
  {
   "cell_type": "code",
   "execution_count": 5,
   "metadata": {},
   "outputs": [],
   "source": [
    "hostname = 'https://gitlab.erc.monash.edu' # replace with your github hostname\n",
    "private_token='replace_with_your_own_token'"
   ]
  },
  {
   "cell_type": "markdown",
   "metadata": {},
   "source": [
    "### Step 2: create Gitlab object"
   ]
  },
  {
   "cell_type": "code",
   "execution_count": 6,
   "metadata": {},
   "outputs": [],
   "source": [
    "gl = gitlab.Gitlab(hostname, private_token=private_token)"
   ]
  },
  {
   "cell_type": "markdown",
   "metadata": {},
   "source": [
    "### Step 3: retrieve all issues"
   ]
  },
  {
   "cell_type": "code",
   "execution_count": 8,
   "metadata": {},
   "outputs": [],
   "source": [
    "all_issues = gl.issues.list(all=True, as_list=True)"
   ]
  },
  {
   "cell_type": "markdown",
   "metadata": {},
   "source": [
    "### Step 4: convert into a data frame\n",
    "For this, we access all the attributes of each issues object as a dictionary. \n",
    "The list of dictionaries is then converted into a data frame."
   ]
  },
  {
   "cell_type": "code",
   "execution_count": 9,
   "metadata": {},
   "outputs": [],
   "source": [
    "df_issues = pd.DataFrame(list(map(lambda x: x.__dict__[\"_attrs\"], all_issues)))"
   ]
  },
  {
   "cell_type": "code",
   "execution_count": 12,
   "metadata": {},
   "outputs": [
    {
     "data": {
      "text/plain": [
       "Index(['id', 'iid', 'project_id', 'title', 'description', 'state',\n",
       "       'created_at', 'updated_at', 'closed_at', 'closed_by', 'labels',\n",
       "       'milestone', 'assignees', 'author', 'assignee', 'user_notes_count',\n",
       "       'upvotes', 'downvotes', 'due_date', 'confidential', 'discussion_locked',\n",
       "       'web_url', 'time_stats'],\n",
       "      dtype='object')"
      ]
     },
     "execution_count": 12,
     "metadata": {},
     "output_type": "execute_result"
    }
   ],
   "source": [
    "df_issues.keys()"
   ]
  },
  {
   "cell_type": "code",
   "execution_count": 14,
   "metadata": {},
   "outputs": [
    {
     "data": {
      "text/plain": [
       "(113, 23)"
      ]
     },
     "execution_count": 14,
     "metadata": {},
     "output_type": "execute_result"
    }
   ],
   "source": [
    "df_issues.shape"
   ]
  },
  {
   "cell_type": "code",
   "execution_count": null,
   "metadata": {},
   "outputs": [],
   "source": []
  }
 ],
 "metadata": {
  "kernelspec": {
   "display_name": "Python 3",
   "language": "python",
   "name": "python3"
  },
  "language_info": {
   "codemirror_mode": {
    "name": "ipython",
    "version": 3
   },
   "file_extension": ".py",
   "mimetype": "text/x-python",
   "name": "python",
   "nbconvert_exporter": "python",
   "pygments_lexer": "ipython3",
   "version": "3.6.8"
  }
 },
 "nbformat": 4,
 "nbformat_minor": 2
}

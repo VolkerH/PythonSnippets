{
 "cells": [
  {
   "cell_type": "markdown",
   "id": "a53e823e",
   "metadata": {},
   "source": [
    "## Experimenting with Talley's new nd2 reader package\n",
    "\n",
    "https://github.com/tlambert03/nd2"
   ]
  },
  {
   "cell_type": "code",
   "execution_count": 1,
   "id": "c8b25dc6",
   "metadata": {},
   "outputs": [],
   "source": [
    "import nd2\n",
    "import numpy as np"
   ]
  },
  {
   "cell_type": "code",
   "execution_count": 2,
   "id": "23d3a65c",
   "metadata": {},
   "outputs": [],
   "source": [
    "f = nd2.ND2File(\"20210305_Nikon_export_experiments/Seq0000.nd2\")"
   ]
  },
  {
   "cell_type": "code",
   "execution_count": 3,
   "id": "0fbd8e90",
   "metadata": {},
   "outputs": [
    {
     "data": {
      "text/plain": [
       "VoxelSize(x=0.644888355182203, y=0.644888355182203, z=1.0)"
      ]
     },
     "execution_count": 3,
     "metadata": {},
     "output_type": "execute_result"
    }
   ],
   "source": [
    "f.voxel_size()"
   ]
  },
  {
   "cell_type": "code",
   "execution_count": 4,
   "id": "de62d75d",
   "metadata": {},
   "outputs": [
    {
     "data": {
      "text/plain": [
       "Metadata(contents=Contents(channelCount=3, frameCount=56), channels=[Channel(channel=ChannelMeta(name='Trans', index=0, colorRGB=4294967295, emissionLambdaNm=525.0, excitationLambdaNm=None), loops=LoopIndices(NETimeLoop=None, TimeLoop=None, XYPosLoop=0, ZStackLoop=None), microscope=Microscope(objectiveMagnification=10.0, objectiveName='Plan Apo λ 10x', objectiveNumericalAperture=0.45, zoomMagnification=1.0, immersionRefractiveIndex=1.0, projectiveMagnification=1.0, pinholeDiameterUm=None, modalityFlags=['brightfield']), volume=Volume(axesCalibrated=[True, True, False], axesCalibration=[0.644888355182203, 0.644888355182203, 1.0], axesInterpretation=(<AxisInterpretation.distance: 'distance'>, <AxisInterpretation.distance: 'distance'>, <AxisInterpretation.distance: 'distance'>), bitsPerComponentInMemory=16, bitsPerComponentSignificant=16, cameraTransformationMatrix=[1.0, 0.005678434924225801, -0.004278948167473039, 0.9994560767813405], componentCount=1, componentDataType='unsigned', voxelCount=[2044, 2060, 1], componentMaxima=[0.0], componentMinima=[0.0], pixelToStageTransformationMatrix=None)), Channel(channel=ChannelMeta(name='Dapi', index=1, colorRGB=16724736, emissionLambdaNm=450.0, excitationLambdaNm=None), loops=LoopIndices(NETimeLoop=None, TimeLoop=None, XYPosLoop=0, ZStackLoop=None), microscope=Microscope(objectiveMagnification=10.0, objectiveName='Plan Apo λ 10x', objectiveNumericalAperture=0.45, zoomMagnification=1.0, immersionRefractiveIndex=1.0, projectiveMagnification=1.0, pinholeDiameterUm=None, modalityFlags=['fluorescence']), volume=Volume(axesCalibrated=[True, True, False], axesCalibration=[0.644888355182203, 0.644888355182203, 1.0], axesInterpretation=(<AxisInterpretation.distance: 'distance'>, <AxisInterpretation.distance: 'distance'>, <AxisInterpretation.distance: 'distance'>), bitsPerComponentInMemory=16, bitsPerComponentSignificant=16, cameraTransformationMatrix=[1.0, 0.005678434924225801, -0.004278948167473039, 0.9994560767813405], componentCount=1, componentDataType='unsigned', voxelCount=[2044, 2060, 1], componentMaxima=[0.0], componentMinima=[0.0], pixelToStageTransformationMatrix=None)), Channel(channel=ChannelMeta(name='GFP', index=2, colorRGB=65365, emissionLambdaNm=525.0, excitationLambdaNm=None), loops=LoopIndices(NETimeLoop=None, TimeLoop=None, XYPosLoop=0, ZStackLoop=None), microscope=Microscope(objectiveMagnification=10.0, objectiveName='Plan Apo λ 10x', objectiveNumericalAperture=0.45, zoomMagnification=1.0, immersionRefractiveIndex=1.0, projectiveMagnification=1.0, pinholeDiameterUm=None, modalityFlags=['fluorescence']), volume=Volume(axesCalibrated=[True, True, False], axesCalibration=[0.644888355182203, 0.644888355182203, 1.0], axesInterpretation=(<AxisInterpretation.distance: 'distance'>, <AxisInterpretation.distance: 'distance'>, <AxisInterpretation.distance: 'distance'>), bitsPerComponentInMemory=16, bitsPerComponentSignificant=16, cameraTransformationMatrix=[1.0, 0.005678434924225801, -0.004278948167473039, 0.9994560767813405], componentCount=1, componentDataType='unsigned', voxelCount=[2044, 2060, 1], componentMaxima=[0.0], componentMinima=[0.0], pixelToStageTransformationMatrix=None))])"
      ]
     },
     "execution_count": 4,
     "metadata": {},
     "output_type": "execute_result"
    }
   ],
   "source": [
    "f.metadata"
   ]
  },
  {
   "cell_type": "code",
   "execution_count": 5,
   "id": "5c639cae",
   "metadata": {},
   "outputs": [
    {
     "data": {
      "text/plain": [
       "[Position(stagePositionUm=[22475.3466796875, 3288.4423828125, 1671.7250000000001], pfsOffset=None, name=None),\n",
       " Position(stagePositionUm=[21289.0283203125, 3295.1806640625, 1670.3000000000002], pfsOffset=None, name=None),\n",
       " Position(stagePositionUm=[20102.71240234375, 3301.92138671875, 1668.875], pfsOffset=None, name=None),\n",
       " Position(stagePositionUm=[18916.39404296875, 3308.662109375, 1667.4250000000002], pfsOffset=None, name=None),\n",
       " Position(stagePositionUm=[17730.07568359375, 3315.40283203125, 1666.0], pfsOffset=None, name=None),\n",
       " Position(stagePositionUm=[16543.759765625, 3322.14111328125, 1664.5500000000002], pfsOffset=None, name=None),\n",
       " Position(stagePositionUm=[15357.44140625, 3328.8818359375, 1663.1000000000001], pfsOffset=None, name=None),\n",
       " Position(stagePositionUm=[14171.123046875, 3335.62255859375, 1661.6750000000002], pfsOffset=None, name=None),\n",
       " Position(stagePositionUm=[14164.3310546875, 2140.01953125, 1663.4750000000001], pfsOffset=None, name=None),\n",
       " Position(stagePositionUm=[15350.6494140625, 2133.27880859375, 1664.95], pfsOffset=None, name=None),\n",
       " Position(stagePositionUm=[16536.96533203125, 2126.5380859375, 1666.375], pfsOffset=None, name=None),\n",
       " Position(stagePositionUm=[17723.28369140625, 2119.79736328125, 1667.8000000000002], pfsOffset=None, name=None),\n",
       " Position(stagePositionUm=[18909.60205078125, 2113.05908203125, 1669.2250000000001], pfsOffset=None, name=None),\n",
       " Position(stagePositionUm=[20095.91796875, 2106.318359375, 1670.7], pfsOffset=None, name=None),\n",
       " Position(stagePositionUm=[21282.236328125, 2099.57763671875, 1672.1000000000001], pfsOffset=None, name=None),\n",
       " Position(stagePositionUm=[22468.55224609375, 2092.8369140625, 1673.5500000000002], pfsOffset=None, name=None),\n",
       " Position(stagePositionUm=[22461.76025390625, 897.23388671875, 1675.4250000000002], pfsOffset=None, name=None),\n",
       " Position(stagePositionUm=[21275.44189453125, 903.974609375, 1673.9250000000002], pfsOffset=None, name=None),\n",
       " Position(stagePositionUm=[20089.1259765625, 910.71533203125, 1672.525], pfsOffset=None, name=None),\n",
       " Position(stagePositionUm=[18902.8076171875, 917.45361328125, 1671.075], pfsOffset=None, name=None),\n",
       " Position(stagePositionUm=[17716.49169921875, 924.1943359375, 1669.625], pfsOffset=None, name=None),\n",
       " Position(stagePositionUm=[16530.17333984375, 930.93505859375, 1668.2], pfsOffset=None, name=None),\n",
       " Position(stagePositionUm=[15343.85498046875, 937.67578125, 1666.775], pfsOffset=None, name=None),\n",
       " Position(stagePositionUm=[14157.5390625, 944.4140625, 1665.325], pfsOffset=None, name=None),\n",
       " Position(stagePositionUm=[14150.74462890625, -251.1865234375, 1667.15], pfsOffset=None, name=None),\n",
       " Position(stagePositionUm=[15337.06298828125, -257.92724609375, 1668.6000000000001], pfsOffset=None, name=None),\n",
       " Position(stagePositionUm=[16523.38134765625, -264.66552734375, 1670.0500000000002], pfsOffset=None, name=None),\n",
       " Position(stagePositionUm=[17709.697265625, -271.40625, 1671.4750000000001], pfsOffset=None, name=None),\n",
       " Position(stagePositionUm=[18896.015625, -278.14697265625, 1672.9], pfsOffset=None, name=None),\n",
       " Position(stagePositionUm=[20082.33154296875, -284.8876953125, 1674.3500000000001], pfsOffset=None, name=None),\n",
       " Position(stagePositionUm=[21268.64990234375, -291.6259765625, 1675.775], pfsOffset=None, name=None),\n",
       " Position(stagePositionUm=[22454.96826171875, -298.36669921875, 1677.2250000000001], pfsOffset=None, name=None),\n",
       " Position(stagePositionUm=[22448.173828125, -1493.9697265625, 1679.0500000000002], pfsOffset=None, name=None),\n",
       " Position(stagePositionUm=[21261.85791015625, -1487.2314453125, 1677.625], pfsOffset=None, name=None),\n",
       " Position(stagePositionUm=[20075.53955078125, -1480.49072265625, 1676.1750000000002], pfsOffset=None, name=None),\n",
       " Position(stagePositionUm=[18889.22119140625, -1473.75, 1674.775], pfsOffset=None, name=None),\n",
       " Position(stagePositionUm=[17702.9052734375, -1467.00927734375, 1673.325], pfsOffset=None, name=None),\n",
       " Position(stagePositionUm=[16516.5869140625, -1460.27099609375, 1671.875], pfsOffset=None, name=None),\n",
       " Position(stagePositionUm=[15330.27099609375, -1453.5302734375, 1670.4250000000002], pfsOffset=None, name=None),\n",
       " Position(stagePositionUm=[14143.95263671875, -1446.78955078125, 1669.0], pfsOffset=None, name=None),\n",
       " Position(stagePositionUm=[14137.16064453125, -2642.392578125, 1670.825], pfsOffset=None, name=None),\n",
       " Position(stagePositionUm=[15323.4765625, -2649.13330078125, 1672.275], pfsOffset=None, name=None),\n",
       " Position(stagePositionUm=[16509.794921875, -2655.8740234375, 1673.7250000000001], pfsOffset=None, name=None),\n",
       " Position(stagePositionUm=[17696.11083984375, -2662.61474609375, 1675.125], pfsOffset=None, name=None),\n",
       " Position(stagePositionUm=[18882.42919921875, -2669.35302734375, 1676.6000000000001], pfsOffset=None, name=None),\n",
       " Position(stagePositionUm=[20068.74755859375, -2676.09375, 1678.0500000000002], pfsOffset=None, name=None),\n",
       " Position(stagePositionUm=[21255.0634765625, -2682.83447265625, 1679.4750000000001], pfsOffset=None, name=None),\n",
       " Position(stagePositionUm=[22441.3818359375, -2689.5751953125, 1680.9], pfsOffset=None, name=None),\n",
       " Position(stagePositionUm=[22434.58984375, -3885.17822265625, 1682.7250000000001], pfsOffset=None, name=None),\n",
       " Position(stagePositionUm=[21248.271484375, -3878.4375, 1681.325], pfsOffset=None, name=None),\n",
       " Position(stagePositionUm=[20061.953125, -3871.69677734375, 1679.875], pfsOffset=None, name=None),\n",
       " Position(stagePositionUm=[18875.63720703125, -3864.95849609375, 1678.4250000000002], pfsOffset=None, name=None),\n",
       " Position(stagePositionUm=[17689.31884765625, -3858.2177734375, 1676.9750000000001], pfsOffset=None, name=None),\n",
       " Position(stagePositionUm=[16503.00048828125, -3851.47705078125, 1675.525], pfsOffset=None, name=None),\n",
       " Position(stagePositionUm=[15316.6845703125, -3844.736328125, 1674.1000000000001], pfsOffset=None, name=None),\n",
       " Position(stagePositionUm=[14130.3662109375, -3837.998046875, 1672.6750000000002], pfsOffset=None, name=None)]"
      ]
     },
     "execution_count": 5,
     "metadata": {},
     "output_type": "execute_result"
    }
   ],
   "source": [
    "f.experiment[0].parameters.points"
   ]
  },
  {
   "cell_type": "code",
   "execution_count": 6,
   "id": "31148b75",
   "metadata": {},
   "outputs": [],
   "source": [
    "img_data = f.to_dask()"
   ]
  },
  {
   "cell_type": "code",
   "execution_count": 7,
   "id": "09690a94",
   "metadata": {},
   "outputs": [
    {
     "data": {
      "text/html": [
       "<table>\n",
       "<tr>\n",
       "<td>\n",
       "<table>\n",
       "  <thead>\n",
       "    <tr><td> </td><th> Array </th><th> Chunk </th></tr>\n",
       "  </thead>\n",
       "  <tbody>\n",
       "    <tr><th> Bytes </th><td> 1.32 GiB </td> <td> 24.09 MiB </td></tr>\n",
       "    <tr><th> Shape </th><td> (56, 3, 2060, 2044) </td> <td> (1, 3, 2060, 2044) </td></tr>\n",
       "    <tr><th> Count </th><td> 112 Tasks </td><td> 56 Chunks </td></tr>\n",
       "    <tr><th> Type </th><td> uint16 </td><td> numpy.ndarray </td></tr>\n",
       "  </tbody>\n",
       "</table>\n",
       "</td>\n",
       "<td>\n",
       "<svg width=\"384\" height=\"184\" style=\"stroke:rgb(0,0,0);stroke-width:1\" >\n",
       "\n",
       "  <!-- Horizontal lines -->\n",
       "  <line x1=\"0\" y1=\"0\" x2=\"30\" y2=\"0\" style=\"stroke-width:2\" />\n",
       "  <line x1=\"0\" y1=\"25\" x2=\"30\" y2=\"25\" style=\"stroke-width:2\" />\n",
       "\n",
       "  <!-- Vertical lines -->\n",
       "  <line x1=\"0\" y1=\"0\" x2=\"0\" y2=\"25\" style=\"stroke-width:2\" />\n",
       "  <line x1=\"0\" y1=\"0\" x2=\"0\" y2=\"25\" />\n",
       "  <line x1=\"1\" y1=\"0\" x2=\"1\" y2=\"25\" />\n",
       "  <line x1=\"2\" y1=\"0\" x2=\"2\" y2=\"25\" />\n",
       "  <line x1=\"3\" y1=\"0\" x2=\"3\" y2=\"25\" />\n",
       "  <line x1=\"4\" y1=\"0\" x2=\"4\" y2=\"25\" />\n",
       "  <line x1=\"5\" y1=\"0\" x2=\"5\" y2=\"25\" />\n",
       "  <line x1=\"6\" y1=\"0\" x2=\"6\" y2=\"25\" />\n",
       "  <line x1=\"7\" y1=\"0\" x2=\"7\" y2=\"25\" />\n",
       "  <line x1=\"8\" y1=\"0\" x2=\"8\" y2=\"25\" />\n",
       "  <line x1=\"9\" y1=\"0\" x2=\"9\" y2=\"25\" />\n",
       "  <line x1=\"10\" y1=\"0\" x2=\"10\" y2=\"25\" />\n",
       "  <line x1=\"11\" y1=\"0\" x2=\"11\" y2=\"25\" />\n",
       "  <line x1=\"12\" y1=\"0\" x2=\"12\" y2=\"25\" />\n",
       "  <line x1=\"13\" y1=\"0\" x2=\"13\" y2=\"25\" />\n",
       "  <line x1=\"14\" y1=\"0\" x2=\"14\" y2=\"25\" />\n",
       "  <line x1=\"15\" y1=\"0\" x2=\"15\" y2=\"25\" />\n",
       "  <line x1=\"15\" y1=\"0\" x2=\"15\" y2=\"25\" />\n",
       "  <line x1=\"17\" y1=\"0\" x2=\"17\" y2=\"25\" />\n",
       "  <line x1=\"18\" y1=\"0\" x2=\"18\" y2=\"25\" />\n",
       "  <line x1=\"19\" y1=\"0\" x2=\"19\" y2=\"25\" />\n",
       "  <line x1=\"19\" y1=\"0\" x2=\"19\" y2=\"25\" />\n",
       "  <line x1=\"20\" y1=\"0\" x2=\"20\" y2=\"25\" />\n",
       "  <line x1=\"22\" y1=\"0\" x2=\"22\" y2=\"25\" />\n",
       "  <line x1=\"23\" y1=\"0\" x2=\"23\" y2=\"25\" />\n",
       "  <line x1=\"23\" y1=\"0\" x2=\"23\" y2=\"25\" />\n",
       "  <line x1=\"24\" y1=\"0\" x2=\"24\" y2=\"25\" />\n",
       "  <line x1=\"25\" y1=\"0\" x2=\"25\" y2=\"25\" />\n",
       "  <line x1=\"26\" y1=\"0\" x2=\"26\" y2=\"25\" />\n",
       "  <line x1=\"27\" y1=\"0\" x2=\"27\" y2=\"25\" />\n",
       "  <line x1=\"28\" y1=\"0\" x2=\"28\" y2=\"25\" />\n",
       "  <line x1=\"29\" y1=\"0\" x2=\"29\" y2=\"25\" />\n",
       "  <line x1=\"30\" y1=\"0\" x2=\"30\" y2=\"25\" style=\"stroke-width:2\" />\n",
       "\n",
       "  <!-- Colored Rectangle -->\n",
       "  <polygon points=\"0.0,0.0 30.803958509996466,0.0 30.803958509996466,25.412616514582485 0.0,25.412616514582485\" style=\"fill:#8B4903A0;stroke-width:0\"/>\n",
       "\n",
       "  <!-- Text -->\n",
       "  <text x=\"15.401979\" y=\"45.412617\" font-size=\"1.0rem\" font-weight=\"100\" text-anchor=\"middle\" >56</text>\n",
       "  <text x=\"50.803959\" y=\"12.706308\" font-size=\"1.0rem\" font-weight=\"100\" text-anchor=\"middle\" transform=\"rotate(0,50.803959,12.706308)\">1</text>\n",
       "\n",
       "\n",
       "  <!-- Horizontal lines -->\n",
       "  <line x1=\"100\" y1=\"0\" x2=\"114\" y2=\"14\" style=\"stroke-width:2\" />\n",
       "  <line x1=\"100\" y1=\"120\" x2=\"114\" y2=\"134\" style=\"stroke-width:2\" />\n",
       "\n",
       "  <!-- Vertical lines -->\n",
       "  <line x1=\"100\" y1=\"0\" x2=\"100\" y2=\"120\" style=\"stroke-width:2\" />\n",
       "  <line x1=\"114\" y1=\"14\" x2=\"114\" y2=\"134\" style=\"stroke-width:2\" />\n",
       "\n",
       "  <!-- Colored Rectangle -->\n",
       "  <polygon points=\"100.0,0.0 114.9485979497544,14.948597949754403 114.9485979497544,134.9485979497544 100.0,120.0\" style=\"fill:#ECB172A0;stroke-width:0\"/>\n",
       "\n",
       "  <!-- Horizontal lines -->\n",
       "  <line x1=\"100\" y1=\"0\" x2=\"219\" y2=\"0\" style=\"stroke-width:2\" />\n",
       "  <line x1=\"114\" y1=\"14\" x2=\"234\" y2=\"14\" style=\"stroke-width:2\" />\n",
       "\n",
       "  <!-- Vertical lines -->\n",
       "  <line x1=\"100\" y1=\"0\" x2=\"114\" y2=\"14\" style=\"stroke-width:2\" />\n",
       "  <line x1=\"219\" y1=\"0\" x2=\"234\" y2=\"14\" style=\"stroke-width:2\" />\n",
       "\n",
       "  <!-- Colored Rectangle -->\n",
       "  <polygon points=\"100.0,0.0 219.06796116504853,0.0 234.01655911480293,14.948597949754403 114.9485979497544,14.948597949754403\" style=\"fill:#ECB172A0;stroke-width:0\"/>\n",
       "\n",
       "  <!-- Horizontal lines -->\n",
       "  <line x1=\"114\" y1=\"14\" x2=\"234\" y2=\"14\" style=\"stroke-width:2\" />\n",
       "  <line x1=\"114\" y1=\"134\" x2=\"234\" y2=\"134\" style=\"stroke-width:2\" />\n",
       "\n",
       "  <!-- Vertical lines -->\n",
       "  <line x1=\"114\" y1=\"14\" x2=\"114\" y2=\"134\" style=\"stroke-width:2\" />\n",
       "  <line x1=\"234\" y1=\"14\" x2=\"234\" y2=\"134\" style=\"stroke-width:2\" />\n",
       "\n",
       "  <!-- Colored Rectangle -->\n",
       "  <polygon points=\"114.9485979497544,14.948597949754403 234.01655911480293,14.948597949754403 234.01655911480293,134.9485979497544 114.9485979497544,134.9485979497544\" style=\"fill:#ECB172A0;stroke-width:0\"/>\n",
       "\n",
       "  <!-- Text -->\n",
       "  <text x=\"174.482579\" y=\"154.948598\" font-size=\"1.0rem\" font-weight=\"100\" text-anchor=\"middle\" >2044</text>\n",
       "  <text x=\"254.016559\" y=\"74.948598\" font-size=\"1.0rem\" font-weight=\"100\" text-anchor=\"middle\" transform=\"rotate(-90,254.016559,74.948598)\">2060</text>\n",
       "  <text x=\"97.474299\" y=\"147.474299\" font-size=\"1.0rem\" font-weight=\"100\" text-anchor=\"middle\" transform=\"rotate(45,97.474299,147.474299)\">3</text>\n",
       "</svg>\n",
       "</td>\n",
       "</tr>\n",
       "</table>"
      ],
      "text/plain": [
       "dask.array<_dask_block, shape=(56, 3, 2060, 2044), dtype=uint16, chunksize=(1, 3, 2060, 2044), chunktype=numpy.ndarray>"
      ]
     },
     "execution_count": 7,
     "metadata": {},
     "output_type": "execute_result"
    }
   ],
   "source": [
    "img_data"
   ]
  },
  {
   "cell_type": "code",
   "execution_count": 8,
   "id": "6fecdb2b",
   "metadata": {},
   "outputs": [
    {
     "data": {
      "text/plain": [
       "array([[21548, 21237, 21185, ..., 23506, 23740, 23797],\n",
       "       [21535, 21482, 21622, ..., 23421, 23698, 23817],\n",
       "       [21181, 20899, 21739, ..., 23661, 23992, 23771],\n",
       "       ...,\n",
       "       [22752, 23060, 23304, ..., 25141, 25456, 24944],\n",
       "       [22697, 22939, 22675, ..., 24977, 24844, 24809],\n",
       "       [23264, 22937, 23647, ..., 25276, 25002, 25501]], dtype=uint16)"
      ]
     },
     "execution_count": 8,
     "metadata": {},
     "output_type": "execute_result"
    }
   ],
   "source": [
    "np.array(img_data[0,0,:50,:50])"
   ]
  },
  {
   "cell_type": "code",
   "execution_count": null,
   "id": "072df50a",
   "metadata": {},
   "outputs": [],
   "source": []
  }
 ],
 "metadata": {
  "kernelspec": {
   "display_name": "Python 3 (ipykernel)",
   "language": "python",
   "name": "python3"
  },
  "language_info": {
   "codemirror_mode": {
    "name": "ipython",
    "version": 3
   },
   "file_extension": ".py",
   "mimetype": "text/x-python",
   "name": "python",
   "nbconvert_exporter": "python",
   "pygments_lexer": "ipython3",
   "version": "3.8.12"
  }
 },
 "nbformat": 4,
 "nbformat_minor": 5
}

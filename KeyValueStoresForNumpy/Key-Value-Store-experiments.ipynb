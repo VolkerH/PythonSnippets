{
 "cells": [
  {
   "cell_type": "markdown",
   "metadata": {},
   "source": [
    "# Experiments putting large numpy arrays into key-value stores\n",
    "\n",
    "\n",
    "I want something that is fast (in RAM when possible) and also can persist to disk if necessary/not enough RAM.\n",
    "And it should handle large image/volume data.\n",
    "\n",
    "## Partd\n",
    "\n",
    "See https://github.com/dask/partd\n",
    "\n",
    "\n",
    "## Redis \n",
    "\n",
    "https://stackoverflow.com/questions/55311399/fastest-way-to-store-a-numpy-array-in-redis\n",
    "\n",
    "## Other key value stores to try:\n",
    "\n",
    "* KVstore in Mxnet https://mxnet.incubator.apache.org/versions/master/tutorials/python/kvstore.html\n",
    "\n",
    "# TODO\n",
    "\n",
    "* try distributed between processes/machines\n",
    "* try with redis\n",
    "\n"
   ]
  },
  {
   "cell_type": "code",
   "execution_count": 4,
   "metadata": {},
   "outputs": [],
   "source": [
    "import partd\n",
    "import numpy as np\n",
    "\n",
    "# this is adapted from the redis example on the stackoverflow answer\n",
    "# this assumes only 2D arrays. Would have to pack slighty differently for \n",
    "# nd-array, e.g. pack len(shape) as first byte/short + shape + a.tobytes()\n",
    "\n",
    "\n",
    "def toPartd(p,a,n):\n",
    "   \"\"\"Store given Numpy array 'a' in PartD under key 'n'\"\"\"\n",
    "   h, w = a.shape\n",
    "   shape = struct.pack('>II',h,w)\n",
    "   encoded = shape + a.tobytes()\n",
    "\n",
    "   # Store encoded data in Redis\n",
    "   p.append({n : encoded})\n",
    "   return\n",
    "\n",
    "def fromPartd(p,n):\n",
    "   \"\"\"Retrieve Numpy array from PartD key 'n'\"\"\"\n",
    "   encoded = p.get(n)\n",
    "   h, w = struct.unpack('>II',encoded[:8])\n",
    "   a = np.frombuffer(encoded, dtype=np.uint16, offset=8).reshape(h,w)\n",
    "   return a\n"
   ]
  },
  {
   "cell_type": "code",
   "execution_count": 5,
   "metadata": {},
   "outputs": [],
   "source": [
    "p = partd.Dict()\n"
   ]
  },
  {
   "cell_type": "code",
   "execution_count": 7,
   "metadata": {},
   "outputs": [],
   "source": [
    "import numpy as np"
   ]
  },
  {
   "cell_type": "code",
   "execution_count": 8,
   "metadata": {},
   "outputs": [],
   "source": [
    "# Create 80x80 numpy array to store\n",
    "a0 = np.arange(6400,dtype=np.uint16).reshape(80,80) \n"
   ]
  },
  {
   "cell_type": "code",
   "execution_count": 9,
   "metadata": {},
   "outputs": [],
   "source": [
    "toPartd(p, a0, \"a0\")"
   ]
  },
  {
   "cell_type": "code",
   "execution_count": 10,
   "metadata": {},
   "outputs": [
    {
     "data": {
      "text/plain": [
       "array([[   0,    1,    2, ...,   77,   78,   79],\n",
       "       [  80,   81,   82, ...,  157,  158,  159],\n",
       "       [ 160,  161,  162, ...,  237,  238,  239],\n",
       "       ...,\n",
       "       [6160, 6161, 6162, ..., 6237, 6238, 6239],\n",
       "       [6240, 6241, 6242, ..., 6317, 6318, 6319],\n",
       "       [6320, 6321, 6322, ..., 6397, 6398, 6399]], dtype=uint16)"
      ]
     },
     "execution_count": 10,
     "metadata": {},
     "output_type": "execute_result"
    }
   ],
   "source": [
    "fromPartd(p, \"a0\")"
   ]
  },
  {
   "cell_type": "markdown",
   "metadata": {},
   "source": [
    "Seems to work in principle. Try with something larger..."
   ]
  },
  {
   "cell_type": "code",
   "execution_count": 12,
   "metadata": {},
   "outputs": [
    {
     "data": {
      "text/plain": [
       "dict_keys(['a0'])"
      ]
     },
     "execution_count": 12,
     "metadata": {},
     "output_type": "execute_result"
    }
   ],
   "source": [
    "p.data.keys()"
   ]
  },
  {
   "cell_type": "code",
   "execution_count": 13,
   "metadata": {},
   "outputs": [],
   "source": [
    "a1 = np.arange(5000*5000,dtype=np.uint16).reshape(5000,5000) "
   ]
  },
  {
   "cell_type": "code",
   "execution_count": 14,
   "metadata": {},
   "outputs": [],
   "source": [
    "toPartd(p,a1, \"a1\")"
   ]
  },
  {
   "cell_type": "code",
   "execution_count": 15,
   "metadata": {},
   "outputs": [
    {
     "data": {
      "text/plain": [
       "array([[    0,     1,     2, ...,  4997,  4998,  4999],\n",
       "       [ 5000,  5001,  5002, ...,  9997,  9998,  9999],\n",
       "       [10000, 10001, 10002, ..., 14997, 14998, 14999],\n",
       "       ...,\n",
       "       [15784, 15785, 15786, ..., 20781, 20782, 20783],\n",
       "       [20784, 20785, 20786, ..., 25781, 25782, 25783],\n",
       "       [25784, 25785, 25786, ..., 30781, 30782, 30783]], dtype=uint16)"
      ]
     },
     "execution_count": 15,
     "metadata": {},
     "output_type": "execute_result"
    }
   ],
   "source": [
    "fromPartd(p, \"a1\")"
   ]
  },
  {
   "cell_type": "code",
   "execution_count": 2,
   "metadata": {},
   "outputs": [],
   "source": [
    "# Redis example from stackoverflow answer\n",
    "\n"
   ]
  },
  {
   "cell_type": "code",
   "execution_count": 3,
   "metadata": {},
   "outputs": [
    {
     "ename": "ModuleNotFoundError",
     "evalue": "No module named 'redis'",
     "output_type": "error",
     "traceback": [
      "\u001b[1;31m---------------------------------------------------------------------------\u001b[0m",
      "\u001b[1;31mModuleNotFoundError\u001b[0m                       Traceback (most recent call last)",
      "\u001b[1;32m<ipython-input-3-7c0114fe85b2>\u001b[0m in \u001b[0;36m<module>\u001b[1;34m\u001b[0m\n\u001b[0;32m      1\u001b[0m \u001b[1;33m\u001b[0m\u001b[0m\n\u001b[0;32m      2\u001b[0m \u001b[1;32mimport\u001b[0m \u001b[0mstruct\u001b[0m\u001b[1;33m\u001b[0m\u001b[0m\n\u001b[1;32m----> 3\u001b[1;33m \u001b[1;32mimport\u001b[0m \u001b[0mredis\u001b[0m\u001b[1;33m\u001b[0m\u001b[0m\n\u001b[0m\u001b[0;32m      4\u001b[0m \u001b[1;32mimport\u001b[0m \u001b[0mnumpy\u001b[0m \u001b[1;32mas\u001b[0m \u001b[0mnp\u001b[0m\u001b[1;33m\u001b[0m\u001b[0m\n\u001b[0;32m      5\u001b[0m \u001b[1;33m\u001b[0m\u001b[0m\n",
      "\u001b[1;31mModuleNotFoundError\u001b[0m: No module named 'redis'"
     ]
    }
   ],
   "source": [
    "\n",
    "import struct\n",
    "import redis\n",
    "import numpy as np\n",
    "\n",
    "def toRedis(r,a,n):\n",
    "   \"\"\"Store given Numpy array 'a' in Redis under key 'n'\"\"\"\n",
    "   h, w = a.shape\n",
    "   shape = struct.pack('>II',h,w)\n",
    "   encoded = shape + a.tobytes()\n",
    "\n",
    "   # Store encoded data in Redis\n",
    "   r.set(n,encoded)\n",
    "   return\n",
    "\n",
    "def fromRedis(r,n):\n",
    "   \"\"\"Retrieve Numpy array from Redis key 'n'\"\"\"\n",
    "   encoded = r.get(n)\n",
    "   h, w = struct.unpack('>II',encoded[:8])\n",
    "   a = np.frombuffer(encoded, dtype=np.uint16, offset=8).reshape(h,w)\n",
    "   return a\n",
    "\n",
    "# Create 80x80 numpy array to store\n",
    "a0 = np.arange(6400,dtype=np.uint16).reshape(80,80) \n",
    "\n",
    "# Redis connection\n",
    "r = redis.Redis(host='localhost', port=6379, db=0)\n",
    "\n",
    "# Store array a0 in Redis under name 'a0array'\n",
    "toRedis(r,a0,'a0array')\n",
    "\n",
    "# Retrieve from Redis\n",
    "a1 = fromRedis(r,'a0array')"
   ]
  },
  {
   "cell_type": "code",
   "execution_count": null,
   "metadata": {},
   "outputs": [],
   "source": []
  }
 ],
 "metadata": {
  "kernelspec": {
   "display_name": "Python 3",
   "language": "python",
   "name": "python3"
  },
  "language_info": {
   "codemirror_mode": {
    "name": "ipython",
    "version": 3
   },
   "file_extension": ".py",
   "mimetype": "text/x-python",
   "name": "python",
   "nbconvert_exporter": "python",
   "pygments_lexer": "ipython3",
   "version": "3.6.6"
  }
 },
 "nbformat": 4,
 "nbformat_minor": 2
}

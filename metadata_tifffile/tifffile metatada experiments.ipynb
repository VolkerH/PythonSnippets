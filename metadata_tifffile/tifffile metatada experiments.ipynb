{
 "cells": [
  {
   "cell_type": "markdown",
   "metadata": {},
   "source": [
    "# Exploring how to extract various metadata from .tif files using `tifffile`"
   ]
  },
  {
   "cell_type": "code",
   "execution_count": 1,
   "metadata": {},
   "outputs": [],
   "source": [
    "import tifffile\n"
   ]
  },
  {
   "cell_type": "markdown",
   "metadata": {},
   "source": [
    "# Leica Matrix Screener `.ome.tif` file acquired on SP5"
   ]
  },
  {
   "cell_type": "code",
   "execution_count": 2,
   "metadata": {},
   "outputs": [],
   "source": [
    "mscreener = tifffile.TiffFile(\"C:/Users/Volker/Data/AndreAlves_Subset/chamber--U02--V05/field--X00--Y01/image--L0000--S00--U02--V05--J08--E00--O00--X00--Y01--T0000--Z01--C00.ome.tif\")"
   ]
  },
  {
   "cell_type": "code",
   "execution_count": 4,
   "metadata": {},
   "outputs": [
    {
     "data": {
      "text/plain": [
       "False"
      ]
     },
     "execution_count": 4,
     "metadata": {},
     "output_type": "execute_result"
    }
   ],
   "source": [
    "mscreener.pages.pages[0].is_lsm"
   ]
  },
  {
   "cell_type": "code",
   "execution_count": 5,
   "metadata": {},
   "outputs": [
    {
     "data": {
      "text/plain": [
       "True"
      ]
     },
     "execution_count": 5,
     "metadata": {},
     "output_type": "execute_result"
    }
   ],
   "source": [
    "mscreener.pages.pages[0].is_ome"
   ]
  },
  {
   "cell_type": "code",
   "execution_count": 6,
   "metadata": {},
   "outputs": [
    {
     "data": {
      "text/plain": [
       "{'Experiment': {'Description': 'Experiment',\n",
       "  'ExperimenterRef': {'ID': 'Experimenter:0'},\n",
       "  'Type': 'Other',\n",
       "  'ID': 'Experiment:0'},\n",
       " 'Experimenter': {'FirstName': 'Frank',\n",
       "  'LastName': 'Sieckmann',\n",
       "  'Email': 'Frank.Sieckmann@leica-microsystems.com',\n",
       "  'Institution': 'Leica Microsystems CMS GmbH',\n",
       "  'OMEName': 'Frank',\n",
       "  'GroupRef': {'ID': 'Group:0'},\n",
       "  'ID': 'Experimenter:0'},\n",
       " 'Group': {'Leader': {'ID': 'Experimenter:0'},\n",
       "  'Contact': {'ID': 'Experimenter:0'},\n",
       "  'ID': 'Group:0',\n",
       "  'Name': 'MatrixScreener Group'},\n",
       " 'Instrument': {'Microscope': {'Manufacturer': 'Leica Microsystems',\n",
       "   'Model': 'DMI6000 Turret',\n",
       "   'SerialNumber': 5100000872,\n",
       "   'Type': 'Unknown'},\n",
       "  'LightSource': {'Laser': {'Wavelength': 405,\n",
       "    'LaserMedium': 'Unknown',\n",
       "    'Type': 'Unknown'},\n",
       "   'ID': 'LightSource:0',\n",
       "   'Manufacturer': 'Leica Microsystems',\n",
       "   'Model': 'Unknown',\n",
       "   'SerialNumber': '',\n",
       "   'Power': 53.0000610388818},\n",
       "  'Detector': [{'ID': 'Detector:1',\n",
       "    'Manufacturer': 'Leica Microsystems',\n",
       "    'Model': 'PMT 1',\n",
       "    'Type': 'PMT',\n",
       "    'SerialNumber': '',\n",
       "    'Zoom': 1.70000113487319,\n",
       "    'Offset': 0.23333333333333,\n",
       "    'Voltage': 565.0,\n",
       "    'Gain': 565.0},\n",
       "   {'ID': 'Detector:2',\n",
       "    'Manufacturer': 'Leica Microsystems',\n",
       "    'Model': 'PMT 2',\n",
       "    'Type': 'PMT',\n",
       "    'SerialNumber': ''},\n",
       "   {'ID': 'Detector:3',\n",
       "    'Manufacturer': 'Leica Microsystems',\n",
       "    'Model': 'PMT 3',\n",
       "    'Type': 'PMT',\n",
       "    'SerialNumber': ''},\n",
       "   {'ID': 'Detector:4',\n",
       "    'Manufacturer': 'Leica Microsystems',\n",
       "    'Model': 'PMT 4',\n",
       "    'Type': 'PMT',\n",
       "    'SerialNumber': ''},\n",
       "   {'ID': 'Detector:100',\n",
       "    'Manufacturer': 'Leica Microsystems',\n",
       "    'Model': 'PMT Trans',\n",
       "    'Type': 'PMT',\n",
       "    'SerialNumber': ''}],\n",
       "  'Objective': {'Correction': 'Unknown',\n",
       "   'Immersion': 'Other',\n",
       "   'LensNA': 0,\n",
       "   'NominalMagnification': 20,\n",
       "   'CalibratedMagnification': 0,\n",
       "   'WorkingDistance': 0,\n",
       "   'ID': 'Objective:0',\n",
       "   'Manufacturer': 'Leica Microsystems',\n",
       "   'Model': 'N PLAN L  ',\n",
       "   'SerialNumber': 11506248},\n",
       "  'Filter': [{'TransmittanceRange': {'CutIn': 413,\n",
       "     'CutInTolerance': 0,\n",
       "     'CutOut': 465,\n",
       "     'CutOutTolerance': 0,\n",
       "     'Transmittance': 0.0},\n",
       "    'ID': 'Filter:0',\n",
       "    'Type': 'BandPass',\n",
       "    'FilterWheel': '',\n",
       "    'LotNumber': '',\n",
       "    'Manufacturer': 'Leica Microsystems',\n",
       "    'Model': ''},\n",
       "   {'TransmittanceRange': {'CutIn': 511,\n",
       "     'CutInTolerance': 0,\n",
       "     'CutOut': 564,\n",
       "     'CutOutTolerance': 0,\n",
       "     'Transmittance': 0.0},\n",
       "    'ID': 'Filter:1',\n",
       "    'Type': 'BandPass',\n",
       "    'FilterWheel': '',\n",
       "    'LotNumber': '',\n",
       "    'Manufacturer': 'Leica Microsystems',\n",
       "    'Model': ''},\n",
       "   {'TransmittanceRange': {'CutIn': 616,\n",
       "     'CutInTolerance': 0,\n",
       "     'CutOut': 669,\n",
       "     'CutOutTolerance': 0,\n",
       "     'Transmittance': 0.0},\n",
       "    'ID': 'Filter:2',\n",
       "    'Type': 'BandPass',\n",
       "    'FilterWheel': '',\n",
       "    'LotNumber': '',\n",
       "    'Manufacturer': 'Leica Microsystems',\n",
       "    'Model': ''},\n",
       "   {'TransmittanceRange': {'CutIn': 721,\n",
       "     'CutInTolerance': 0,\n",
       "     'CutOut': 774,\n",
       "     'CutOutTolerance': 0,\n",
       "     'Transmittance': 0.0},\n",
       "    'ID': 'Filter:3',\n",
       "    'Type': 'BandPass',\n",
       "    'FilterWheel': '',\n",
       "    'LotNumber': '',\n",
       "    'Manufacturer': 'Leica Microsystems',\n",
       "    'Model': ''}],\n",
       "  'ID': 'Instrument:0'},\n",
       " 'Image': {'CreationDate': '2018-12-10T13:15:47.591',\n",
       "  'ExperimenterRef': {'ID': 'Experimenter:0'},\n",
       "  'Description': 'D:\\\\My Data\\\\anog0002\\\\181210_Pilot\\\\4927\\\\experiment--2018_12_10_05_15_39\\\\slide--S00\\\\chamber--U02--V05\\\\field--X00--Y01\\\\image--L0000--S00--U02--V05--J08--E00--O00--X00--Y01--T0000--Z01--C00.ome.tif',\n",
       "  'ExperimentRef': {'ID': 'Experiment:0'},\n",
       "  'GroupRef': {'ID': 'Group:0'},\n",
       "  'InstrumentRef': {'ID': 'Instrument:0'},\n",
       "  'ObjectiveRef': {'ID': 'Objective:0', 'RefractiveIndex': 1.0},\n",
       "  'LogicalChannel': {'DetectorRef': {'ID': 'Detector:1',\n",
       "    'Offset': 0.23333333333333,\n",
       "    'Voltage': 565.0,\n",
       "    'Gain': 565.0,\n",
       "    'ReadOutRate': 8192000.0},\n",
       "   'ChannelComponent': {'Pixels': 'Pixels:0', 'Index': 0},\n",
       "   'ID': 'LogicalChannel:0',\n",
       "   'Name': '',\n",
       "   'SamplesPerPixel': 1,\n",
       "   'PinholeSize': 0.00012127157245,\n",
       "   'PhotometricInterpretation': 'ColorMap',\n",
       "   'Mode': 'Other'},\n",
       "  'Pixels': {'TiffData': {'UUID': {'FileName': 'image--L0000--S00--U00--V00--J00--E00--O00--X00--Y00--T0000--Z00--C00.ome.tif',\n",
       "     'value': 'urn:uuid:8ba158a3-fc33-11e8-8ac3-eccd6d63b66a'},\n",
       "    'FirstC': 0,\n",
       "    'FirstZ': 0},\n",
       "   'Plane': {'StagePosition': {'PositionX': 0.0445646255508,\n",
       "     'PositionY': 0.0667397769444},\n",
       "    'TheZ': 1,\n",
       "    'TheT': 0,\n",
       "    'TheC': 0},\n",
       "   'DimensionOrder': 'XYZCT',\n",
       "   'PixelType': 'uint8',\n",
       "   'BigEndian': False,\n",
       "   'SizeX': 1024,\n",
       "   'SizeY': 1024,\n",
       "   'SizeZ': 1,\n",
       "   'SizeC': 1,\n",
       "   'SizeT': 1,\n",
       "   'PhysicalSizeX': 0.44563245356794,\n",
       "   'PhysicalSizeY': 0.44563245356794,\n",
       "   'PhysicalSizeZ': 0.0,\n",
       "   'TimeIncrement': 0.0,\n",
       "   'ID': 'urn:lsid:loci.wisc.edu:Pixels:ows581'},\n",
       "  'ID': 'Image:0',\n",
       "  'Name': 'D:\\\\My Data\\\\anog0002\\\\181210_Pilot\\\\4927\\\\experiment--2018_12_10_05_15_39\\\\slide--S00\\\\chamber--U02--V05\\\\field--X00--Y01\\\\image--L0000--S00--U02--V05--J08--E00--O00--X00--Y01--T0000--Z01--C00.ome.tif',\n",
       "  'DefaultPixels': 'Pixels:0',\n",
       "  'AcquiredPixels': 'Pixels:0'},\n",
       " 'SemanticTypeDefinitions': {'SemanticType': {'Label': None,\n",
       "   'Element': [{'DBLocation': 'ORIGINAL_METADATA.NAME',\n",
       "     'DataType': 'string',\n",
       "     'Name': 'Name'},\n",
       "    {'DBLocation': 'ORIGINAL_METADATA.VALUE',\n",
       "     'DataType': 'string',\n",
       "     'Name': 'Value'}],\n",
       "   'AppliesTo': 'I',\n",
       "   'Name': 'OriginalMetadata'}},\n",
       " 'CustomAttributes': {'ScannerSettingRecord': {'Identifier': 'nAverageLine',\n",
       "   'Unit': '',\n",
       "   'Description': 'Line-Average',\n",
       "   'Data': 0,\n",
       "   'Variant': 1,\n",
       "   'VariantType': 3},\n",
       "  'FilterSettingRecord': [{'ObjectName': 'AOBS',\n",
       "    'ClassName': 'CAotf',\n",
       "    'Attribute': 'Intensity',\n",
       "    'Description': 'AOBS (0)',\n",
       "    'Data': 0,\n",
       "    'Variant': 0,\n",
       "    'VariantType': 5},\n",
       "   {'ObjectName': 'AOBS',\n",
       "    'ClassName': 'CAotf',\n",
       "    'Attribute': 'Intensity',\n",
       "    'Description': 'AOBS (1)',\n",
       "    'Data': 1,\n",
       "    'Variant': 0,\n",
       "    'VariantType': 5},\n",
       "   {'ObjectName': 'AOBS',\n",
       "    'ClassName': 'CAotf',\n",
       "    'Attribute': 'Intensity',\n",
       "    'Description': 'AOBS (2)',\n",
       "    'Data': 2,\n",
       "    'Variant': 0,\n",
       "    'VariantType': 5},\n",
       "   {'ObjectName': 'AOBS',\n",
       "    'ClassName': 'CAotf',\n",
       "    'Attribute': 'Intensity',\n",
       "    'Description': 'AOBS (3)',\n",
       "    'Data': 3,\n",
       "    'Variant': 0,\n",
       "    'VariantType': 5},\n",
       "   {'ObjectName': 'AOBS',\n",
       "    'ClassName': 'CAotf',\n",
       "    'Attribute': 'Intensity',\n",
       "    'Description': 'AOBS (4)',\n",
       "    'Data': 4,\n",
       "    'Variant': 0,\n",
       "    'VariantType': 5},\n",
       "   {'ObjectName': 'AOBS',\n",
       "    'ClassName': 'CAotf',\n",
       "    'Attribute': 'Intensity',\n",
       "    'Description': 'AOBS (5)',\n",
       "    'Data': 5,\n",
       "    'Variant': 0,\n",
       "    'VariantType': 5},\n",
       "   {'ObjectName': 'AOBS',\n",
       "    'ClassName': 'CAotf',\n",
       "    'Attribute': 'Intensity',\n",
       "    'Description': 'AOBS (6)',\n",
       "    'Data': 6,\n",
       "    'Variant': 0,\n",
       "    'VariantType': 5},\n",
       "   {'ObjectName': 'AOBS',\n",
       "    'ClassName': 'CAotf',\n",
       "    'Attribute': 'Intensity',\n",
       "    'Description': 'AOBS (7)',\n",
       "    'Data': 7,\n",
       "    'Variant': 0,\n",
       "    'VariantType': 5},\n",
       "   {'ObjectName': 'AOBSLow',\n",
       "    'ClassName': 'CAotf',\n",
       "    'Attribute': 'Intensity',\n",
       "    'Description': 'AOBS (0)',\n",
       "    'Data': 0,\n",
       "    'Variant': 0,\n",
       "    'VariantType': 5},\n",
       "   {'ObjectName': 'AOBSLow',\n",
       "    'ClassName': 'CAotf',\n",
       "    'Attribute': 'Intensity',\n",
       "    'Description': 'AOBS (1)',\n",
       "    'Data': 1,\n",
       "    'Variant': 0,\n",
       "    'VariantType': 5},\n",
       "   {'ObjectName': 'AOBSLow',\n",
       "    'ClassName': 'CAotf',\n",
       "    'Attribute': 'Intensity',\n",
       "    'Description': 'AOBS (2)',\n",
       "    'Data': 2,\n",
       "    'Variant': 0,\n",
       "    'VariantType': 5},\n",
       "   {'ObjectName': 'AOBSLow',\n",
       "    'ClassName': 'CAotf',\n",
       "    'Attribute': 'Intensity',\n",
       "    'Description': 'AOBS (3)',\n",
       "    'Data': 3,\n",
       "    'Variant': 0,\n",
       "    'VariantType': 5},\n",
       "   {'ObjectName': 'AOBSLow',\n",
       "    'ClassName': 'CAotf',\n",
       "    'Attribute': 'Intensity',\n",
       "    'Description': 'AOBS (4)',\n",
       "    'Data': 4,\n",
       "    'Variant': 0,\n",
       "    'VariantType': 5},\n",
       "   {'ObjectName': 'AOBSLow',\n",
       "    'ClassName': 'CAotf',\n",
       "    'Attribute': 'Intensity',\n",
       "    'Description': 'AOBS (5)',\n",
       "    'Data': 5,\n",
       "    'Variant': 0,\n",
       "    'VariantType': 5},\n",
       "   {'ObjectName': 'AOBSLow',\n",
       "    'ClassName': 'CAotf',\n",
       "    'Attribute': 'Intensity',\n",
       "    'Description': 'AOBS (6)',\n",
       "    'Data': 6,\n",
       "    'Variant': 0,\n",
       "    'VariantType': 5},\n",
       "   {'ObjectName': 'AOBSLow',\n",
       "    'ClassName': 'CAotf',\n",
       "    'Attribute': 'Intensity',\n",
       "    'Description': 'AOBS (7)',\n",
       "    'Data': 7,\n",
       "    'Variant': 0,\n",
       "    'VariantType': 5},\n",
       "   {'ObjectName': 'UV AOTF-1',\n",
       "    'ClassName': 'CAotf',\n",
       "    'Attribute': 'Intensity',\n",
       "    'Description': 'AOTF (405)',\n",
       "    'Data': 405,\n",
       "    'Variant': 53.0000610388818,\n",
       "    'VariantType': 5},\n",
       "   {'ObjectName': 'UV AOTF-1Low',\n",
       "    'ClassName': 'CAotf',\n",
       "    'Attribute': 'Intensity',\n",
       "    'Description': 'AOTF (405)',\n",
       "    'Data': 405,\n",
       "    'Variant': 0,\n",
       "    'VariantType': 5},\n",
       "   {'ObjectName': 'Visible AOTF-7',\n",
       "    'ClassName': 'CAotf',\n",
       "    'Attribute': 'Intensity',\n",
       "    'Description': 'AOTF (458)',\n",
       "    'Data': 458,\n",
       "    'Variant': 0,\n",
       "    'VariantType': 5},\n",
       "   {'ObjectName': 'Visible AOTF-7',\n",
       "    'ClassName': 'CAotf',\n",
       "    'Attribute': 'Intensity',\n",
       "    'Description': 'AOTF (476)',\n",
       "    'Data': 476,\n",
       "    'Variant': 0,\n",
       "    'VariantType': 5},\n",
       "   {'ObjectName': 'Visible AOTF-7',\n",
       "    'ClassName': 'CAotf',\n",
       "    'Attribute': 'Intensity',\n",
       "    'Description': 'AOTF (488)',\n",
       "    'Data': 488,\n",
       "    'Variant': 0,\n",
       "    'VariantType': 5},\n",
       "   {'ObjectName': 'Visible AOTF-7',\n",
       "    'ClassName': 'CAotf',\n",
       "    'Attribute': 'Intensity',\n",
       "    'Description': 'AOTF (496)',\n",
       "    'Data': 496,\n",
       "    'Variant': 0,\n",
       "    'VariantType': 5},\n",
       "   {'ObjectName': 'Visible AOTF-7',\n",
       "    'ClassName': 'CAotf',\n",
       "    'Attribute': 'Intensity',\n",
       "    'Description': 'AOTF (514)',\n",
       "    'Data': 514,\n",
       "    'Variant': 0,\n",
       "    'VariantType': 5},\n",
       "   {'ObjectName': 'Visible AOTF-7',\n",
       "    'ClassName': 'CAotf',\n",
       "    'Attribute': 'Intensity',\n",
       "    'Description': 'AOTF (561)',\n",
       "    'Data': 561,\n",
       "    'Variant': 0,\n",
       "    'VariantType': 5},\n",
       "   {'ObjectName': 'Visible AOTF-7',\n",
       "    'ClassName': 'CAotf',\n",
       "    'Attribute': 'Intensity',\n",
       "    'Description': 'AOTF (633)',\n",
       "    'Data': 633,\n",
       "    'Variant': 0,\n",
       "    'VariantType': 5},\n",
       "   {'ObjectName': 'Visible AOTF-7Low',\n",
       "    'ClassName': 'CAotf',\n",
       "    'Attribute': 'Intensity',\n",
       "    'Description': 'AOTF (458)',\n",
       "    'Data': 458,\n",
       "    'Variant': 0,\n",
       "    'VariantType': 5},\n",
       "   {'ObjectName': 'Visible AOTF-7Low',\n",
       "    'ClassName': 'CAotf',\n",
       "    'Attribute': 'Intensity',\n",
       "    'Description': 'AOTF (476)',\n",
       "    'Data': 476,\n",
       "    'Variant': 0,\n",
       "    'VariantType': 5},\n",
       "   {'ObjectName': 'Visible AOTF-7Low',\n",
       "    'ClassName': 'CAotf',\n",
       "    'Attribute': 'Intensity',\n",
       "    'Description': 'AOTF (488)',\n",
       "    'Data': 488,\n",
       "    'Variant': 0,\n",
       "    'VariantType': 5},\n",
       "   {'ObjectName': 'Visible AOTF-7Low',\n",
       "    'ClassName': 'CAotf',\n",
       "    'Attribute': 'Intensity',\n",
       "    'Description': 'AOTF (496)',\n",
       "    'Data': 496,\n",
       "    'Variant': 0,\n",
       "    'VariantType': 5},\n",
       "   {'ObjectName': 'Visible AOTF-7Low',\n",
       "    'ClassName': 'CAotf',\n",
       "    'Attribute': 'Intensity',\n",
       "    'Description': 'AOTF (514)',\n",
       "    'Data': 514,\n",
       "    'Variant': 0,\n",
       "    'VariantType': 5},\n",
       "   {'ObjectName': 'Visible AOTF-7Low',\n",
       "    'ClassName': 'CAotf',\n",
       "    'Attribute': 'Intensity',\n",
       "    'Description': 'AOTF (561)',\n",
       "    'Data': 561,\n",
       "    'Variant': 0,\n",
       "    'VariantType': 5},\n",
       "   {'ObjectName': 'Visible AOTF-7Low',\n",
       "    'ClassName': 'CAotf',\n",
       "    'Attribute': 'Intensity',\n",
       "    'Description': 'AOTF (633)',\n",
       "    'Data': 633,\n",
       "    'Variant': 0,\n",
       "    'VariantType': 5},\n",
       "   {'ObjectName': 'Galvo Slider',\n",
       "    'ClassName': 'CFilterWheel',\n",
       "    'Attribute': 'Filter',\n",
       "    'Description': 'Galvo Slider',\n",
       "    'Data': 0,\n",
       "    'Variant': 'Galvo X Res ',\n",
       "    'VariantType': 8},\n",
       "   {'ObjectName': 'Reson. Galvo Pan',\n",
       "    'ClassName': 'CFilterWheel',\n",
       "    'Attribute': 'Filter',\n",
       "    'Description': 'Reson. Galvo Pan',\n",
       "    'Data': 0,\n",
       "    'Variant': 'Galvo X Pan Center ',\n",
       "    'VariantType': 8},\n",
       "   {'ObjectName': 'Target Slider',\n",
       "    'ClassName': 'CFilterWheel',\n",
       "    'Attribute': 'Filter',\n",
       "    'Description': 'Target Slider',\n",
       "    'Data': 0,\n",
       "    'Variant': 'Target Park ',\n",
       "    'VariantType': 8},\n",
       "   {'ObjectName': 'UV Lens FW',\n",
       "    'ClassName': 'CFilterWheel',\n",
       "    'Attribute': 'Filter',\n",
       "    'Description': 'UV Lens FW',\n",
       "    'Data': 0,\n",
       "    'Variant': 'Lens 63x/1.4 Oil ',\n",
       "    'VariantType': 8}]},\n",
       " 'StructuredAnnotations': None,\n",
       " '{http://www.w3.org/2001/XMLSchema-instance}schemaLocation': 'http://www.openmicroscopy.org/Schemas/OME/2008-09 http://www.openmicroscopy.org/Schemas/OME/2008-09/ome.xsd http://www.openmicroscopy.org/Schemas/BinaryFile/2008-09 http://www.openmicroscopy.org/Schemas/BinaryFile/2008-09/BinaryFile.xsd http://www.openmicroscopy.org/Schemas/CA/2008-09 http://www.openmicroscopy.org/Schemas/CA/2008-09/CA.xsd http://www.openmicroscopy.org/Schemas/SPW/2008-09 http://www.openmicroscopy.org/Schemas/SPW/2008-09/SPW.xsd http://www.openmicroscopy.org/Schemas/STD/2008-09 http://www.openmicroscopy.org/Schemas/STD/2008-09/STD.xsd',\n",
       " 'UUID': 'urn:uuid:b474ab96-fc7d-11e8-8ac3-eccd6d63b66a'}"
      ]
     },
     "execution_count": 6,
     "metadata": {},
     "output_type": "execute_result"
    }
   ],
   "source": [
    "mscreener.ome_metadata"
   ]
  },
  {
   "cell_type": "markdown",
   "metadata": {},
   "source": [
    "# 3i Lattice Lightsheet operated and capturing with Janelia Labview software"
   ]
  },
  {
   "cell_type": "code",
   "execution_count": 7,
   "metadata": {},
   "outputs": [
    {
     "name": "stderr",
     "output_type": "stream",
     "text": [
      "c:\\users\\volker\\anaconda3\\envs\\spimenv\\lib\\site-packages\\tifffile\\tifffile.py:4267: UserWarning: tag 32781: coercing invalid ASCII to bytes\n",
      "  warnings.warn('tag %i: coercing invalid ASCII to bytes' % code)\n"
     ]
    }
   ],
   "source": [
    "lls = tifffile.TiffFile(\"C:/Users/Volker/Dropbox/Github/Lattice_Lightsheet_Deskew_Deconv/testset/drp1_dendra2_test_1_CamA_ch0_stack0000_488nm_0000000msec_0018218290msecAbs.tif\")"
   ]
  },
  {
   "cell_type": "markdown",
   "metadata": {},
   "source": [
    "Note that we already got a warning about tiff tag 32781 being malformed ..."
   ]
  },
  {
   "cell_type": "code",
   "execution_count": 10,
   "metadata": {},
   "outputs": [
    {
     "data": {
      "text/plain": [
       "[<tifffile.tifffile.TiffPage at 0x2e4d3b76a58>]"
      ]
     },
     "execution_count": 10,
     "metadata": {},
     "output_type": "execute_result"
    }
   ],
   "source": [
    "lls.pages.pages"
   ]
  },
  {
   "cell_type": "code",
   "execution_count": 13,
   "metadata": {},
   "outputs": [],
   "source": [
    "tags = lls.pages.pages[0].tags"
   ]
  },
  {
   "cell_type": "code",
   "execution_count": 14,
   "metadata": {},
   "outputs": [
    {
     "name": "stdout",
     "output_type": "stream",
     "text": [
      "ImageWidth: TiffTag 256 ImageWidth  1H @278928  256\n",
      "ImageLength: TiffTag 257 ImageLength  1H @278928  512\n",
      "BitsPerSample: TiffTag 258 BitsPerSample  1H @278928  16\n",
      "Compression: TiffTag 259 Compression  1H @278928  NONE\n",
      "PhotometricInterpretation: TiffTag 262 PhotometricInterpretation  1H @278928  MINISBLACK\n",
      "FillOrder: TiffTag 266 FillOrder  1H @278928  MSB2LSB\n",
      "StripOffsets: TiffTag 273 StripOffsets  1I @278928  (16558,)\n",
      "Orientation: TiffTag 274 Orientation  1H @278928  TOPLEFT\n",
      "SamplesPerPixel: TiffTag 277 SamplesPerPixel  1H @278928  1\n",
      "RowsPerStrip: TiffTag 278 RowsPerStrip  1H @278928  512\n",
      "StripByteCounts: TiffTag 279 StripByteCounts  1I @278928  (262144,)\n",
      "XResolution: TiffTag 282 XResolution  2I @278924  (1073741824, 1073741824)\n",
      "YResolution: TiffTag 283 YResolution  2I @278932  (1073741824, 1073741824)\n",
      "PlanarConfiguration: TiffTag 284 PlanarConfiguration  1H @278948  CONTIG\n",
      "ResolutionUnit: TiffTag 296 ResolutionUnit  1H @278948  NONE\n",
      "Software: TiffTag 305 Software  29s @278940  National Instruments IMAQ\n",
      "ImageID: TiffTag 32781 ImageID  16550B @8  00 00 00 02 00 00 00 0a 00 00 00 08 41 6e 61 \n",
      "ImageDescription: TiffTag 270 ImageDescription  47s @278969  BoundingBox 0 26.102362 0 52.307087 \n"
     ]
    }
   ],
   "source": [
    "for t in tags:\n",
    "    print(f\"{t}: {tags[t]}\")"
   ]
  },
  {
   "cell_type": "code",
   "execution_count": 16,
   "metadata": {},
   "outputs": [
    {
     "data": {
      "text/plain": [
       "512"
      ]
     },
     "execution_count": 16,
     "metadata": {},
     "output_type": "execute_result"
    }
   ],
   "source": [
    "lls.pages.pages[0].imagelength"
   ]
  },
  {
   "cell_type": "code",
   "execution_count": 17,
   "metadata": {},
   "outputs": [
    {
     "data": {
      "text/plain": [
       "256"
      ]
     },
     "execution_count": 17,
     "metadata": {},
     "output_type": "execute_result"
    }
   ],
   "source": [
    "lls.pages.pages[0].imagewidth"
   ]
  },
  {
   "cell_type": "code",
   "execution_count": 18,
   "metadata": {},
   "outputs": [
    {
     "data": {
      "text/plain": [
       "1"
      ]
     },
     "execution_count": 18,
     "metadata": {},
     "output_type": "execute_result"
    }
   ],
   "source": [
    "lls.pages.pages[0].imagedepth"
   ]
  },
  {
   "cell_type": "code",
   "execution_count": 21,
   "metadata": {},
   "outputs": [
    {
     "data": {
      "text/plain": [
       "(76, 512, 256)"
      ]
     },
     "execution_count": 21,
     "metadata": {},
     "output_type": "execute_result"
    }
   ],
   "source": [
    "lls.asarray().shape"
   ]
  },
  {
   "cell_type": "code",
   "execution_count": null,
   "metadata": {},
   "outputs": [],
   "source": []
  }
 ],
 "metadata": {
  "kernelspec": {
   "display_name": "Python 3",
   "language": "python",
   "name": "python3"
  },
  "language_info": {
   "codemirror_mode": {
    "name": "ipython",
    "version": 3
   },
   "file_extension": ".py",
   "mimetype": "text/x-python",
   "name": "python",
   "nbconvert_exporter": "python",
   "pygments_lexer": "ipython3",
   "version": "3.6.6"
  }
 },
 "nbformat": 4,
 "nbformat_minor": 2
}

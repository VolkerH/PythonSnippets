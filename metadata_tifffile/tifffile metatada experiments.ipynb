{
 "cells": [
  {
   "cell_type": "markdown",
   "metadata": {},
   "source": [
    "# Code snippets for accessing and saving various metadata from/to  `.tif` files using `tifffile`"
   ]
  },
  {
   "cell_type": "code",
   "execution_count": 2,
   "metadata": {},
   "outputs": [],
   "source": [
    "import tifffile"
   ]
  },
  {
   "cell_type": "markdown",
   "metadata": {},
   "source": [
    "# Leica Matrix Screener `.ome.tif` file acquired on SP5"
   ]
  },
  {
   "cell_type": "code",
   "execution_count": 2,
   "metadata": {},
   "outputs": [],
   "source": [
    "mscreener = tifffile.TiffFile(\"C:/Users/Volker/Data/AndreAlves_Subset/chamber--U02--V05/field--X00--Y01/image--L0000--S00--U02--V05--J08--E00--O00--X00--Y01--T0000--Z01--C00.ome.tif\")"
   ]
  },
  {
   "cell_type": "code",
   "execution_count": 3,
   "metadata": {},
   "outputs": [
    {
     "data": {
      "text/plain": [
       "False"
      ]
     },
     "execution_count": 3,
     "metadata": {},
     "output_type": "execute_result"
    }
   ],
   "source": [
    "mscreener.pages.pages[0].is_lsm"
   ]
  },
  {
   "cell_type": "code",
   "execution_count": 4,
   "metadata": {},
   "outputs": [
    {
     "data": {
      "text/plain": [
       "True"
      ]
     },
     "execution_count": 4,
     "metadata": {},
     "output_type": "execute_result"
    }
   ],
   "source": [
    "mscreener.pages.pages[0].is_ome"
   ]
  },
  {
   "cell_type": "code",
   "execution_count": 5,
   "metadata": {},
   "outputs": [
    {
     "data": {
      "text/plain": [
       "'<?xml version=\"1.0\" encoding=\"UTF-8\" standalone=\"no\"?><!-- Warning: this comment is an OME-XML metadata block, which contains crucial dimensional parameters and other important metadata. Please edit cautiously (if at all), and back up the original data before doing so. For more information, see the OME-TIFF web site: http://loci.wisc.edu/ome/ome-tiff.html. --><OME xmlns:xs=\"http://www.w3.org/2001/XMLSchema\" xmlns=\"http://www.openmicroscopy.org/Schemas/OME/2008-09\" xmlns:Bin=\"http://www.openmicroscopy.org/Schemas/BinaryFile/2008-09\" xmlns:CA=\"http://www.openmicroscopy.org/Schemas/CA/2008-09\" xmlns:SA=\"http://www.openmicroscopy.org/Schemas/SA/2008-09\" xmlns:SPW=\"http://www.openmicroscopy.org/Schemas/SPW/2008-09\" xmlns:STD=\"http://www.openmicroscopy.org/Schemas/STD/2008-09\" xmlns:xsi=\"http://www.w3.org/2001/XMLSchema-instance\" xsi:schemaLocation=\"http://www.openmicroscopy.org/Schemas/OME/2008-09 http://www.openmicroscopy.org/Schemas/OME/2008-09/ome.xsd http://www.openmicroscopy.org/Schemas/BinaryFile/2008-09 http://www.openmicroscopy.org/Schemas/BinaryFile/2008-09/BinaryFile.xsd http://www.openmicroscopy.org/Schemas/CA/2008-09 http://www.openmicroscopy.org/Schemas/CA/2008-09/CA.xsd http://www.openmicroscopy.org/Schemas/SPW/2008-09 http://www.openmicroscopy.org/Schemas/SPW/2008-09/SPW.xsd http://www.openmicroscopy.org/Schemas/STD/2008-09 http://www.openmicroscopy.org/Schemas/STD/2008-09/STD.xsd\" UUID=\"urn:uuid:b474ab96-fc7d-11e8-8ac3-eccd6d63b66a\"><Experiment Type=\"Other\" ID=\"Experiment:0\"><Description>Experiment</Description><ExperimenterRef ID=\"Experimenter:0\"/></Experiment><Experimenter ID=\"Experimenter:0\"><FirstName>Frank</FirstName><LastName>Sieckmann</LastName><Email>Frank.Sieckmann@leica-microsystems.com</Email><Institution>Leica Microsystems CMS GmbH</Institution><OMEName>Frank</OMEName><GroupRef ID=\"Group:0\"/></Experimenter><Group ID=\"Group:0\" Name=\"MatrixScreener Group\"><Leader ID=\"Experimenter:0\"/><Contact ID=\"Experimenter:0\"/></Group><Instrument ID=\"Instrument:0\"><Microscope Manufacturer=\"Leica Microsystems\" Model=\"DMI6000 Turret\" SerialNumber=\"5100000872\" Type=\"Unknown\"/><LightSource ID=\"LightSource:0\" Manufacturer=\"Leica Microsystems\" Model=\"Unknown\" SerialNumber=\"\" Power=\"0.5300006103888180E2\"><Laser Wavelength=\"405\" LaserMedium=\"Unknown\" Type=\"Unknown\"/></LightSource><Detector ID=\"Detector:1\" Manufacturer=\"Leica Microsystems\" Model=\"PMT 1\" Type=\"PMT\" SerialNumber=\"\" Zoom=\"0.170000113487319E1\" Offset=\"0.23333333333333E0\" Voltage=\"0.56500000000000000E3\" Gain=\"0.56500000000000000E3\"/><Detector ID=\"Detector:2\" Manufacturer=\"Leica Microsystems\" Model=\"PMT 2\" Type=\"PMT\" SerialNumber=\"\"/><Detector ID=\"Detector:3\" Manufacturer=\"Leica Microsystems\" Model=\"PMT 3\" Type=\"PMT\" SerialNumber=\"\"/><Detector ID=\"Detector:4\" Manufacturer=\"Leica Microsystems\" Model=\"PMT 4\" Type=\"PMT\" SerialNumber=\"\"/><Detector ID=\"Detector:100\" Manufacturer=\"Leica Microsystems\" Model=\"PMT Trans\" Type=\"PMT\" SerialNumber=\"\"/><Objective ID=\"Objective:0\" Manufacturer=\"Leica Microsystems\" Model=\"N PLAN L  \" SerialNumber=\"11506248\"><Correction>Unknown</Correction><Immersion>Other</Immersion><LensNA>0.35000000000000E0</LensNA><NominalMagnification>20</NominalMagnification><CalibratedMagnification>0.0</CalibratedMagnification><WorkingDistance>0.0</WorkingDistance></Objective><Filter ID=\"Filter:0\" Type=\"BandPass\" FilterWheel=\"\" LotNumber=\"\" Manufacturer=\"Leica Microsystems\" Model=\"\"><TransmittanceRange CutIn=\"413\" CutInTolerance=\"0\" CutOut=\"465\" CutOutTolerance=\"0\" Transmittance=\"0.0\"/></Filter><Filter ID=\"Filter:1\" Type=\"BandPass\" FilterWheel=\"\" LotNumber=\"\" Manufacturer=\"Leica Microsystems\" Model=\"\"><TransmittanceRange CutIn=\"511\" CutInTolerance=\"0\" CutOut=\"564\" CutOutTolerance=\"0\" Transmittance=\"0.0\"/></Filter><Filter ID=\"Filter:2\" Type=\"BandPass\" FilterWheel=\"\" LotNumber=\"\" Manufacturer=\"Leica Microsystems\" Model=\"\"><TransmittanceRange CutIn=\"616\" CutInTolerance=\"0\" CutOut=\"669\" CutOutTolerance=\"0\" Transmittance=\"0.0\"/></Filter><Filter ID=\"Filter:3\" Type=\"BandPass\" FilterWheel=\"\" LotNumber=\"\" Manufacturer=\"Leica Microsystems\" Model=\"\"><TransmittanceRange CutIn=\"721\" CutInTolerance=\"0\" CutOut=\"774\" CutOutTolerance=\"0\" Transmittance=\"0.0\"/></Filter></Instrument><Image ID=\"Image:0\" Name=\"D:\\\\My Data\\\\anog0002\\\\181210_Pilot\\\\4927\\\\experiment--2018_12_10_05_15_39\\\\slide--S00\\\\chamber--U02--V05\\\\field--X00--Y01\\\\image--L0000--S00--U02--V05--J08--E00--O00--X00--Y01--T0000--Z01--C00.ome.tif\" DefaultPixels=\"Pixels:0\" AcquiredPixels=\"Pixels:0\"><CreationDate>2018-12-10T13:15:47.591</CreationDate><ExperimenterRef ID=\"Experimenter:0\"/><Description>D:\\\\My Data\\\\anog0002\\\\181210_Pilot\\\\4927\\\\experiment--2018_12_10_05_15_39\\\\slide--S00\\\\chamber--U02--V05\\\\field--X00--Y01\\\\image--L0000--S00--U02--V05--J08--E00--O00--X00--Y01--T0000--Z01--C00.ome.tif</Description><ExperimentRef ID=\"Experiment:0\"/><GroupRef ID=\"Group:0\"/><InstrumentRef ID=\"Instrument:0\"/><ObjectiveRef ID=\"Objective:0\" RefractiveIndex=\"0.100000000000000E1\"/><LogicalChannel ID=\"LogicalChannel:0\" Name=\"\" SamplesPerPixel=\"1\" PinholeSize=\"0.12127157245E-3\" PhotometricInterpretation=\"ColorMap\" Mode=\"Other\"><DetectorRef ID=\"Detector:1\" Offset=\"0.23333333333333E0\" Voltage=\"0.56500000000000000E3\" Gain=\"0.56500000000000000E3\" ReadOutRate=\"0.819200000000000000000E7\"/><ChannelComponent Pixels=\"Pixels:0\" Index=\"0\"/></LogicalChannel><Pixels DimensionOrder=\"XYZCT\" PixelType=\"uint8\" BigEndian=\"false\" SizeX=\"1024\" SizeY=\"1024\" SizeZ=\"1\" SizeC=\"1\" SizeT=\"1\" PhysicalSizeX=\"0.44563245356794E0\" PhysicalSizeY=\"0.44563245356794E0\" PhysicalSizeZ=\"0.0\" TimeIncrement=\"0.0\" ID=\"urn:lsid:loci.wisc.edu:Pixels:ows581\"><TiffData FirstC=\"0\" FirstZ=\"0\"><UUID FileName=\"image--L0000--S00--U00--V00--J00--E00--O00--X00--Y00--T0000--Z00--C00.ome.tif\">urn:uuid:8ba158a3-fc33-11e8-8ac3-eccd6d63b66a</UUID></TiffData><Plane TheZ=\"1\" TheT=\"0\" TheC=\"0\"><StagePosition PositionX=\"0.4456462555080E-1\" PositionY=\"0.6673977694440E-1\"/></Plane></Pixels></Image><SemanticTypeDefinitions xmlns=\"http://www.openmicroscopy.org/Schemas/STD/2008-09\">\\n<SemanticType xmlns=\"http://www.openmicroscopy.org/Schemas/STD/2008-09\" AppliesTo=\"I\" Name=\"OriginalMetadata\"><Label xmlns=\"http://www.openmicroscopy.org/Schemas/STD/2008-09\"/><Element xmlns=\"http://www.openmicroscopy.org/Schemas/STD/2008-09\" DBLocation=\"ORIGINAL_METADATA.NAME\" DataType=\"string\" Name=\"Name\"/><Element xmlns=\"http://www.openmicroscopy.org/Schemas/STD/2008-09\" DBLocation=\"ORIGINAL_METADATA.VALUE\" DataType=\"string\" Name=\"Value\"/></SemanticType>\\n</SemanticTypeDefinitions>\\n<CustomAttributes xmlns=\"http://www.openmicroscopy.org/Schemas/CA/2008-09\">\\n<ScannerSettingRecord Identifier=\"nAverageLine\" Unit=\"\" Description=\"Line-Average\" Data=\"0\" Variant=\"1\" VariantType=\"3\" />\\n<FilterSettingRecord ObjectName=\"AOBS\" ClassName=\"CAotf\" Attribute=\"Intensity\" Description=\"AOBS (0)\" Data=\"0\" Variant=\"0\" VariantType=\"5\" />\\n<FilterSettingRecord ObjectName=\"AOBS\" ClassName=\"CAotf\" Attribute=\"Intensity\" Description=\"AOBS (1)\" Data=\"1\" Variant=\"0\" VariantType=\"5\" />\\n<FilterSettingRecord ObjectName=\"AOBS\" ClassName=\"CAotf\" Attribute=\"Intensity\" Description=\"AOBS (2)\" Data=\"2\" Variant=\"0\" VariantType=\"5\" />\\n<FilterSettingRecord ObjectName=\"AOBS\" ClassName=\"CAotf\" Attribute=\"Intensity\" Description=\"AOBS (3)\" Data=\"3\" Variant=\"0\" VariantType=\"5\" />\\n<FilterSettingRecord ObjectName=\"AOBS\" ClassName=\"CAotf\" Attribute=\"Intensity\" Description=\"AOBS (4)\" Data=\"4\" Variant=\"0\" VariantType=\"5\" />\\n<FilterSettingRecord ObjectName=\"AOBS\" ClassName=\"CAotf\" Attribute=\"Intensity\" Description=\"AOBS (5)\" Data=\"5\" Variant=\"0\" VariantType=\"5\" />\\n<FilterSettingRecord ObjectName=\"AOBS\" ClassName=\"CAotf\" Attribute=\"Intensity\" Description=\"AOBS (6)\" Data=\"6\" Variant=\"0\" VariantType=\"5\" />\\n<FilterSettingRecord ObjectName=\"AOBS\" ClassName=\"CAotf\" Attribute=\"Intensity\" Description=\"AOBS (7)\" Data=\"7\" Variant=\"0\" VariantType=\"5\" />\\n<FilterSettingRecord ObjectName=\"AOBSLow\" ClassName=\"CAotf\" Attribute=\"Intensity\" Description=\"AOBS (0)\" Data=\"0\" Variant=\"0\" VariantType=\"5\" />\\n<FilterSettingRecord ObjectName=\"AOBSLow\" ClassName=\"CAotf\" Attribute=\"Intensity\" Description=\"AOBS (1)\" Data=\"1\" Variant=\"0\" VariantType=\"5\" />\\n<FilterSettingRecord ObjectName=\"AOBSLow\" ClassName=\"CAotf\" Attribute=\"Intensity\" Description=\"AOBS (2)\" Data=\"2\" Variant=\"0\" VariantType=\"5\" />\\n<FilterSettingRecord ObjectName=\"AOBSLow\" ClassName=\"CAotf\" Attribute=\"Intensity\" Description=\"AOBS (3)\" Data=\"3\" Variant=\"0\" VariantType=\"5\" />\\n<FilterSettingRecord ObjectName=\"AOBSLow\" ClassName=\"CAotf\" Attribute=\"Intensity\" Description=\"AOBS (4)\" Data=\"4\" Variant=\"0\" VariantType=\"5\" />\\n<FilterSettingRecord ObjectName=\"AOBSLow\" ClassName=\"CAotf\" Attribute=\"Intensity\" Description=\"AOBS (5)\" Data=\"5\" Variant=\"0\" VariantType=\"5\" />\\n<FilterSettingRecord ObjectName=\"AOBSLow\" ClassName=\"CAotf\" Attribute=\"Intensity\" Description=\"AOBS (6)\" Data=\"6\" Variant=\"0\" VariantType=\"5\" />\\n<FilterSettingRecord ObjectName=\"AOBSLow\" ClassName=\"CAotf\" Attribute=\"Intensity\" Description=\"AOBS (7)\" Data=\"7\" Variant=\"0\" VariantType=\"5\" />\\n<FilterSettingRecord ObjectName=\"UV AOTF-1\" ClassName=\"CAotf\" Attribute=\"Intensity\" Description=\"AOTF (405)\" Data=\"405\" Variant=\"53.0000610388818\" VariantType=\"5\" />\\n<FilterSettingRecord ObjectName=\"UV AOTF-1Low\" ClassName=\"CAotf\" Attribute=\"Intensity\" Description=\"AOTF (405)\" Data=\"405\" Variant=\"0\" VariantType=\"5\" />\\n<FilterSettingRecord ObjectName=\"Visible AOTF-7\" ClassName=\"CAotf\" Attribute=\"Intensity\" Description=\"AOTF (458)\" Data=\"458\" Variant=\"0\" VariantType=\"5\" />\\n<FilterSettingRecord ObjectName=\"Visible AOTF-7\" ClassName=\"CAotf\" Attribute=\"Intensity\" Description=\"AOTF (476)\" Data=\"476\" Variant=\"0\" VariantType=\"5\" />\\n<FilterSettingRecord ObjectName=\"Visible AOTF-7\" ClassName=\"CAotf\" Attribute=\"Intensity\" Description=\"AOTF (488)\" Data=\"488\" Variant=\"0\" VariantType=\"5\" />\\n<FilterSettingRecord ObjectName=\"Visible AOTF-7\" ClassName=\"CAotf\" Attribute=\"Intensity\" Description=\"AOTF (496)\" Data=\"496\" Variant=\"0\" VariantType=\"5\" />\\n<FilterSettingRecord ObjectName=\"Visible AOTF-7\" ClassName=\"CAotf\" Attribute=\"Intensity\" Description=\"AOTF (514)\" Data=\"514\" Variant=\"0\" VariantType=\"5\" />\\n<FilterSettingRecord ObjectName=\"Visible AOTF-7\" ClassName=\"CAotf\" Attribute=\"Intensity\" Description=\"AOTF (561)\" Data=\"561\" Variant=\"0\" VariantType=\"5\" />\\n<FilterSettingRecord ObjectName=\"Visible AOTF-7\" ClassName=\"CAotf\" Attribute=\"Intensity\" Description=\"AOTF (633)\" Data=\"633\" Variant=\"0\" VariantType=\"5\" />\\n<FilterSettingRecord ObjectName=\"Visible AOTF-7Low\" ClassName=\"CAotf\" Attribute=\"Intensity\" Description=\"AOTF (458)\" Data=\"458\" Variant=\"0\" VariantType=\"5\" />\\n<FilterSettingRecord ObjectName=\"Visible AOTF-7Low\" ClassName=\"CAotf\" Attribute=\"Intensity\" Description=\"AOTF (476)\" Data=\"476\" Variant=\"0\" VariantType=\"5\" />\\n<FilterSettingRecord ObjectName=\"Visible AOTF-7Low\" ClassName=\"CAotf\" Attribute=\"Intensity\" Description=\"AOTF (488)\" Data=\"488\" Variant=\"0\" VariantType=\"5\" />\\n<FilterSettingRecord ObjectName=\"Visible AOTF-7Low\" ClassName=\"CAotf\" Attribute=\"Intensity\" Description=\"AOTF (496)\" Data=\"496\" Variant=\"0\" VariantType=\"5\" />\\n<FilterSettingRecord ObjectName=\"Visible AOTF-7Low\" ClassName=\"CAotf\" Attribute=\"Intensity\" Description=\"AOTF (514)\" Data=\"514\" Variant=\"0\" VariantType=\"5\" />\\n<FilterSettingRecord ObjectName=\"Visible AOTF-7Low\" ClassName=\"CAotf\" Attribute=\"Intensity\" Description=\"AOTF (561)\" Data=\"561\" Variant=\"0\" VariantType=\"5\" />\\n<FilterSettingRecord ObjectName=\"Visible AOTF-7Low\" ClassName=\"CAotf\" Attribute=\"Intensity\" Description=\"AOTF (633)\" Data=\"633\" Variant=\"0\" VariantType=\"5\" />\\n<FilterSettingRecord ObjectName=\"Galvo Slider\" ClassName=\"CFilterWheel\" Attribute=\"Filter\" Description=\"Galvo Slider\" Data=\"0\" Variant=\"Galvo X Res \" VariantType=\"8\" />\\n<FilterSettingRecord ObjectName=\"Reson. Galvo Pan\" ClassName=\"CFilterWheel\" Attribute=\"Filter\" Description=\"Reson. Galvo Pan\" Data=\"0\" Variant=\"Galvo X Pan Center \" VariantType=\"8\" />\\n<FilterSettingRecord ObjectName=\"Target Slider\" ClassName=\"CFilterWheel\" Attribute=\"Filter\" Description=\"Target Slider\" Data=\"0\" Variant=\"Target Park \" VariantType=\"8\" />\\n<FilterSettingRecord ObjectName=\"UV Lens FW\" ClassName=\"CFilterWheel\" Attribute=\"Filter\" Description=\"UV Lens FW\" Data=\"0\" Variant=\"Lens 63x/1.4 Oil \" VariantType=\"8\" />\\n</CustomAttributes>\\n<StructuredAnnotations xmlns=\"http://www.openmicroscopy.org/Schemas/SA/2008-09\"/></OME>'"
      ]
     },
     "execution_count": 5,
     "metadata": {},
     "output_type": "execute_result"
    }
   ],
   "source": [
    "mscreener.ome_metadata"
   ]
  },
  {
   "cell_type": "markdown",
   "metadata": {},
   "source": [
    "So the above is a string reprentation of an `.xml` file. If you `pip install xmltodict` you can parse this into nested dictionaries."
   ]
  },
  {
   "cell_type": "code",
   "execution_count": 8,
   "metadata": {},
   "outputs": [
    {
     "data": {
      "text/plain": [
       "odict_keys(['OME'])"
      ]
     },
     "execution_count": 8,
     "metadata": {},
     "output_type": "execute_result"
    }
   ],
   "source": [
    "import xmltodict\n",
    "leica_dict = xmltodict.parse(mscreener.ome_metadata)\n",
    "leica_dict.keys()"
   ]
  },
  {
   "cell_type": "code",
   "execution_count": 10,
   "metadata": {},
   "outputs": [
    {
     "data": {
      "text/plain": [
       "odict_keys(['@xmlns:xs', '@xmlns', '@xmlns:Bin', '@xmlns:CA', '@xmlns:SA', '@xmlns:SPW', '@xmlns:STD', '@xmlns:xsi', '@xsi:schemaLocation', '@UUID', 'Experiment', 'Experimenter', 'Group', 'Instrument', 'Image', 'SemanticTypeDefinitions', 'CustomAttributes', 'StructuredAnnotations'])"
      ]
     },
     "execution_count": 10,
     "metadata": {},
     "output_type": "execute_result"
    }
   ],
   "source": [
    "leica_dict['OME'].keys()"
   ]
  },
  {
   "cell_type": "code",
   "execution_count": 14,
   "metadata": {},
   "outputs": [
    {
     "data": {
      "text/plain": [
       "odict_keys(['@xmlns:xs', '@xmlns', '@xmlns:Bin', '@xmlns:CA', '@xmlns:SA', '@xmlns:SPW', '@xmlns:STD', '@xmlns:xsi', '@xsi:schemaLocation', '@UUID', 'Experiment', 'Experimenter', 'Group', 'Instrument', 'Image', 'SemanticTypeDefinitions', 'CustomAttributes', 'StructuredAnnotations'])"
      ]
     },
     "execution_count": 14,
     "metadata": {},
     "output_type": "execute_result"
    }
   ],
   "source": [
    "leica_dict['OME'].keys()"
   ]
  },
  {
   "cell_type": "code",
   "execution_count": 15,
   "metadata": {},
   "outputs": [
    {
     "data": {
      "text/plain": [
       "OrderedDict([('@DimensionOrder', 'XYZCT'),\n",
       "             ('@PixelType', 'uint8'),\n",
       "             ('@BigEndian', 'false'),\n",
       "             ('@SizeX', '1024'),\n",
       "             ('@SizeY', '1024'),\n",
       "             ('@SizeZ', '1'),\n",
       "             ('@SizeC', '1'),\n",
       "             ('@SizeT', '1'),\n",
       "             ('@PhysicalSizeX', '0.44563245356794E0'),\n",
       "             ('@PhysicalSizeY', '0.44563245356794E0'),\n",
       "             ('@PhysicalSizeZ', '0.0'),\n",
       "             ('@TimeIncrement', '0.0'),\n",
       "             ('@ID', 'urn:lsid:loci.wisc.edu:Pixels:ows581'),\n",
       "             ('TiffData',\n",
       "              OrderedDict([('@FirstC', '0'),\n",
       "                           ('@FirstZ', '0'),\n",
       "                           ('UUID',\n",
       "                            OrderedDict([('@FileName',\n",
       "                                          'image--L0000--S00--U00--V00--J00--E00--O00--X00--Y00--T0000--Z00--C00.ome.tif'),\n",
       "                                         ('#text',\n",
       "                                          'urn:uuid:8ba158a3-fc33-11e8-8ac3-eccd6d63b66a')]))])),\n",
       "             ('Plane',\n",
       "              OrderedDict([('@TheZ', '1'),\n",
       "                           ('@TheT', '0'),\n",
       "                           ('@TheC', '0'),\n",
       "                           ('StagePosition',\n",
       "                            OrderedDict([('@PositionX', '0.4456462555080E-1'),\n",
       "                                         ('@PositionY',\n",
       "                                          '0.6673977694440E-1')]))]))])"
      ]
     },
     "execution_count": 15,
     "metadata": {},
     "output_type": "execute_result"
    }
   ],
   "source": [
    "leica_dict['OME']['Image']['Pixels']"
   ]
  },
  {
   "cell_type": "code",
   "execution_count": 25,
   "metadata": {},
   "outputs": [
    {
     "name": "stdout",
     "output_type": "stream",
     "text": [
      "PhysicalSize X: 1024\n",
      "PhysicalSize X: 1024\n",
      "PhysicalSize X: 0.44563245356794E0\n",
      "PhysicalSize Y: 0.44563245356794E0\n",
      "Stage X: 0.4456462555080E-1\n",
      "Stage Y: 0.6673977694440E-1\n"
     ]
    }
   ],
   "source": [
    "print(f\"PhysicalSize X: {leica_dict['OME']['Image']['Pixels']['@SizeX']}\")\n",
    "print(f\"PhysicalSize X: {leica_dict['OME']['Image']['Pixels']['@SizeY']}\")\n",
    "print(f\"PhysicalSize X: {leica_dict['OME']['Image']['Pixels']['@PhysicalSizeX']}\")\n",
    "print(f\"PhysicalSize Y: {leica_dict['OME']['Image']['Pixels']['@PhysicalSizeY']}\")\n",
    "print(f\"Stage X: {leica_dict['OME']['Image']['Pixels']['Plane']['StagePosition']['@PositionX']}\")\n",
    "print(f\"Stage Y: {leica_dict['OME']['Image']['Pixels']['Plane']['StagePosition']['@PositionY']}\")"
   ]
  },
  {
   "cell_type": "markdown",
   "metadata": {},
   "source": [
    "Sometimes you may not want the `tifffile` and `xmltodict` dependencies.\n",
    "In that case, you can just read the whole tiff file as one large byte array and search within (note that this approach only works reliably if the key is only present exactly once):"
   ]
  },
  {
   "cell_type": "code",
   "execution_count": 26,
   "metadata": {},
   "outputs": [
    {
     "name": "stdout",
     "output_type": "stream",
     "text": [
      "0.7168467707040E-1\n",
      "0.3921968390280E-1\n",
      "0.5300006103888180E2\n"
     ]
    }
   ],
   "source": [
    "def getKey(bytearr, bytekey):\n",
    "    indexPos = bytearr.find(bytekey)\n",
    "    indexStart = bytearr.find(b'\"', indexPos)  # find leading quotation mark\n",
    "    indexStop = bytearr.find(b'\"', indexStart + 1)  # find trailing quotation mark\n",
    "    val = bytearr[indexStart + 1:indexStop]\n",
    "    return val.decode('utf-8')\n",
    "\n",
    "with open(\"C:/Users/Volker/Data/AndreAlves_Subset/chamber--U05--V02/field--X00--Y00/image--L0000--S00--U05--V02--J08--E00--O00--X00--Y00--T0000--Z00--C00.ome.tif\", \"rb\") as f:\n",
    "    bstrg = f.read()\n",
    "print(getKey(bstrg, b\"PositionX\"))\n",
    "print(getKey(bstrg, b\"PositionY\"))\n",
    "print(getKey(bstrg, b\"Power\"))"
   ]
  },
  {
   "cell_type": "markdown",
   "metadata": {},
   "source": [
    "# 3i Lattice Lightsheet operated and capturing with Janelia Labview software"
   ]
  },
  {
   "cell_type": "code",
   "execution_count": 6,
   "metadata": {},
   "outputs": [
    {
     "name": "stderr",
     "output_type": "stream",
     "text": [
      "c:\\users\\volker\\anaconda3\\envs\\spimenv\\lib\\site-packages\\tifffile\\tifffile.py:4267: UserWarning: tag 32781: coercing invalid ASCII to bytes\n",
      "  warnings.warn('tag %i: coercing invalid ASCII to bytes' % code)\n"
     ]
    }
   ],
   "source": [
    "lls = tifffile.TiffFile(\"C:/Users/Volker/Dropbox/Github/Lattice_Lightsheet_Deskew_Deconv/testset/drp1_dendra2_test_1_CamA_ch0_stack0000_488nm_0000000msec_0018218290msecAbs.tif\")"
   ]
  },
  {
   "cell_type": "markdown",
   "metadata": {},
   "source": [
    "Note that we already got a warning about tiff tag 32781 being malformed ..."
   ]
  },
  {
   "cell_type": "code",
   "execution_count": 7,
   "metadata": {},
   "outputs": [
    {
     "data": {
      "text/plain": [
       "[<tifffile.tifffile.TiffPage at 0x1c00be0fb70>]"
      ]
     },
     "execution_count": 7,
     "metadata": {},
     "output_type": "execute_result"
    }
   ],
   "source": [
    "lls.pages.pages"
   ]
  },
  {
   "cell_type": "code",
   "execution_count": 8,
   "metadata": {},
   "outputs": [],
   "source": [
    "tags = lls.pages.pages[0].tags"
   ]
  },
  {
   "cell_type": "markdown",
   "metadata": {},
   "source": [
    "###  Print all tags"
   ]
  },
  {
   "cell_type": "code",
   "execution_count": 9,
   "metadata": {},
   "outputs": [
    {
     "name": "stdout",
     "output_type": "stream",
     "text": [
      "ImageWidth: TiffTag 256 ImageWidth  1H @278928  256\n",
      "ImageLength: TiffTag 257 ImageLength  1H @278928  512\n",
      "BitsPerSample: TiffTag 258 BitsPerSample  1H @278928  16\n",
      "Compression: TiffTag 259 Compression  1H @278928  NONE\n",
      "PhotometricInterpretation: TiffTag 262 PhotometricInterpretation  1H @278928  MINISBLACK\n",
      "FillOrder: TiffTag 266 FillOrder  1H @278928  MSB2LSB\n",
      "StripOffsets: TiffTag 273 StripOffsets  1I @278928  (16558,)\n",
      "Orientation: TiffTag 274 Orientation  1H @278928  TOPLEFT\n",
      "SamplesPerPixel: TiffTag 277 SamplesPerPixel  1H @278928  1\n",
      "RowsPerStrip: TiffTag 278 RowsPerStrip  1H @278928  512\n",
      "StripByteCounts: TiffTag 279 StripByteCounts  1I @278928  (262144,)\n",
      "XResolution: TiffTag 282 XResolution  2I @278924  (1073741824, 1073741824)\n",
      "YResolution: TiffTag 283 YResolution  2I @278932  (1073741824, 1073741824)\n",
      "PlanarConfiguration: TiffTag 284 PlanarConfiguration  1H @278948  CONTIG\n",
      "ResolutionUnit: TiffTag 296 ResolutionUnit  1H @278948  NONE\n",
      "Software: TiffTag 305 Software  29s @278940  National Instruments IMAQ\n",
      "ImageID: TiffTag 32781 ImageID  16550B @8  00 00 00 02 00 00 00 0a 00 00 00 08 41 6e 61 \n",
      "ImageDescription: TiffTag 270 ImageDescription  47s @278969  BoundingBox 0 26.102362 0 52.307087 \n"
     ]
    }
   ],
   "source": [
    "for t in tags:\n",
    "    print(f\"{t}: {tags[t]}\")"
   ]
  },
  {
   "cell_type": "markdown",
   "metadata": {},
   "source": [
    " Turns out that the __str__() of the tag doesn't show us the value of the tag, but a shortened summary of all fields "
   ]
  },
  {
   "cell_type": "code",
   "execution_count": 13,
   "metadata": {},
   "outputs": [
    {
     "data": {
      "text/plain": [
       "'TiffTag 32781 ImageID  16550B @8  00 00 00 02 00 00 00 0a 00 00 00 08 41 6e 61 '"
      ]
     },
     "execution_count": 13,
     "metadata": {},
     "output_type": "execute_result"
    }
   ],
   "source": [
    "tags['ImageID'].__str__()"
   ]
  },
  {
   "cell_type": "markdown",
   "metadata": {},
   "source": [
    "Need to look at the `.value` attribute instead:"
   ]
  },
  {
   "cell_type": "code",
   "execution_count": 17,
   "metadata": {},
   "outputs": [
    {
     "data": {
      "text/plain": [
       "32781"
      ]
     },
     "execution_count": 17,
     "metadata": {},
     "output_type": "execute_result"
    }
   ],
   "source": [
    "tags['ImageID'].code"
   ]
  },
  {
   "cell_type": "code",
   "execution_count": 18,
   "metadata": {},
   "outputs": [
    {
     "data": {
      "text/plain": [
       "b'\\x00\\x00\\x00\\x02\\x00\\x00\\x00\\n\\x00\\x00\\x00\\x08Analysis\\x00\\x00\\x00\\tCCDBinROI\\x00\\x00\\x00\\x07Channel\\x00\\x00\\x00\\rImagePosition\\x00\\x00\\x00\\tImgNumber\\x00\\x00\\x00\\x0cMaxMinCounts\\x00\\x00\\x00\\x0fPixValuePerVolt\\x00\\x00\\x00\\x1cScaledPixValuePerAbsPixValue\\x00\\x00\\x00\\x08Settings\\x00\\x00\\x00\\x07Version\\x00\\x00\\x00\\x90\\x7f\\xff\\xff\\xff\\xff\\xff\\xff\\xff\\x00\\x00\\x00\\x00\\x00\\x00\\x00\\x00\\x00\\x00\\x00\\x00\\x00\\x00\\x00\\x00\\x00\\x00\\x00\\x00\\x00\\x00\\x00\\x00\\x00\\x00\\x00\\x00\\x00\\x00\\x00\\x00\\x00\\x00\\x00\\x00\\x00\\x00\\x00\\x00\\x00\\x00\\x00\\x00\\x00\\x00\\x00\\x00\\x00\\x00\\x00\\x00\\x00\\x00\\x00\\x00\\x00\\x00\\x00\\x00\\x00\\x00\\x00\\x00\\x00\\x00\\x00\\x00\\x00\\x00\\x00\\x00\\x00\\x00\\x00\\x00\\x00\\x00\\x00\\x00\\x00\\x00\\x00\\x00\\x00\\x00\\x00\\x00\\x00\\x00\\x00\\x00\\x00\\x00\\x00\\x00\\x00\\x00\\x00\\x00\\x00\\x00\\x00\\x00\\x00\\x00\\x00\\x00\\x00\\x00\\x00\\x00\\x00\\x00\\x00\\x00\\x00\\x00\\x00\\x00@H\\x1a\\x8f@\\x00\\x00\\x00@F\\xbd\\xd4@\\x00\\x00\\x00\\x00\\x00\\x008\\x00\\x00\\x00\\x01\\x00\\x00\\x00\\x01\\x00\\x00\\x03\\x01\\x00\\x00\\x03\\x81\\x00\\x00\\x05\\x00\\x00\\x00\\x04\\x80@\\x88\\x08\\x00\\x00\\x00\\x00\\x00@\\x8c\\x08\\x00\\x00\\x00\\x00\\x00@\\x94\\x00\\x00\\x00\\x00\\x00\\x00@\\x92\\x00\\x00\\x00\\x00\\x00\\x00\\x00\\x00\\x00\\x05PMT G\\x00\\x00\\x00P\\xbc\\x9b\\xf0\\xb7g*\\x07\\xa4\\x00\\x00\\x00\\x00\\x00\\x00\\x00\\x00@9\\x00\\x00\\x00\\x00\\x00\\x00@A\\x80\\x00\\x00\\x00\\x00\\x01\\x00\\x00\\x00\\x00\\x00\\x00\\x00\\x00\\xbc.\\x911\\xab\\xf0\\xb7g\\xbf\\x81\\x14OB\\xd2\\xaa\\xc5@\\x04\\x00\\x00\\x00\\x00\\x00\\x00@\\x0c\\x00\\x00\\x00\\x00\\x00\\x01\\x00\\x00\\x00\\x00\\x00\\x00\\x00\\x00\\x00\\x00\\x00\\x010\\x00\\x00\\x00\\x0b1953 60 0 0\\x00\\x00\\x00\\x081.000000\\x00\\x00\\x00\\x081.000000\\x00\\x00>h\\x00\\x00\\x00w\\x14\\x00\\x80\\x00\\x00\\x00\\x00\\x01\\x00M\\x00\\xf1\\x00\\x00\\x00\\x00\\x00\\x00\\x00\\x01\\x1dHHMI - Waveform Type enum.ctl\\x00\\'@\\x16\\x00\\x02\\x06Linear\\nSinusoidal\\x00\\x08Waveform\\x00\\x00\\x01\\x00\\x00\\x00\\x00\\x00\\x00\\x00\\x01\\x00\\x00\\x00\\x04Name\\x14\\x00\\x80\\x00\\x00\\x00\\x00\\x01\\x00\\x0e@0\\xff\\xff\\xff\\xff\\x05Label\\x00\\x01\\x00\\x00\\x00\\x00\\x00\\x14 Waveform : Waveform\\x00\\x00\\x00\\x00\\x14\\x00\\x80\\x00\\x00\\x00\\x00\\x05\\x00\\x11@\\n\\x00\\x0bOffset (um)\\x00\\x15@\\n\\x00\\x0fPixel Size (um)\\x00\\r@\\x06\\x00\\x06Pixels\\x00\\x00>\\x00\\xf1\\x00\\x00\\x00\\x00\\x00\\x00\\x00\\x01#HHMI - Pixel Parameters cluster.ctl\\x00\\x12@P\\x00\\x03\\x00\\x00\\x00\\x01\\x00\\x02\\x01X\\x00\\x0e@@\\x00\\x01\\xff\\xff\\xff\\xff\\x00\\x03\\x01X\\x00\\x01\\x00\\x04\\x00\\x00\\x00\\x01\\x00\\x00\\x00\\x00\\x00\\x00\\x00\\x00?\\xb9\\x99\\x99\\x99\\x99\\x99\\x9a\\x00\\xc9\\x00\\x00\\x00\\x01\\x00\\x00\\x00\\x04Name\\x14\\x00\\x80\\x00\\x00\\x00\\x00\\x01\\x00\\x0e@0\\xff\\xff\\xff\\xff\\x05Label\\x00\\x01\\x00\\x00\\x00\\x00\\x00\\r Waveform : X\\x00\\x00\\x00\\x00\\x14\\x00\\x80\\x00\\x00\\x00\\x00\\x05\\x00\\x11@\\n\\x00\\x0bOffset (um)\\x00\\x15@\\n\\x00\\x0fPixel Size (um)\\x00\\r@\\x06\\x00\\x06Pixels\\x00\\x00D\\x00\\xf1\\x00\\x00\\x00\\x00\\x00\\x00\\x00\\x01#HHMI - Pixel Parameters cluster.ctl\\x00\\x18@P\\x00\\x03\\x00\\x00\\x00\\x01\\x00\\x02\\x06Xwvfrm\\x00\\x00\\x0e@@\\x00\\x01\\xff\\xff\\xff\\xff\\x00\\x03\\x01Z\\x00\\x01\\x00\\x04\\x00\\x00\\x00\\x01\\x00\\x00\\x00\\x00\\x00\\x00\\x00\\x00\\xbf\\xb1\\x11\\x11\\x11\\x11\\x11\\x11\\x00L\\x00\\x00\\x00\\x01\\x00\\x00\\x00\\x04Name\\x14\\x00\\x80\\x00\\x00\\x00\\x00\\x01\\x00\\x0e@0\\xff\\xff\\xff\\xff\\x05Label\\x00\\x01\\x00\\x00\\x00\\x00\\x00\\r Waveform : Z\\x00\\x00\\x00\\x00\\x14\\x00\\x80\\x00\\x00\\x00\\x00\\x01\\x00\\x12@!\\rBidirectional\\x00\\x01\\x00\\x00\\x00\\x00\\x00\\x00\\x01\\x00\\x00\\x00\\x04Name\\x14\\x00\\x80\\x00\\x00\\x00\\x00\\x01\\x00\\x0e@0\\xff\\xff\\xff\\xff\\x05Label\\x00\\x01\\x00\\x00\\x00\\x00\\x00\\x19 Waveform : Bidirectional\\x00\\x00\\x00\\x00\\x14\\x00\\x80\\x00\\x00\\x00\\x00\\x01\\x00\\x15@\\x06\\x00\\x0fGalvo Freq (Hz)\\x00\\x01\\x00\\x00\\x00\\x00\\x00\\x00\\x00\\x01\\x00\\x00\\x00\\x04Name\\x14\\x00\\x80\\x00\\x00\\x00\\x00\\x01\\x00\\x0e@0\\xff\\xff\\xff\\xff\\x05Label\\x00\\x01\\x00\\x00\\x00\\x00\\x00\\x1b Waveform : Galvo Freq (Hz)\\x00\\x00\\x00\\x00\\x14\\x00\\x80\\x00\\x00\\x00\\x00\\x01\\x00\\x15@\\x06\\x00\\x0fUpdates / Pixel\\x00\\x01\\x00\\x00\\x00\\x01\\x00\\x00\\x00\\x01\\x00\\x00\\x00\\x04Name\\x14\\x00\\x80\\x00\\x00\\x00\\x00\\x01\\x00\\x0e@0\\xff\\xff\\xff\\xff\\x05Label\\x00\\x01\\x00\\x00\\x00\\x00\\x00\\x1b Waveform : Updates / Pixel\\x00\\x00\\x00\\x00\\x14\\x00\\x80\\x00\\x00\\x00\\x00\\x01\\x00\\x1b@\\n\\x00\\x15Sine Overshoot Factor\\x00\\x01\\x00\\x00\\x00\\x00\\x00\\x00\\x00\\x00\\x00\\x00\\x00\\x00\\x00\\x01\\x00\\x00\\x00\\x04Name\\x14\\x00\\x80\\x00\\x00\\x00\\x00\\x01\\x00\\x0e@0\\xff\\xff\\xff\\xff\\x05Label\\x00\\x01\\x00\\x00\\x00\\x00\\x00! Waveform : Sine Overshoot Factor\\x00\\x00\\x00\\x00\\x14\\x00\\x80\\x00\\x00\\x00\\x00\\x01\\x00!@\\x06\\x00\\x1aSlow axis Return Time (ms)\\x00\\x00\\x01\\x00\\x00\\x00\\x00\\x00\\x00\\x00\\x01\\x00\\x00\\x00\\x04Name\\x14\\x00\\x80\\x00\\x00\\x00\\x00\\x01\\x00\\x0e@0\\xff\\xff\\xff\\xff\\x05Label\\x00\\x01\\x00\\x00\\x00\\x00\\x00& Waveform : Slow axis Return Time (ms)\\x00\\x00\\x00\\x00\\x14\\x00\\x80\\x00\\x00\\x00\\x00\\x01\\x00\\x11@\\n\\x00\\nPixel / ms\\x00\\x00\\x01\\x00\\x00@\\'t]\\xc5\\t\\xbe\\x13\\x00\\x00\\x00\\x01\\x00\\x00\\x00\\x04Name\\x14\\x00\\x80\\x00\\x00\\x00\\x00\\x01\\x00\\x0e@0\\xff\\xff\\xff\\xff\\x05Label\\x00\\x01\\x00\\x00\\x00\\x00\\x00\\x16 Waveform : Pixel / ms\\x00\\x00\\x00\\x00\\x14\\x00\\x80\\x00\\x00\\x00\\x00\\x01\\x00\\x1f@\\n\\x00\\x19Fractional Smoothing Time\\x00\\x01\\x00\\x00?\\xa9\\x99\\x99\\x99\\x99\\x99\\x9a\\x00\\x00\\x00\\x01\\x00\\x00\\x00\\x04Name\\x14\\x00\\x80\\x00\\x00\\x00\\x00\\x01\\x00\\x0e@0\\xff\\xff\\xff\\xff\\x05Label\\x00\\x01\\x00\\x00\\x00\\x00\\x00% Waveform : Fractional Smoothing Time\\x00\\x00\\x00\\x00\\x14\\x00\\x80\\x00\\x00\\x00\\x00\\x01\\x00\\x1d@\\n\\x00\\x17Fractional Flyback Time\\x00\\x01\\x00\\x00?\\xb9\\x99\\x99\\x99\\x99\\x99\\x9a\\x00\\x00\\x00\\x01\\x00\\x00\\x00\\x04Name\\x14\\x00\\x80\\x00\\x00\\x00\\x00\\x01\\x00\\x0e@0\\xff\\xff\\xff\\xff\\x05Label\\x00\\x01\\x00\\x00\\x00\\x00\\x00# Waveform : Fractional Flyback Time\\x00\\x00\\x00\\x00\\x14\\x00\\x80\\x00\\x00\\x00\\x00\\x01\\x00\\x15@\\n\\x00\\x0fXZ Pos lag (us)\\x00\\x01\\x00\\x00\\x00\\x00\\x00\\x00\\x00\\x00\\x00\\x00\\x00\\x00\\x00\\x01\\x00\\x00\\x00\\x04Name\\x14\\x00\\x80\\x00\\x00\\x00\\x00\\x01\\x00\\x0e@0\\xff\\xff\\xff\\xff\\x05Label\\x00\\x01\\x00\\x00\\x00\\x00\\x00\\x1b Waveform : XZ Pos lag (us)\\x00\\x00\\x00\\x00\\x14\\x00\\x80\\x00\\x00\\x00\\x00\\x01\\x00\\x15@\\n\\x00\\x0fAOTF delay (us)\\x00\\x01\\x00\\x00\\x00\\x00\\x00\\x00\\x00\\x00\\x00\\x00\\x00\\x00\\x00\\x01\\x00\\x00\\x00\\x04Name\\x14\\x00\\x80\\x00\\x00\\x00\\x00\\x01\\x00\\x0e@0\\xff\\xff\\xff\\xff\\x05Label\\x00\\x01\\x00\\x00\\x00\\x00\\x00\\x1b Waveform : AOTF delay (us)\\x00\\x00\\x00\\x00\\x14\\x00\\x80\\x00\\x00\\x00\\x00\\x01\\x00\\x19@\\n\\x00\\x12X galvo delay (us)\\x00\\x00\\x01\\x00\\x00\\x00\\x00\\x00\\x00\\x00\\x00\\x00\\x00\\x00\\x00\\x00\\x01\\x00\\x00\\x00\\x04Name\\x14\\x00\\x80\\x00\\x00\\x00\\x00\\x01\\x00\\x0e@0\\xff\\xff\\xff\\xff\\x05Label\\x00\\x01\\x00\\x00\\x00\\x00\\x00\\x1e Waveform : X galvo delay (us)\\x00\\x00\\x00\\x00\\x14\\x00\\x80\\x00\\x00\\x00\\x00\\x01\\x00\\x19@\\n\\x00\\x12Z galvo delay (us)\\x00\\x00\\x01\\x00\\x00\\x00\\x00\\x00\\x00\\x00\\x00\\x00\\x00\\x00\\x00\\x00\\x01\\x00\\x00\\x00\\x04Name\\x14\\x00\\x80\\x00\\x00\\x00\\x00\\x01\\x00\\x0e@0\\xff\\xff\\xff\\xff\\x05Label\\x00\\x01\\x00\\x00\\x00\\x00\\x00\\x1e Waveform : Z galvo delay (us)\\x00\\x00\\x00\\x00\\x14\\x00\\x80\\x00\\x00\\x00\\x00\\x01\\x00\\x19@\\n\\x00\\x12Z piezo delay (us)\\x00\\x00\\x01\\x00\\x00\\x00\\x00\\x00\\x00\\x00\\x00\\x00\\x00\\x00\\x00\\x00\\x01\\x00\\x00\\x00\\x04Name\\x14\\x00\\x80\\x00\\x00\\x00\\x00\\x01\\x00\\x0e@0\\xff\\xff\\xff\\xff\\x05Label\\x00\\x01\\x00\\x00\\x00\\x00\\x00\\x1e Waveform : Z piezo delay (us)\\x00\\x00\\x00\\x00\\x14\\x00\\x80\\x00\\x00\\x00\\x00\\x05\\x00\\x11@\\n\\x00\\x0bOffset (um)\\x00\\x15@\\n\\x00\\x0fPixel Size (um)\\x00\\r@\\x06\\x00\\x06Pixels\\x00\\x00D\\x00\\xf1\\x00\\x00\\x00\\x00\\x00\\x00\\x00\\x01#HHMI - Pixel Parameters cluster.ctl\\x00\\x18@P\\x00\\x03\\x00\\x00\\x00\\x01\\x00\\x02\\x06Xwvfrm\\x00\\x00\\x14@@\\x00\\x01\\xff\\xff\\xff\\xff\\x00\\x03\\x06Zpiezo\\x00\\x00\\x01\\x00\\x04\\x00\\x00\\x00\\x01@9\\x00\\x00\\x00\\x00\\x00\\x00?\\xb1\\x11\\x11\\x11\\x11\\x11\\x11\\x00L\\x00\\x00\\x00\\x01\\x00\\x00\\x00\\x04Name\\x14\\x00\\x80\\x00\\x00\\x00\\x00\\x01\\x00\\x0e@0\\xff\\xff\\xff\\xff\\x05Label\\x00\\x01\\x00\\x00\\x00\\x00\\x00\\x12 Waveform : Zpiezo\\x00\\x00\\x00\\x00\\x14\\x00\\x80\\x00\\x00\\x00\\x00\\x01\\x00L\\x00\\xf1\\x00\\x00\\x00\\x00\\x00\\x00\\x00\\x01(HHMI - XYZ axis selection radio enum.ctl\\x00\\x1b@\\x17\\x00\\x03\\x01X\\x01Y\\x01Z\\x00\\tSlow axis\\x00\\x01\\x00\\x00\\x00\\x00\\x00\\x02\\x00\\x00\\x00\\x01\\x00\\x00\\x00\\x04Name\\x14\\x00\\x80\\x00\\x00\\x00\\x00\\x01\\x00\\x0e@0\\xff\\xff\\xff\\xff\\x05Label\\x00\\x01\\x00\\x00\\x00\\x00\\x00\\x15 Waveform : Slow axis\\x00\\x00\\x00\\x00\\x14\\x00\\x80\\x00\\x00\\x00\\x00\\x01\\x00\\x11@\\n\\x00\\x0bCam exp (s)\\x00\\x01\\x00\\x00?\\x94~\\xca`\\x00\\x00\\x00\\x00\\x00\\x00\\x01\\x00\\x00\\x00\\x04Name\\x14\\x00\\x80\\x00\\x00\\x00\\x00\\x01\\x00\\x0e@0\\xff\\xff\\xff\\xff\\x05Label\\x00\\x01\\x00\\x00\\x00\\x00\\x00\\x17 Waveform : Cam exp (s)\\x00\\x00\\x00\\x00\\x14\\x00\\x80\\x00\\x00\\x00\\x00\\x01\\x00\\x15@\\n\\x00\\x0eCycle time (s)\\x00\\x00\\x01\\x00\\x00?\\x95\\xab\\x8a\\xdd\\x14\\xe3\\xbd\\x00\\x00\\x00\\x01\\x00\\x00\\x00\\x04Name\\x14\\x00\\x80\\x00\\x00\\x00\\x00\\x01\\x00\\x0e@0\\xff\\xff\\xff\\xff\\x05Label\\x00\\x01\\x00\\x00\\x00\\x00\\x00\\x1a Waveform : Cycle time (s)\\x00\\x00\\x00\\x00\\x14\\x00\\x80\\x00\\x00\\x00\\x00\\x01\\x00J\\x00\\xf1\\x00\\x00\\x00\\x00\\x00\\x00\\x00\\x01\\x1eHHMI - 1 exposure per item.ctl\\x00#@\\x16\\x00\\x02\\x07Z plane\\x05Point\\x00\\t1 exp per\\x00\\x01\\x00\\x00\\x00\\x00\\x00\\x00\\x00\\x01\\x00\\x00\\x00\\x04Name\\x14\\x00\\x80\\x00\\x00\\x00\\x00\\x01\\x00\\x0e@0\\xff\\xff\\xff\\xff\\x05Label\\x00\\x01\\x00\\x00\\x00\\x00\\x00\\x15 Waveform : 1 exp per\\x00\\x00\\x00\\x00\\x14\\x00\\x80\\x00\\x00\\x00\\x00\\x01\\x00\\x0c@!\\x06Z Link\\x00\\x00\\x01\\x00\\x00\\x00\\x00\\x00\\x00\\x01\\x00\\x00\\x00\\x04Name\\x14\\x00\\x80\\x00\\x00\\x00\\x00\\x01\\x00\\x0e@0\\xff\\xff\\xff\\xff\\x05Label\\x00\\x01\\x00\\x00\\x00\\x00\\x00\\x12 Waveform : Z Link\\x00\\x00\\x00\\x00\\x14\\x00\\x80\\x00\\x00\\x00\\x00\\x05\\x00\\x11@\\n\\x00\\x0bOffset (um)\\x00\\x15@\\n\\x00\\x0fPixel Size (um)\\x00\\r@\\x06\\x00\\x06Pixels\\x00\\x00D\\x00\\xf1\\x00\\x00\\x00\\x00\\x00\\x00\\x00\\x01#HHMI - Pixel Parameters cluster.ctl\\x00\\x18@P\\x00\\x03\\x00\\x00\\x00\\x01\\x00\\x02\\x06Xwvfrm\\x00\\x00\\x14@@\\x00\\x01\\xff\\xff\\xff\\xff\\x00\\x03\\x06Xwvfrm\\x00\\x00\\x01\\x00\\x04\\x00\\x00\\x00\\x01\\x00\\x00\\x00\\x00\\x00\\x00\\x00\\x00?\\xc9\\x99\\x99\\x99\\x99\\x99\\x9a\\x00\\x01\\x00\\x00\\x00\\x01\\x00\\x00\\x00\\x04Name\\x14\\x00\\x80\\x00\\x00\\x00\\x00\\x01\\x00\\x0e@0\\xff\\xff\\xff\\xff\\x05Label\\x00\\x01\\x00\\x00\\x00\\x00\\x00\\x12 Waveform : Xwvfrm\\x00\\x00\\x00\\x00\\x14\\x00\\x80\\x00\\x00\\x00\\x00\\x01\\x00\\x12@!\\x0cXZ corrected\\x00\\x00\\x01\\x00\\x00\\x00\\x00\\x00\\x00\\x01\\x00\\x00\\x00\\x04Name\\x14\\x00\\x80\\x00\\x00\\x00\\x00\\x01\\x00\\x0e@0\\xff\\xff\\xff\\xff\\x05Label\\x00\\x01\\x00\\x00\\x00\\x00\\x00\\x18 Waveform : XZ corrected\\x00\\x00\\x00\\x00\\x14\\x00\\x80\\x00\\x00\\x00\\x00\\x01\\x00O\\x00\\xf1\\x00\\x00\\x00\\x00\\x00\\x00\\x00\\x01\\x1fHHMI - SPIM AOTF cycle enum.ctl\\x00\\'@\\x16\\x00\\x02\\x05per Z\\tper Stack\\x00\\nAOTF cycle\\x00\\x00\\x01\\x00\\x00\\x00\\x00\\x00\\x00\\x00\\x01\\x00\\x00\\x00\\x04Name\\x14\\x00\\x80\\x00\\x00\\x00\\x00\\x01\\x00\\x0e@0\\xff\\xff\\xff\\xff\\x05Label\\x00\\x01\\x00\\x00\\x00\\x00\\x00\\x16 Waveform : AOTF cycle\\x00\\x00\\x00\\x00\\x14\\x00\\x80\\x00\\x00\\x00\\x00\\x01\\x00U\\x00\\xf1\\x00\\x00\\x00\\x00\\x00\\x00\\x00\\x01-HHMI - SPIM Z Waveform step or sweep enum.ctl\\x00\\x1f@\\x16\\x00\\x02\\x04Step\\x05Sweep\\x00\\x00\\x06Z wave\\x00\\x00\\x01\\x00\\x00\\x00\\x00\\x00\\x00\\x00\\x01\\x00\\x00\\x00\\x04Name\\x14\\x00\\x80\\x00\\x00\\x00\\x00\\x01\\x00\\x0e@0\\xff\\xff\\xff\\xff\\x05Label\\x00\\x01\\x00\\x00\\x00\\x00\\x00\\x12 Waveform : Z wave\\x00\\x00\\x00\\x00\\x14\\x00\\x80\\x00\\x00\\x00\\x00\\x01\\x00`\\x00\\xf1\\x00\\x00\\x00\\x00\\x00\\x00\\x00\\x01*HHMI - SPIM Wait for Zsettle mode enum.ctl\\x00-@\\x16\\x00\\x02\\tNo settle\\x04Wait\\x00\\x00\\x11Wait for Zsettle?\\x00\\x01\\x00\\x00\\x00\\x00\\x00\\x00\\x00\\x01\\x00\\x00\\x00\\x04Name\\x14\\x00\\x80\\x00\\x00\\x00\\x00\\x01\\x00\\x0e@0\\xff\\xff\\xff\\xff\\x05Label\\x00\\x01\\x00\\x00\\x00\\x00\\x00\\x1d Waveform : Wait for Zsettle?\\x00\\x00\\x00\\x00\\x14\\x00\\x80\\x00\\x00\\x00\\x00\\x01\\x00O\\x00\\xf1\\x00\\x00\\x00\\x00\\x00\\x00\\x00\\x01\\x19HHMI - Dual View mode.ctl\\x00-@\\x16\\x00\\x03\\x07No D.V.\\x08Parallel\\x06Serial\\x00\\tDual View\\x00\\x01\\x00\\x00\\x00\\x00\\x00\\x00\\x00\\x01\\x00\\x00\\x00\\x04Name\\x14\\x00\\x80\\x00\\x00\\x00\\x00\\x01\\x00\\x0e@0\\xff\\xff\\xff\\xff\\x05Label\\x00\\x01\\x00\\x00\\x00\\x00\\x00\\x15 Waveform : Dual View\\x00\\x00\\x00\\x00\\x14\\x00\\x80\\x00\\x00\\x00\\x00\\x01\\x00\\x11@\\n\\x00\\x0bOffset (um)\\x00\\x01\\x00\\x00\\x00\\x00\\x00\\x00\\x00\\x00\\x00\\x00\\x00\\x00\\x00\\x01\\x00\\x00\\x00\\x04Name\\x14\\x00\\x80\\x00\\x00\\x00\\x00\\x01\\x00\\x0e@0\\xff\\xff\\xff\\xff\\x05Label\\x00\\x01\\x00\\x00\\x00\\x00\\x00\\x1f Waveform : Xtile : Offset (um)\\x00\\x00\\x00\\x00\\x14\\x00\\x80\\x00\\x00\\x00\\x00\\x01\\x00\\x15@\\n\\x00\\x0fPixel Size (um)\\x00\\x01\\x00\\x00\\x00\\x00\\x00\\x00\\x00\\x00\\x00\\x00\\x00\\x00\\x00\\x01\\x00\\x00\\x00\\x04Name\\x14\\x00\\x80\\x00\\x00\\x00\\x00\\x01\\x00\\x0e@0\\xff\\xff\\xff\\xff\\x05Label\\x00\\x01\\x00\\x00\\x00\\x00\\x00# Waveform : Xtile : Pixel Size (um)\\x00\\x00\\x00\\x00\\x14\\x00\\x80\\x00\\x00\\x00\\x00\\x01\\x00\\r@\\x06\\x00\\x06Pixels\\x00\\x00\\x01\\x00\\x00\\x00\\x01\\x00\\x00\\x00\\x01\\x00\\x00\\x00\\x04Name\\x14\\x00\\x80\\x00\\x00\\x00\\x00\\x01\\x00\\x0e@0\\xff\\xff\\xff\\xff\\x05Label\\x00\\x01\\x00\\x00\\x00\\x00\\x00\\x1a Waveform : Xtile : Pixels\\x00\\x00\\x00\\x00\\x14\\x00\\x80\\x00\\x00\\x00\\x00\\x05\\x00\\x11@\\n\\x00\\x0bOffset (um)\\x00\\x15@\\n\\x00\\x0fPixel Size (um)\\x00\\r@\\x06\\x00\\x06Pixels\\x00\\x00D\\x00\\xf1\\x00\\x00\\x00\\x00\\x00\\x00\\x00\\x01#HHMI - Pixel Parameters cluster.ctl\\x00\\x18@P\\x00\\x03\\x00\\x00\\x00\\x01\\x00\\x02\\x06Xwvfrm\\x00\\x00\\x14@@\\x00\\x01\\xff\\xff\\xff\\xff\\x00\\x03\\x06Spiezo\\x00\\x00\\x01\\x00\\x04\\x00\\x00\\x00\\x01@I\\x00\\x00\\x00\\x00\\x00\\x00?\\xd9\\x99\\x99\\x99\\x99\\x99\\x9a\\x00L\\x00\\x00\\x00\\x01\\x00\\x00\\x00\\x04Name\\x14\\x00\\x80\\x00\\x00\\x00\\x00\\x01\\x00\\x0e@0\\xff\\xff\\xff\\xff\\x05Label\\x00\\x01\\x00\\x00\\x00\\x00\\x00\\x12 Waveform : Spiezo\\x00\\x00\\x00\\x00\\x14\\x00\\x80\\x00\\x00\\x00\\x00\\x01\\x00^\\x00\\xf1\\x00\\x00\\x00\\x00\\x00\\x00\\x00\\x01\"HHMI - SPIM Z motion type enum.ctl\\x003@\\x16\\x00\\x02\\x0fZ galvo & piezo\\x0cSample piezo\\x00\\x00\\x08Z motion\\x00\\x00\\x01\\x00\\x00\\x00\\x01\\x00\\x00\\x00\\x01\\x00\\x00\\x00\\x04Name\\x14\\x00\\x80\\x00\\x00\\x00\\x00\\x01\\x00\\x0e@0\\xff\\xff\\xff\\xff\\x05Label\\x00\\x01\\x00\\x00\\x00\\x00\\x00\\x14 Waveform : Z motion\\x00\\x00\\x00\\x00\\x14\\x00\\x80\\x00\\x00\\x00\\x00\\x01\\x00\\x1b@\\n\\x00\\x14SI sweep period (um)\\x00\\x00\\x01\\x00\\x00\\xbf\\xf0\\x00\\x00\\x00\\x00\\x00\\x00\\x00\\x00\\x00\\x01\\x00\\x00\\x00\\x04Name\\x14\\x00\\x80\\x00\\x00\\x00\\x00\\x01\\x00\\x0e@0\\xff\\xff\\xff\\xff\\x05Label\\x00\\x01\\x00\\x00\\x00\\x00\\x00  Waveform : SI sweep period (um)\\x00\\x00\\x00\\x00\\x14\\x00\\x80\\x00\\x00\\x00\\x00\\x01\\x00\\x17@\\n\\x00\\x11SI sweep duty (%)\\x00\\x01\\x00\\x00@Y\\x00\\x00\\x00\\x00\\x00\\x00\\x00\\x00\\x00\\x01\\x00\\x00\\x00\\x04Name\\x14\\x00\\x80\\x00\\x00\\x00\\x00\\x01\\x00\\x0e@0\\xff\\xff\\xff\\xff\\x05Label\\x00\\x01\\x00\\x00\\x00\\x00\\x00\\x1d Waveform : SI sweep duty (%)\\x00\\x00\\x00\\x00\\x14\\x00\\x80\\x00\\x00\\x00\\x00\\x06\\x00\\r@\\x06\\x00\\x06Filter\\x00\\x00A\\x00\\xf1\\x00\\x00\\x00\\x00\\x00\\x00\\x00\\x01%HHMI - SPIM Excitation color ring.ctl\\x00\\x13@\\x03\\x00\\x08Laser ch\\x00\\x00\\x0b@\\n\\x00\\x05Power\\x00\\x13@\\n\\x00\\rExp time (ms)\\x00I\\x00\\xf1\\x00\\x00\\x00\\x00\\x00\\x00\\x00\\x01\"HHMI - SPIM Excitation cluster.ctl\\x00\\x1e@P\\x00\\x04\\x00\\x00\\x00\\x01\\x00\\x02\\x00\\x03\\nExcitation\\x00\\x00\\x18@@\\x00\\x01\\xff\\xff\\xff\\xff\\x00\\x04\\x0bExcitations\\x00\\x01\\x00\\x05\\x00\\x00\\x00\\x01\\x00\\x00\\x00\\x00\\x00\\x01?\\xd0\\x00\\x00\\x00\\x00\\x00\\x00@4\\x00\\x00\\x00\\x00\\x00\\x00\\x00\\x00\\x00\\x01\\x00\\x00\\x00\\x04Name\\x14\\x00\\x80\\x00\\x00\\x00\\x00\\x01\\x00\\x0e@0\\xff\\xff\\xff\\xff\\x05Label\\x00\\x01\\x00\\x00\\x00\\x00\\x00\\x17 Waveform : Excitations\\x00\\x00\\x00\\x00\\x14\\x00\\x80\\x00\\x00\\x00\\x00\\x01\\x00\\x17@\\x03\\x00\\x11# of Integrations\\x00\\x01\\x00\\x00\\x00\\x00\\x00\\x01\\x00\\x00\\x00\\x01\\x00\\x00\\x00\\x04Name\\x14\\x00\\x80\\x00\\x00\\x00\\x00\\x01\\x00\\x0e@0\\xff\\xff\\xff\\xff\\x05Label\\x00\\x01\\x00\\x00\\x00\\x00\\x00\\x1d Waveform : # of Integrations\\x00\\x00\\x00\\x00\\x14\\x00\\x80\\x00\\x00\\x00\\x00\\x01\\x00\\x15@\\x03\\x00\\x0e# of DOE beams\\x00\\x00\\x01\\x00\\x00\\x00\\x00\\x00\\x00\\x00\\x00\\x00\\x01\\x00\\x00\\x00\\x04Name\\x14\\x00\\x80\\x00\\x00\\x00\\x00\\x01\\x00\\x0e@0\\xff\\xff\\xff\\xff\\x05Label\\x00\\x01\\x00\\x00\\x00\\x00\\x00\\x1a Waveform : # of DOE beams\\x00\\x00\\x00\\x00\\x14\\x00\\x80\\x00\\x00\\x00\\x00\\x01\\x00\\x15@\\n\\x00\\x0fDOE period (um)\\x00\\x01\\x00\\x00\\x00\\x00\\x00\\x00\\x00\\x00\\x00\\x00\\x00\\x00\\x00\\x01\\x00\\x00\\x00\\x04Name\\x14\\x00\\x80\\x00\\x00\\x00\\x00\\x01\\x00\\x0e@0\\xff\\xff\\xff\\xff\\x05Label\\x00\\x01\\x00\\x00\\x00\\x00\\x00\\x1b Waveform : DOE period (um)\\x00\\x00\\x00\\x00\\x14\\x00\\x80\\x00\\x00\\x00\\x00\\x01\\x00\\x0e@!\\tRotate X?\\x00\\x01\\x00\\x00\\x00\\x00\\x00\\x00\\x01\\x00\\x00\\x00\\x04Name\\x14\\x00\\x80\\x00\\x00\\x00\\x00\\x01\\x00\\x0e@0\\xff\\xff\\xff\\xff\\x05Label\\x00\\x01\\x00\\x00\\x00\\x00\\x00\\x15 Waveform : Rotate X?\\x00\\x00\\x00\\x00\\x14\\x00\\x80\\x00\\x00\\x00\\x00\\x02\\x00\\r@\\n\\x00\\x06Tile V\\x00\\x00\\x14@@\\x00\\x01\\xff\\xff\\xff\\xff\\x00\\x00\\x06Tile V\\x00\\x00\\x01\\x00\\x01\\x00\\x00\\x00\\x00\\x00\\x00\\x00\\x01\\x00\\x00\\x00\\x04Name\\x14\\x00\\x80\\x00\\x00\\x00\\x00\\x01\\x00\\x0e@0\\xff\\xff\\xff\\xff\\x05Label\\x00\\x01\\x00\\x00\\x00\\x00\\x00\\x12 Waveform : Tile V\\x00\\x00\\x00\\x00\\x14\\x00\\x80\\x00\\x00\\x00\\x00\\x01\\x00\\x14@!\\x0fAOTF Continuous\\x00\\x01\\x00\\x00\\x00\\x00\\x00\\x00\\x01\\x00\\x00\\x00\\x04Name\\x14\\x00\\x80\\x00\\x00\\x00\\x00\\x01\\x00\\x0e@0\\xff\\xff\\xff\\xff\\x05Label\\x00\\x01\\x00\\x00\\x00\\x00\\x00\\x1b Waveform : AOTF Continuous\\x00\\x00\\x00\\x00\\x14\\x00\\x80\\x00\\x00\\x00\\x00\\x01\\x00\\x16@!\\x11Interleave tiles?\\x00\\x01\\x00\\x00\\x00\\x00\\x00\\x00\\x01\\x00\\x00\\x00\\x04Name\\x14\\x00\\x80\\x00\\x00\\x00\\x00\\x01\\x00\\x0e@0\\xff\\xff\\xff\\xff\\x05Label\\x00\\x01\\x00\\x00\\x00\\x00\\x00\\x1d Waveform : Interleave tiles?\\x00\\x00\\x00\\x00\\x14\\x00\\x80\\x00\\x00\\x00\\x00\\x02\\x00\\x0f@\\x03\\x00\\x08# stacks\\x00\\x00\\x18@@\\x00\\x01\\xff\\xff\\xff\\xff\\x00\\x00\\x0b# of stacks\\x00\\x01\\x00\\x01\\x00\\x00\\x00\\x01\\x00\\x00\\x01,\\x00\\x00\\x00\\x01\\x00\\x00\\x00\\x04Name\\x14\\x00\\x80\\x00\\x00\\x00\\x00\\x01\\x00\\x0e@0\\xff\\xff\\xff\\xff\\x05Label\\x00\\x01\\x00\\x00\\x00\\x00\\x00\\x17 Waveform : # of stacks\\x00\\x00\\x00\\x00\\x14\\x00\\x80\\x00\\x00\\x00\\x00\\x01\\x00\\x14@!\\x0fBidirectional Z\\x00\\x01\\x00\\x00\\x00\\x00\\x00\\x00\\x01\\x00\\x00\\x00\\x04Name\\x14\\x00\\x80\\x00\\x00\\x00\\x00\\x01\\x00\\x0e@0\\xff\\xff\\xff\\xff\\x05Label\\x00\\x01\\x00\\x00\\x00\\x00\\x00\\x1b Waveform : Bidirectional Z\\x00\\x00\\x00\\x00\\x14\\x00\\x80\\x00\\x00\\x00\\x00\\x01\\x00\\x16@!\\x11Intrlv Xw or PSF?\\x00\\x01\\x00\\x00\\x00\\x00\\x00\\x00\\x01\\x00\\x00\\x00\\x04Name\\x14\\x00\\x80\\x00\\x00\\x00\\x00\\x01\\x00\\x0e@0\\xff\\xff\\xff\\xff\\x05Label\\x00\\x01\\x00\\x00\\x00\\x00\\x00\\x1d Waveform : Intrlv Xw or PSF?\\x00\\x00\\x00\\x00\\x14\\x00\\x80\\x00\\x00\\x00\\x00\\x01\\x00\\x13@\\n\\x00\\x0cX Range (um)\\x00\\x00\\x01\\x00\\x00@4\\x19\\x99\\x99\\x99\\x99\\x9a\\x00\\x00\\x00\\x01\\x00\\x00\\x00\\x04Name\\x14\\x00\\x80\\x00\\x00\\x00\\x00\\x01\\x00\\x0e@0\\xff\\xff\\xff\\xff\\x05Label\\x00\\x01\\x00\\x00\\x00\\x00\\x00# Waveform Parameters : X Range (um)\\x00\\x00\\x00\\x00\\x14\\x00\\x80\\x00\\x00\\x00\\x00\\x02\\x00\\x13@\\n\\x00\\rAO Rate (kHz)\\x00\\x1a@@\\x00\\x01\\xff\\xff\\xff\\xff\\x00\\x00\\rAO Rate (kHz)\\x00\\x01\\x00\\x01\\x00\\x00\\x00\\x01@\\'t]\\xc5\\t\\xbe\\x13\\x00\\x00\\x00\\x01\\x00\\x00\\x00\\x04Name\\x14\\x00\\x80\\x00\\x00\\x00\\x00\\x01\\x00\\x0e@0\\xff\\xff\\xff\\xff\\x05Label\\x00\\x01\\x00\\x00\\x00\\x00\\x00$ Waveform Parameters : AO Rate (kHz)\\x00\\x00\\x00\\x00\\x14\\x00\\x80\\x00\\x00\\x00\\x00\\x02\\x00\\x1b@\\n\\x00\\x14Time Per WvFrm (sec)\\x00\\x00\\x1a@@\\x00\\x01\\xff\\xff\\xff\\xff\\x00\\x00\\rSec Per WvFrm\\x00\\x01\\x00\\x01\\x00\\x00\\x00\\x01?\\xf9\\xb7\\x10\\x19\\xa7\\x86\\xc3\\x00\\x00\\x00\\x01\\x00\\x00\\x00\\x04Name\\x14\\x00\\x80\\x00\\x00\\x00\\x00\\x01\\x00\\x0e@0\\xff\\xff\\xff\\xff\\x05Label\\x00\\x01\\x00\\x00\\x00\\x00\\x00$ Waveform Parameters : Sec Per WvFrm\\x00\\x00\\x00\\x00\\x14\\x00\\x80\\x00\\x00\\x00\\x00\\x01\\x00\\x1d@\\x03\\x00\\x17# of accel points (Tao)\\x00\\x01\\x00\\x00\\x00\\x00\\x00\\x0b\\x00\\x00\\x00\\x01\\x00\\x00\\x00\\x04Name\\x14\\x00\\x80\\x00\\x00\\x00\\x00\\x01\\x00\\x0e@0\\xff\\xff\\xff\\xff\\x05Label\\x00\\x01\\x00\\x00\\x00\\x00\\x00. Waveform Parameters : # of accel points (Tao)\\x00\\x00\\x00\\x00\\x14\\x00\\x80\\x00\\x00\\x00\\x00\\x01\\x00\\x17@\\n\\x00\\x11Max Pixel Stretch\\x00\\x01\\x00\\x00\\x00\\x00\\x00\\x00\\x00\\x00\\x00\\x00\\x00\\x00\\x00\\x01\\x00\\x00\\x00\\x04Name\\x14\\x00\\x80\\x00\\x00\\x00\\x00\\x01\\x00\\x0e@0\\xff\\xff\\xff\\xff\\x05Label\\x00\\x01\\x00\\x00\\x00\\x00\\x00( Waveform Parameters : Max Pixel Stretch\\x00\\x00\\x00\\x00\\x14\\x00\\x80\\x00\\x00\\x00\\x00\\x01\\x00\\x1f@\\n\\x00\\x18Mean Time Per Pixel (us)\\x00\\x00\\x01\\x00\\x00\\x00\\x00\\x00\\x00\\x00\\x00\\x00\\x00\\x00\\x00\\x00\\x01\\x00\\x00\\x00\\x04Name\\x14\\x00\\x80\\x00\\x00\\x00\\x00\\x01\\x00\\x0e@0\\xff\\xff\\xff\\xff\\x05Label\\x00\\x01\\x00\\x00\\x00\\x00\\x00/ Waveform Parameters : Mean Time Per Pixel (us)\\x00\\x00\\x00\\x00\\x14\\x00\\x80\\x00\\x00\\x00\\x00\\x01\\x00\\x13@\\n\\x00\\x0cY Range (um)\\x00\\x00\\x01\\x00\\x00\\x00\\x00\\x00\\x00\\x00\\x00\\x00\\x00\\x00\\x00\\x00\\x01\\x00\\x00\\x00\\x04Name\\x14\\x00\\x80\\x00\\x00\\x00\\x00\\x01\\x00\\x0e@0\\xff\\xff\\xff\\xff\\x05Label\\x00\\x01\\x00\\x00\\x00\\x00\\x00# Waveform Parameters : Y Range (um)\\x00\\x00\\x00\\x00\\x14\\x00\\x80\\x00\\x00\\x00\\x00\\x02\\x00\\x1b@\\n\\x00\\x15Time Per Trigger (ms)\\x00\\x1c@@\\x00\\x01\\xff\\xff\\xff\\xff\\x00\\x00\\x0ems Per Trigger\\x00\\x00\\x01\\x00\\x01\\x00\\x00\\x00\\x01@5%\\xb3\\xfa&fg\\x00\\x00\\x00\\x01\\x00\\x00\\x00\\x04Name\\x14\\x00\\x80\\x00\\x00\\x00\\x00\\x01\\x00\\x0e@0\\xff\\xff\\xff\\xff\\x05Label\\x00\\x01\\x00\\x00\\x00\\x00\\x00% Waveform Parameters : ms Per Trigger\\x00\\x00\\x00\\x00\\x14\\x00\\x80\\x00\\x00\\x00\\x00\\x01\\x00\\x15@\\x03\\x00\\x0eAO per Trigger\\x00\\x00\\x01\\x00\\x00\\x00\\x00\\x00\\xf8\\x00\\x00\\x00\\x01\\x00\\x00\\x00\\x04Name\\x14\\x00\\x80\\x00\\x00\\x00\\x00\\x01\\x00\\x0e@0\\xff\\xff\\xff\\xff\\x05Label\\x00\\x01\\x00\\x00\\x00\\x00\\x00% Waveform Parameters : AO per Trigger\\x00\\x00\\x00\\x00\\x14\\x00\\x80\\x00\\x00\\x00\\x00\\x01\\x00\\x13@\\x03\\x00\\x0cAO per WvFrm\\x00\\x00\\x01\\x00\\x00\\x00\\x00I\\xa0\\x00\\x00\\x00\\x01\\x00\\x00\\x00\\x04Name\\x14\\x00\\x80\\x00\\x00\\x00\\x00\\x01\\x00\\x0e@0\\xff\\xff\\xff\\xff\\x05Label\\x00\\x01\\x00\\x00\\x00\\x00\\x00# Waveform Parameters : AO per WvFrm\\x00\\x00\\x00\\x00\\x14\\x00\\x80\\x00\\x00\\x00\\x00\\x01\\x00\\x1b@\\n\\x00\\x15Pos read lag (pixels)\\x00\\x01\\x00\\x00\\x80\\x00\\x00\\x00\\x00\\x00\\x00\\x00\\x00\\x00\\x00\\x01\\x00\\x00\\x00\\x04Name\\x14\\x00\\x80\\x00\\x00\\x00\\x00\\x01\\x00\\x0e@0\\xff\\xff\\xff\\xff\\x05Label\\x00\\x01\\x00\\x00\\x00\\x00\\x00, Waveform Parameters : Pos read lag (pixels)\\x00\\x00\\x00\\x00\\x14\\x00\\x80\\x00\\x00\\x00\\x00\\x01\\x00\\x1b@\\x07\\x00\\x14AO read lag (counts)\\x00\\x00\\x01\\x00\\x00\\x00\\x00\\x00\\x00\\x00\\x00\\x00\\x01\\x00\\x00\\x00\\x04Name\\x14\\x00\\x80\\x00\\x00\\x00\\x00\\x01\\x00\\x0e@0\\xff\\xff\\xff\\xff\\x05Label\\x00\\x01\\x00\\x00\\x00\\x00\\x00+ Waveform Parameters : AO read lag (counts)\\x00\\x00\\x00\\x00\\x14\\x00\\x80\\x00\\x00\\x00\\x00\\x02\\x00\\x1b@\\n\\x00\\x14Time Per WvFrm (sec)\\x00\\x00\\x1a@@\\x00\\x01\\xff\\xff\\xff\\xff\\x00\\x00\\x0cZ Range (um)\\x00\\x00\\x01\\x00\\x01\\x00\\x00\\x00\\x01@>fffffg\\x00\\x00\\x00\\x01\\x00\\x00\\x00\\x04Name\\x14\\x00\\x80\\x00\\x00\\x00\\x00\\x01\\x00\\x0e@0\\xff\\xff\\xff\\xff\\x05Label\\x00\\x01\\x00\\x00\\x00\\x00\\x00# Waveform Parameters : Z Range (um)\\x00\\x00\\x00\\x00\\x14\\x00\\x80\\x00\\x00\\x00\\x00\\x01\\x00\\x15@\\n\\x00\\x0fAOTF delay (us)\\x00\\x01\\x00\\x00\\x00\\x00\\x00\\x00\\x00\\x00\\x00\\x00\\x00\\x00\\x00\\x01\\x00\\x00\\x00\\x04Name\\x14\\x00\\x80\\x00\\x00\\x00\\x00\\x01\\x00\\x0e@0\\xff\\xff\\xff\\xff\\x05Label\\x00\\x01\\x00\\x00\\x00\\x00\\x00& Waveform Parameters : AOTF delay (us)\\x00\\x00\\x00\\x00\\x14\\x00\\x80\\x00\\x00\\x00\\x00\\x01\\x00\\x19@\\x03\\x00\\x12# of Return points\\x00\\x00\\x01\\x00\\x00\\x00\\x00\\x00$\\x00\\x00\\x00\\x01\\x00\\x00\\x00\\x04Name\\x14\\x00\\x80\\x00\\x00\\x00\\x00\\x01\\x00\\x0e@0\\xff\\xff\\xff\\xff\\x05Label\\x00\\x01\\x00\\x00\\x00\\x00\\x00) Waveform Parameters : # of Return points\\x00\\x00\\x00\\x00\\x14\\x00\\x80\\x00\\x00\\x00\\x00\\x01\\x00\\x1d@\\x03\\x00\\x17# of Pulses per Trigger\\x00\\x01\\x00\\x00\\x00\\x00\\x00\\xf8\\x00\\x00\\x00\\x01\\x00\\x00\\x00\\x04Name\\x14\\x00\\x80\\x00\\x00\\x00\\x00\\x01\\x00\\x0e@0\\xff\\xff\\xff\\xff\\x05Label\\x00\\x01\\x00\\x00\\x00\\x00\\x00. Waveform Parameters : # of Pulses per Trigger\\x00\\x00\\x00\\x00\\x14\\x00\\x80\\x00\\x00\\x00\\x00\\x02\\x00\\x1b@\\x03\\x00\\x14Time Per WvFrm (sec)\\x00\\x00\\x1e@@\\x00\\x01\\xff\\xff\\xff\\xff\\x00\\x00\\x11Stack start index\\x00\\x01\\x00\\x01\\x00\\x00\\x00\\x01\\x00\\x00\\x00\\x00\\x00\\x00\\x00\\x01\\x00\\x00\\x00\\x04Name\\x14\\x00\\x80\\x00\\x00\\x00\\x00\\x01\\x00\\x0e@0\\xff\\xff\\xff\\xff\\x05Label\\x00\\x01\\x00\\x00\\x00\\x00\\x00( Waveform Parameters : Stack start index\\x00\\x00\\x00\\x00\\x14\\x00\\x80\\x00\\x00\\x00\\x00\\x02\\x00\\x13@\\x03\\x00\\rAO Rate (kHz)\\x00\\x1a@@\\x00\\x01\\xff\\xff\\xff\\xff\\x00\\x00\\x0cStack length\\x00\\x00\\x01\\x00\\x01\\x00\\x00\\x00\\x01\\x00\\x00I\\xa0\\x00\\x00\\x00\\x01\\x00\\x00\\x00\\x04Name\\x14\\x00\\x80\\x00\\x00\\x00\\x00\\x01\\x00\\x0e@0\\xff\\xff\\xff\\xff\\x05Label\\x00\\x01\\x00\\x00\\x00\\x00\\x00# Waveform Parameters : Stack length\\x00\\x00\\x00\\x00\\x14\\x00\\x80\\x00\\x00\\x00\\x00\\x02\\x00\\x13@\\x03\\x00\\rAO Rate (kHz)\\x00\\x1c@@\\x00\\x01\\xff\\xff\\xff\\xff\\x00\\x00\\x0eImgs per stack\\x00\\x00\\x01\\x00\\x01\\x00\\x00\\x00\\x01\\x00\\x00\\x00L\\x00\\x00\\x00\\x01\\x00\\x00\\x00\\x04Name\\x14\\x00\\x80\\x00\\x00\\x00\\x00\\x01\\x00\\x0e@0\\xff\\xff\\xff\\xff\\x05Label\\x00\\x01\\x00\\x00\\x00\\x00\\x00% Waveform Parameters : Imgs per stack\\x00\\x00\\x00\\x00\\x14\\x00\\x80\\x00\\x00\\x00\\x00\\x01\\x02\\x0e\\x00\\xf1\\x00\\x00\\x00\\x00\\x00\\x00\\x00\\x01\\x1eHHMI - SPIM Scan type enum.ctl\\x01\\xe7@\\x16\\x00\\x1b\\x0cNo scan/Idle\\x0bSingle Scan\\x0fContinuous Scan\\x07Z stack\\x12Z stack Continuous\\x06XZ PSF\\x16XZ PSF (SI excitation)\\x12Calibrate Z lookup\\x1aCalibrate Z lookup w/o dye\\x14Calibrate XZ & Vslit\\x11Calibrate Z sweep\\x16Calibrate Tiling Galvo\\x0cVirtual Slit\\x07SI Scan\\x0bSI Scan SLM\\x16TPE integrated scatter\\rFocusing scan\\x10SI Scan SLM comb\\rAutofocus FFT\\x0eAutofocus Bead\\x12Autofocus Contrast\\x14Detection Correction\\x15Excitation Correction\\x18Autofocus Variance Galvo\\x16Autofocus Variance PZT\\x0eAF TP Find LLS\\x10AF TP Find DO FP\\x00\\nScan State\\x00\\x00\\x01\\x00\\x00\\x00\\x03\\x00\\x00\\x00\\x01\\x00\\x00\\x00\\x04Name\\x14\\x00\\x80\\x00\\x00\\x00\\x00\\x01\\x00\\x0e@0\\xff\\xff\\xff\\xff\\x05Label\\x00\\x01\\x00\\x00\\x00\\x00\\x00\\x0b Scan State\\x00\\x00\\x00\\x00\\x14\\x00\\x80\\x00\\x00\\x00\\x00\\x01\\x00\\x10@0\\xff\\xff\\xff\\xff\\x07Version\\x00\\x01\\x00\\x00\\x00\\x00\\x009v 4.02893.0012 Built on : 3/21/2016 12:20:26 PM, rev 2893\\x00\\x00\\x00\\x01\\x00\\x00\\x00\\x04Name\\x14\\x00\\x80\\x00\\x00\\x00\\x00\\x01\\x00\\x0e@0\\xff\\xff\\xff\\xff\\x05Label\\x00\\x01\\x00\\x00\\x00\\x00\\x00\\x08 Version\\x00\\x00\\x00\\x00\\x14\\x00\\x80\\x00\\x00\\x00\\x00\\x01\\x00\\x0e@0\\xff\\xff\\xff\\xff\\x05Model\\x00\\x01\\x00\\x00\\x00\\x00\\x00\\nC11440-22C\\x00\\x00\\x00\\x01\\x00\\x00\\x00\\x04Name\\x14\\x00\\x80\\x00\\x00\\x00\\x00\\x01\\x00\\x0e@0\\xff\\xff\\xff\\xff\\x05Label\\x00\\x01\\x00\\x00\\x00\\x00\\x00\\x15 Cam Settings : Model\\x00\\x00\\x00\\x00\\x14\\x00\\x80\\x00\\x00\\x00\\x00\\x01\\x00\\r@\\x03\\x00\\x06Serial\\x00\\x00\\x01\\x00\\x00\\x00\\x01\\x88\\x9b\\x00\\x00\\x00\\x01\\x00\\x00\\x00\\x04Name\\x14\\x00\\x80\\x00\\x00\\x00\\x00\\x01\\x00\\x0e@0\\xff\\xff\\xff\\xff\\x05Label\\x00\\x01\\x00\\x00\\x00\\x00\\x00\\x16 Cam Settings : Serial\\x00\\x00\\x00\\x00\\x14\\x00\\x80\\x00\\x00\\x00\\x00\\x01\\x00\\x1f@\\x16\\x00\\x02\\x03OFF\\x02ON\\x00\\x00\\x0eFrame Transfer\\x00\\x00\\x01\\x00\\x00\\x00\\x00\\x00\\x00\\x00\\x01\\x00\\x00\\x00\\x04Name\\x14\\x00\\x80\\x00\\x00\\x00\\x00\\x01\\x00\\x0e@0\\xff\\xff\\xff\\xff\\x05Label\\x00\\x01\\x00\\x00\\x00\\x00\\x00\\x1e Cam Settings : Frame Transfer\\x00\\x00\\x00\\x00\\x14\\x00\\x80\\x00\\x00\\x00\\x00\\x01\\x00z\\x00\\xf1\\x00\\x00\\x00\\x00\\x00\\x00\\x00\\x01\\x1cTriggerMode_mode typedef.ctl\\x00U@\\x16\\x00\\x07\\x08Internal\\x08External\\x07N/A (2)\\x07N/A (3)\\x07N/A (4)\\x07N/A (5)\\x0eExternal Start\\x00\\x00\\x07Trigger\\x00\\x01\\x00\\x00\\x00\\x01\\x00\\x00\\x00\\x01\\x00\\x00\\x00\\x04Name\\x14\\x00\\x80\\x00\\x00\\x00\\x00\\x01\\x00\\x0e@0\\xff\\xff\\xff\\xff\\x05Label\\x00\\x01\\x00\\x00\\x00\\x00\\x00\\x17 Cam Settings : Trigger\\x00\\x00\\x00\\x00\\x14\\x00\\x80\\x00\\x00\\x00\\x00\\x01\\x00\\r@\\t\\x00\\x06Exp(s)\\x00\\x00\\x01\\x00\\x00<\\xa3\\xf6S\\x00\\x00\\x00\\x01\\x00\\x00\\x00\\x04Name\\x14\\x00\\x80\\x00\\x00\\x00\\x00\\x01\\x00\\x0e@0\\xff\\xff\\xff\\xff\\x05Label\\x00\\x01\\x00\\x00\\x00\\x00\\x00\\x16 Cam Settings : Exp(s)\\x00\\x00\\x00\\x00\\x14\\x00\\x80\\x00\\x00\\x00\\x00\\x01\\x00\\x0f@\\t\\x00\\x08Cycle(s)\\x00\\x00\\x01\\x00\\x00<\\xae.\\x0e\\x00\\x00\\x00\\x01\\x00\\x00\\x00\\x04Name\\x14\\x00\\x80\\x00\\x00\\x00\\x00\\x01\\x00\\x0e@0\\xff\\xff\\xff\\xff\\x05Label\\x00\\x01\\x00\\x00\\x00\\x00\\x00\\x18 Cam Settings : Cycle(s)\\x00\\x00\\x00\\x00\\x14\\x00\\x80\\x00\\x00\\x00\\x00\\x01\\x00\\x0f@\\t\\x00\\tCycle(Hz)\\x00\\x01\\x00\\x00B< \\x98\\x00\\x00\\x00\\x01\\x00\\x00\\x00\\x04Name\\x14\\x00\\x80\\x00\\x00\\x00\\x00\\x01\\x00\\x0e@0\\xff\\xff\\xff\\xff\\x05Label\\x00\\x01\\x00\\x00\\x00\\x00\\x00\\x19 Cam Settings : Cycle(Hz)\\x00\\x00\\x00\\x00\\x14\\x00\\x80\\x00\\x00\\x00\\x00\\x01\\x00\\xca\\x00\\xf1\\x00\\x00\\x00\\x00\\x00\\x00\\x00\\x01 AcquisitionMode_mode typedef.ctl\\x00\\xa1@\\x16\\x00\\n\\x0cReserved (0)\\x0bSingle Scan\\nAccumulate\\x08Kinetics\\rFast Kinetics\\x0eRun Till Abort\\x0cReserved (6)\\x0cReserved (7)\\x0cReserved (8)\\x18Time Delayed Integration\\x00\\nFrame Mode\\x00\\x00\\x01\\x00\\x00\\x00\\x05\\x00\\x00\\x00\\x01\\x00\\x00\\x00\\x04Name\\x14\\x00\\x80\\x00\\x00\\x00\\x00\\x01\\x00\\x0e@0\\xff\\xff\\xff\\xff\\x05Label\\x00\\x01\\x00\\x00\\x00\\x00\\x00\\x1a Cam Settings : Frame Mode\\x00\\x00\\x00\\x00\\x14\\x00\\x80\\x00\\x00\\x00\\x00\\x01\\x00}\\x00\\xf1\\xc8\\xff7=\\x00\\x00\\x00\\x01\\x19ReadMode_mode typedef.ctl\\x00[@\\x16\\x00\\x05\\x15Full Vertical Binning\\x0bMulti-Track\\x0cRandom-Track\\x0cSingle-Track\\x05Image\\x00\\x0cReadout Mode\\x00\\x00\\x01\\x00\\x00\\x00\\x04\\x00\\x00\\x00\\x01\\x00\\x00\\x00\\x04Name\\x14\\x00\\x80\\x00\\x00\\x00\\x00\\x01\\x00\\x0e@0\\xff\\xff\\xff\\xff\\x05Label\\x00\\x01\\x00\\x00\\x00\\x00\\x00\\x1c Cam Settings : Readout Mode\\x00\\x00\\x00\\x00\\x14\\x00\\x80\\x00\\x00\\x00\\x00\\x01\\x00\\x0b@\\x07\\x00\\x04Left\\x00\\x00\\x01\\x00\\x00\\x00\\x00\\x03\\x01\\x00\\x00\\x00\\x01\\x00\\x00\\x00\\x04Name\\x14\\x00\\x80\\x00\\x00\\x00\\x00\\x01\\x00\\x0e@0\\xff\\xff\\xff\\xff\\x05Label\\x00\\x01\\x00\\x00\\x00\\x00\\x00\\x1a Cam Settings : ROI : Left\\x00\\x00\\x00\\x00\\x14\\x00\\x80\\x00\\x00\\x00\\x00\\x01\\x00\\t@\\x07\\x00\\x03Top\\x00\\x01\\x00\\x00\\x00\\x00\\x03\\x81\\x00\\x00\\x00\\x01\\x00\\x00\\x00\\x04Name\\x14\\x00\\x80\\x00\\x00\\x00\\x00\\x01\\x00\\x0e@0\\xff\\xff\\xff\\xff\\x05Label\\x00\\x01\\x00\\x00\\x00\\x00\\x00\\x19 Cam Settings : ROI : Top\\x00\\x00\\x00\\x00\\x14\\x00\\x80\\x00\\x00\\x00\\x00\\x01\\x00\\x0b@\\x07\\x00\\x05Right\\x00\\x01\\x00\\x00\\x00\\x00\\x05\\x00\\x00\\x00\\x00\\x01\\x00\\x00\\x00\\x04Name\\x14\\x00\\x80\\x00\\x00\\x00\\x00\\x01\\x00\\x0e@0\\xff\\xff\\xff\\xff\\x05Label\\x00\\x01\\x00\\x00\\x00\\x00\\x00\\x1b Cam Settings : ROI : Right\\x00\\x00\\x00\\x00\\x14\\x00\\x80\\x00\\x00\\x00\\x00\\x01\\x00\\r@\\x07\\x00\\x06Bottom\\x00\\x00\\x01\\x00\\x00\\x00\\x00\\x04\\x80\\x00\\x00\\x00\\x01\\x00\\x00\\x00\\x04Name\\x14\\x00\\x80\\x00\\x00\\x00\\x00\\x01\\x00\\x0e@0\\xff\\xff\\xff\\xff\\x05Label\\x00\\x01\\x00\\x00\\x00\\x00\\x00\\x1c Cam Settings : ROI : Bottom\\x00\\x00\\x00\\x00\\x14\\x00\\x80\\x00\\x00\\x00\\x00\\x01\\x00\\x07@\\x07\\x00\\x01X\\x00\\x01\\x00\\x00\\x00\\x00\\x00\\x01\\x00\\x00\\x00\\x01\\x00\\x00\\x00\\x04Name\\x14\\x00\\x80\\x00\\x00\\x00\\x00\\x01\\x00\\x0e@0\\xff\\xff\\xff\\xff\\x05Label\\x00\\x01\\x00\\x00\\x00\\x00\\x00\\x1b Cam Settings : Binning : X\\x00\\x00\\x00\\x00\\x14\\x00\\x80\\x00\\x00\\x00\\x00\\x01\\x00\\x07@\\x07\\x00\\x01Y\\x00\\x01\\x00\\x00\\x00\\x00\\x00\\x01\\x00\\x00\\x00\\x01\\x00\\x00\\x00\\x04Name\\x14\\x00\\x80\\x00\\x00\\x00\\x00\\x01\\x00\\x0e@0\\xff\\xff\\xff\\xff\\x05Label\\x00\\x01\\x00\\x00\\x00\\x00\\x00\\x1b Cam Settings : Binning : Y\\x00\\x00\\x00\\x00\\x14\\x00\\x80\\x00\\x00\\x00\\x00\\x01\\x00\\x07@\\x07\\x00\\x01X\\x00\\x01\\x00\\x00\\x00\\x00\\x08\\x00\\x00\\x00\\x00\\x01\\x00\\x00\\x00\\x04Name\\x14\\x00\\x80\\x00\\x00\\x00\\x00\\x01\\x00\\x0e@0\\xff\\xff\\xff\\xff\\x05Label\\x00\\x01\\x00\\x00\\x00\\x00\\x00\\x1f Cam Settings : # of Pixels : X\\x00\\x00\\x00\\x00\\x14\\x00\\x80\\x00\\x00\\x00\\x00\\x01\\x00\\x07@\\x07\\x00\\x01Y\\x00\\x01\\x00\\x00\\x00\\x00\\x08\\x00\\x00\\x00\\x00\\x01\\x00\\x00\\x00\\x04Name\\x14\\x00\\x80\\x00\\x00\\x00\\x00\\x01\\x00\\x0e@0\\xff\\xff\\xff\\xff\\x05Label\\x00\\x01\\x00\\x00\\x00\\x00\\x00\\x1f Cam Settings : # of Pixels : Y\\x00\\x00\\x00\\x00\\x14\\x00\\x80\\x00\\x00\\x00\\x00\\x01\\x00\\x0f@\\t\\x00\\x08VSSspeed\\x00\\x00\\x01\\x00\\x00\\xbf\\x80\\x00\\x00\\x00\\x00\\x00\\x01\\x00\\x00\\x00\\x04Name\\x14\\x00\\x80\\x00\\x00\\x00\\x00\\x01\\x00\\x0e@0\\xff\\xff\\xff\\xff\\x05Label\\x00\\x01\\x00\\x00\\x00\\x00\\x00\\x18 Cam Settings : VSSspeed\\x00\\x00\\x00\\x00\\x14\\x00\\x80\\x00\\x00\\x00\\x00\\x01\\x00\\x0f@\\t\\x00\\x08HSSspeed\\x00\\x00\\x01\\x00\\x00\\x00\\x00\\x00\\x00\\x00\\x00\\x00\\x01\\x00\\x00\\x00\\x04Name\\x14\\x00\\x80\\x00\\x00\\x00\\x00\\x01\\x00\\x0e@0\\xff\\xff\\xff\\xff\\x05Label\\x00\\x01\\x00\\x00\\x00\\x00\\x00\\x18 Cam Settings : HSSspeed\\x00\\x00\\x00\\x00\\x14\\x00\\x80\\x00\\x00\\x00\\x00\\x01\\x005\\x00\\xf1\\xc8\\xff7e\\x00\\x00\\x00\\x01\\x15VSSAmplitude ring.ctl\\x00\\x17@\\x06\\x00\\x0cVSSAmplitude\\x00\\x00\\x01\\x00\\x00\\x00\\x00\\x00\\x00\\x00\\x01\\x00\\x00\\x00\\x04Name\\x14\\x00\\x80\\x00\\x00\\x00\\x00\\x01\\x00\\x0e@0\\xff\\xff\\xff\\xff\\x05Label\\x00\\x01\\x00\\x00\\x00\\x00\\x00\\x1c Cam Settings : VSSAmplitude\\x00\\x00\\x00\\x00\\x14\\x00\\x80\\x00\\x00\\x00\\x00\\x01\\x00V\\x00\\xf1\\x00\\x00\\x00\\x00\\x00\\x00\\x00\\x01\\x18HSSpeed_type typedef.ctl\\x005@\\x16\\x00\\x02\\x06EM Amp\\x10Conventional Amp\\x00\\x10Output Amplifier\\x00\\x00\\x01\\x00\\x00\\x00\\x00\\x00\\x00\\x00\\x01\\x00\\x00\\x00\\x04Name\\x14\\x00\\x80\\x00\\x00\\x00\\x00\\x01\\x00\\x0e@0\\xff\\xff\\xff\\xff\\x05Label\\x00\\x01\\x00\\x00\\x00\\x00\\x00  Cam Settings : Output Amplifier\\x00\\x00\\x00\\x00\\x14\\x00\\x80\\x00\\x00\\x00\\x00\\x01\\x00\\r@\\t\\x00\\x07Temp(C)\\x00\\x01\\x00\\x00\\x00\\x00\\x00\\x00\\x00\\x00\\x00\\x01\\x00\\x00\\x00\\x04Name\\x14\\x00\\x80\\x00\\x00\\x00\\x00\\x01\\x00\\x0e@0\\xff\\xff\\xff\\xff\\x05Label\\x00\\x01\\x00\\x00\\x00\\x00\\x00\\x17 Cam Settings : Temp(C)\\x00\\x00\\x00\\x00\\x14\\x00\\x80\\x00\\x00\\x00\\x00\\x01\\x00\\x11@\\x03\\x00\\nAD Channel\\x00\\x00\\x01\\x00\\x00\\x00\\x00\\x00\\x00\\x00\\x00\\x00\\x01\\x00\\x00\\x00\\x04Name\\x14\\x00\\x80\\x00\\x00\\x00\\x00\\x01\\x00\\x0e@0\\xff\\xff\\xff\\xff\\x05Label\\x00\\x01\\x00\\x00\\x00\\x00\\x00\\x1a Cam Settings : AD Channel\\x00\\x00\\x00\\x00\\x14\\x00\\x80\\x00\\x00\\x00\\x00\\x01\\x00\\r@\\x03\\x00\\x07EM Gain\\x00\\x01\\x00\\x00\\x00\\x00\\x00\\x00\\x00\\x00\\x00\\x01\\x00\\x00\\x00\\x04Name\\x14\\x00\\x80\\x00\\x00\\x00\\x00\\x01\\x00\\x0e@0\\xff\\xff\\xff\\xff\\x05Label\\x00\\x01\\x00\\x00\\x00\\x00\\x00\\x17 Cam Settings : EM Gain\\x00\\x00\\x00\\x00\\x14\\x00\\x80\\x00\\x00\\x00\\x00\\x01\\x00\\x15@\\x03\\x00\\x0eHS Speed index\\x00\\x00\\x01\\x00\\x00\\x00\\x00\\x00\\x00\\x00\\x00\\x00\\x01\\x00\\x00\\x00\\x04Name\\x14\\x00\\x80\\x00\\x00\\x00\\x00\\x01\\x00\\x0e@0\\xff\\xff\\xff\\xff\\x05Label\\x00\\x01\\x00\\x00\\x00\\x00\\x00\\x1e Cam Settings : HS Speed index\\x00\\x00\\x00\\x00\\x14\\x00\\x80\\x00\\x00\\x00\\x00\\x01\\x00\\x11@\\x03\\x00\\x0bPreamp Gain\\x00\\x01\\x00\\x00\\x00\\x00\\x00\\x00\\x00\\x00\\x00\\x01\\x00\\x00\\x00\\x04Name\\x14\\x00\\x80\\x00\\x00\\x00\\x00\\x01\\x00\\x0e@0\\xff\\xff\\xff\\xff\\x05Label\\x00\\x01\\x00\\x00\\x00\\x00\\x00\\x1b Cam Settings : Preamp Gain\\x00\\x00\\x00\\x00\\x14\\x00\\x80\\x00\\x00\\x00\\x00\\x01\\x00\\x0f@\\x03\\x00\\tBit depth\\x00\\x01\\x00\\x00\\x00\\x00\\x00\\x00\\x00\\x00\\x00\\x01\\x00\\x00\\x00\\x04Name\\x14\\x00\\x80\\x00\\x00\\x00\\x00\\x01\\x00\\x0e@0\\xff\\xff\\xff\\xff\\x05Label\\x00\\x01\\x00\\x00\\x00\\x00\\x00\\x19 Cam Settings : Bit depth\\x00\\x00\\x00\\x00\\x14\\x00\\x80\\x00\\x00\\x00\\x00\\x01\\x00\\x14@!\\x0eBaseline Clamp\\x00\\x00\\x01\\x00\\x00\\x01\\x00\\x00\\x00\\x01\\x00\\x00\\x00\\x04Name\\x14\\x00\\x80\\x00\\x00\\x00\\x00\\x01\\x00\\x0e@0\\xff\\xff\\xff\\xff\\x05Label\\x00\\x01\\x00\\x00\\x00\\x00\\x00\\x1e Cam Settings : Baseline Clamp\\x00\\x00\\x00\\x00\\x14\\x00\\x80\\x00\\x00\\x00\\x00\\x01\\x00\\x0e@!\\x08Enabled?\\x00\\x00\\x01\\x00\\x00\\x00\\x00\\x00\\x00\\x01\\x00\\x00\\x00\\x04Name\\x14\\x00\\x80\\x00\\x00\\x00\\x00\\x01\\x00\\x0e@0\\xff\\xff\\xff\\xff\\x05Label\\x00\\x01\\x00\\x00\\x00\\x00\\x00  Cam Settings : Spool : Enabled?\\x00\\x00\\x00\\x00\\x14\\x00\\x80\\x00\\x00\\x00\\x00\\x01\\x00\\x12@2\\xff\\xff\\xff\\xff\\tFile stem\\x00\\x01\\x00\\x00PTH0\\x00\\x00\\x00\\x04\\x00\\x02\\x00\\x00\\x00\\x00\\x00\\x01\\x00\\x00\\x00\\x04Name\\x14\\x00\\x80\\x00\\x00\\x00\\x00\\x01\\x00\\x0e@0\\xff\\xff\\xff\\xff\\x05Label\\x00\\x01\\x00\\x00\\x00\\x00\\x00! Cam Settings : Spool : File stem\\x00\\x00\\x00\\x00\\x14\\x00\\x80\\x00\\x00\\x00\\x00\\x01\\x00\\x15@\\x03\\x00\\x0fFramebuffersize\\x00\\x01\\x00\\x00\\x00\\x00\\x00\\n\\x00\\x00\\x00\\x01\\x00\\x00\\x00\\x04Name\\x14\\x00\\x80\\x00\\x00\\x00\\x00\\x01\\x00\\x0e@0\\xff\\xff\\xff\\xff\\x05Label\\x00\\x01\\x00\\x00\\x00\\x00\\x00\\' Cam Settings : Spool : Framebuffersize\\x00\\x00\\x00\\x00\\x14\\x00\\x80\\x00\\x00\\x00\\x00\\x01\\x00\\xaa\\x00\\xf1\\xc9\\t\\x98X\\x00\\x00\\x00\\x01\\x18Spool_method typedef.ctl\\x00\\x89@\\x16\\x00\\t\\x0632-bit\\x07Depends\\x0616-bit\\x12Multiple Directory\\x11Spool to RAM disk\\x0b16-bit FITS\\x03SIF\\x0c16-buit TIFF\\x1dMultiple Directory Compressed\\x00\\x06Method\\x00\\x00\\x01\\x00\\x00\\x00\\x07\\x00\\x00\\x00\\x01\\x00\\x00\\x00\\x04Name\\x14\\x00\\x80\\x00\\x00\\x00\\x00\\x01\\x00\\x0e@0\\xff\\xff\\xff\\xff\\x05Label\\x00\\x01\\x00\\x00\\x00\\x00\\x00\\x1e Cam Settings : Spool : Method\\x00\\x00\\x00\\x00\\x14\\x00\\x80\\x00\\x00\\x00\\x00\\x01\\x00\\x0f@\\x03\\x00\\t# of Exps\\x00\\x01\\x00\\x00\\x00\\x00Y\\x10\\x00\\x00\\x00\\x01\\x00\\x00\\x00\\x04Name\\x14\\x00\\x80\\x00\\x00\\x00\\x00\\x01\\x00\\x0e@0\\xff\\xff\\xff\\xff\\x05Label\\x00\\x01\\x00\\x00\\x00\\x00\\x00\\x19 Cam Settings : # of Exps\\x00\\x00\\x00\\x00\\x14\\x00\\x80\\x00\\x00\\x00\\x00\\x01\\x00\\x08@!\\x03On?\\x00\\x01\\x00\\x00\\x00\\x00\\x00\\x00\\x01\\x00\\x00\\x00\\x04Name\\x14\\x00\\x80\\x00\\x00\\x00\\x00\\x01\\x00\\x0e@0\\xff\\xff\\xff\\xff\\x05Label\\x00\\x01\\x00\\x00\\x00\\x00\\x00\\x1d Cam Settings : Cropped : On?\\x00\\x00\\x00\\x00\\x14\\x00\\x80\\x00\\x00\\x00\\x00\\x01\\x00\\x07@\\x07\\x00\\x01X\\x00\\x01\\x00\\x00\\x00\\x00\\x08\\x00\\x00\\x00\\x00\\x01\\x00\\x00\\x00\\x04Name\\x14\\x00\\x80\\x00\\x00\\x00\\x00\\x01\\x00\\x0e@0\\xff\\xff\\xff\\xff\\x05Label\\x00\\x01\\x00\\x00\\x00\\x00\\x00& Cam Settings : Cropped : # of pix : X\\x00\\x00\\x00\\x00\\x14\\x00\\x80\\x00\\x00\\x00\\x00\\x01\\x00\\x07@\\x07\\x00\\x01Y\\x00\\x01\\x00\\x00\\x00\\x00\\x08\\x00\\x00\\x00\\x00\\x01\\x00\\x00\\x00\\x04Name\\x14\\x00\\x80\\x00\\x00\\x00\\x00\\x01\\x00\\x0e@0\\xff\\xff\\xff\\xff\\x05Label\\x00\\x01\\x00\\x00\\x00\\x00\\x00& Cam Settings : Cropped : # of pix : Y\\x00\\x00\\x00\\x00\\x14\\x00\\x80\\x00\\x00\\x00\\x00\\x01\\x00\\x07@\\x07\\x00\\x01X\\x00\\x01\\x00\\x00\\x00\\x00\\x00\\x01\\x00\\x00\\x00\\x01\\x00\\x00\\x00\\x04Name\\x14\\x00\\x80\\x00\\x00\\x00\\x00\\x01\\x00\\x0e@0\\xff\\xff\\xff\\xff\\x05Label\\x00\\x01\\x00\\x00\\x00\\x00\\x00% Cam Settings : Cropped : Binning : X\\x00\\x00\\x00\\x00\\x14\\x00\\x80\\x00\\x00\\x00\\x00\\x01\\x00\\x07@\\x07\\x00\\x01Y\\x00\\x01\\x00\\x00\\x00\\x00\\x00\\x01\\x00\\x00\\x00\\x01\\x00\\x00\\x00\\x04Name\\x14\\x00\\x80\\x00\\x00\\x00\\x00\\x01\\x00\\x0e@0\\xff\\xff\\xff\\xff\\x05Label\\x00\\x01\\x00\\x00\\x00\\x00\\x00% Cam Settings : Cropped : Binning : Y\\x00\\x00\\x00\\x00\\x14\\x00\\x80\\x00\\x00\\x00\\x00\\x01\\x00\\x0b@\\x07\\x00\\x04Left\\x00\\x00\\x01\\x00\\x00\\x00\\x00\\x03\\x01\\x00\\x00\\x00\\x01\\x00\\x00\\x00\\x04Name\\x14\\x00\\x80\\x00\\x00\\x00\\x00\\x01\\x00\\x0e@0\\xff\\xff\\xff\\xff\\x05Label\\x00\\x01\\x00\\x00\\x00\\x00\\x00\\x1c Cam Settings : L ROI : Left\\x00\\x00\\x00\\x00\\x14\\x00\\x80\\x00\\x00\\x00\\x00\\x01\\x00\\t@\\x07\\x00\\x03Top\\x00\\x01\\x00\\x00\\x00\\x00\\x03\\x81\\x00\\x00\\x00\\x01\\x00\\x00\\x00\\x04Name\\x14\\x00\\x80\\x00\\x00\\x00\\x00\\x01\\x00\\x0e@0\\xff\\xff\\xff\\xff\\x05Label\\x00\\x01\\x00\\x00\\x00\\x00\\x00\\x1b Cam Settings : L ROI : Top\\x00\\x00\\x00\\x00\\x14\\x00\\x80\\x00\\x00\\x00\\x00\\x01\\x00\\x0b@\\x07\\x00\\x05Right\\x00\\x01\\x00\\x00\\x00\\x00\\x00\\x00\\x00\\x00\\x00\\x01\\x00\\x00\\x00\\x04Name\\x14\\x00\\x80\\x00\\x00\\x00\\x00\\x01\\x00\\x0e@0\\xff\\xff\\xff\\xff\\x05Label\\x00\\x01\\x00\\x00\\x00\\x00\\x00\\x1d Cam Settings : L ROI : Right\\x00\\x00\\x00\\x00\\x14\\x00\\x80\\x00\\x00\\x00\\x00\\x01\\x00\\r@\\x07\\x00\\x06Bottom\\x00\\x00\\x01\\x00\\x00\\x00\\x00\\x04\\x80\\x00\\x00\\x00\\x01\\x00\\x00\\x00\\x04Name\\x14\\x00\\x80\\x00\\x00\\x00\\x00\\x01\\x00\\x0e@0\\xff\\xff\\xff\\xff\\x05Label\\x00\\x01\\x00\\x00\\x00\\x00\\x00\\x1e Cam Settings : L ROI : Bottom\\x00\\x00\\x00\\x00\\x14\\x00\\x80\\x00\\x00\\x00\\x00\\x01\\x00\\x0b@\\x07\\x00\\x04Left\\x00\\x00\\x01\\x00\\x00\\x00\\x00\\x00\\x00\\x00\\x00\\x00\\x01\\x00\\x00\\x00\\x04Name\\x14\\x00\\x80\\x00\\x00\\x00\\x00\\x01\\x00\\x0e@0\\xff\\xff\\xff\\xff\\x05Label\\x00\\x01\\x00\\x00\\x00\\x00\\x00\\x1c Cam Settings : R ROI : Left\\x00\\x00\\x00\\x00\\x14\\x00\\x80\\x00\\x00\\x00\\x00\\x01\\x00\\t@\\x07\\x00\\x03Top\\x00\\x01\\x00\\x00\\x00\\x00\\x03\\x81\\x00\\x00\\x00\\x01\\x00\\x00\\x00\\x04Name\\x14\\x00\\x80\\x00\\x00\\x00\\x00\\x01\\x00\\x0e@0\\xff\\xff\\xff\\xff\\x05Label\\x00\\x01\\x00\\x00\\x00\\x00\\x00\\x1b Cam Settings : R ROI : Top\\x00\\x00\\x00\\x00\\x14\\x00\\x80\\x00\\x00\\x00\\x00\\x01\\x00\\x0b@\\x07\\x00\\x05Right\\x00\\x01\\x00\\x00\\x00\\x00\\x05\\x00\\x00\\x00\\x00\\x01\\x00\\x00\\x00\\x04Name\\x14\\x00\\x80\\x00\\x00\\x00\\x00\\x01\\x00\\x0e@0\\xff\\xff\\xff\\xff\\x05Label\\x00\\x01\\x00\\x00\\x00\\x00\\x00\\x1d Cam Settings : R ROI : Right\\x00\\x00\\x00\\x00\\x14\\x00\\x80\\x00\\x00\\x00\\x00\\x01\\x00\\r@\\x07\\x00\\x06Bottom\\x00\\x00\\x01\\x00\\x00\\x00\\x00\\x04\\x80\\x00\\x00\\x00\\x01\\x00\\x00\\x00\\x04Name\\x14\\x00\\x80\\x00\\x00\\x00\\x00\\x01\\x00\\x0e@0\\xff\\xff\\xff\\xff\\x05Label\\x00\\x01\\x00\\x00\\x00\\x00\\x00\\x1e Cam Settings : R ROI : Bottom\\x00\\x00\\x00\\x00\\x14\\x00\\x80\\x00\\x00\\x00\\x00\\x01\\x00\\x0b@\\x07\\x00\\x04Left\\x00\\x00\\x01\\x00\\x00\\x00\\x00\\x03\\x01\\x00\\x00\\x00\\x01\\x00\\x00\\x00\\x04Name\\x14\\x00\\x80\\x00\\x00\\x00\\x00\\x01\\x00\\x0e@0\\xff\\xff\\xff\\xff\\x05Label\\x00\\x01\\x00\\x00\\x00\\x00\\x00\\x1e Cam Settings : FOV ROI : Left\\x00\\x00\\x00\\x00\\x14\\x00\\x80\\x00\\x00\\x00\\x00\\x01\\x00\\t@\\x07\\x00\\x03Top\\x00\\x01\\x00\\x00\\x00\\x00\\x03\\x81\\x00\\x00\\x00\\x01\\x00\\x00\\x00\\x04Name\\x14\\x00\\x80\\x00\\x00\\x00\\x00\\x01\\x00\\x0e@0\\xff\\xff\\xff\\xff\\x05Label\\x00\\x01\\x00\\x00\\x00\\x00\\x00\\x1d Cam Settings : FOV ROI : Top\\x00\\x00\\x00\\x00\\x14\\x00\\x80\\x00\\x00\\x00\\x00\\x01\\x00\\x0b@\\x07\\x00\\x05Right\\x00\\x01\\x00\\x00\\x00\\x00\\x05\\x00\\x00\\x00\\x00\\x01\\x00\\x00\\x00\\x04Name\\x14\\x00\\x80\\x00\\x00\\x00\\x00\\x01\\x00\\x0e@0\\xff\\xff\\xff\\xff\\x05Label\\x00\\x01\\x00\\x00\\x00\\x00\\x00\\x1f Cam Settings : FOV ROI : Right\\x00\\x00\\x00\\x00\\x14\\x00\\x80\\x00\\x00\\x00\\x00\\x01\\x00\\r@\\x07\\x00\\x06Bottom\\x00\\x00\\x01\\x00\\x00\\x00\\x00\\x04\\x80\\x00\\x00\\x00\\x01\\x00\\x00\\x00\\x04Name\\x14\\x00\\x80\\x00\\x00\\x00\\x00\\x01\\x00\\x0e@0\\xff\\xff\\xff\\xff\\x05Label\\x00\\x01\\x00\\x00\\x00\\x00\\x00  Cam Settings : FOV ROI : Bottom\\x00\\x00\\x00\\x00\\x14\\x00\\x80\\x00\\x00\\x00\\x00\\x01\\x00\\x0f@\\x03\\x00\\t# of Imgs\\x00\\x01\\x00\\x00\\x00\\x00Y\\x10\\x00\\x00\\x00\\x01\\x00\\x00\\x00\\x04Name\\x14\\x00\\x80\\x00\\x00\\x00\\x00\\x01\\x00\\x0e@0\\xff\\xff\\xff\\xff\\x05Label\\x00\\x01\\x00\\x00\\x00\\x00\\x00\\x19 Cam Settings : # of Imgs\\x00\\x00\\x00\\x00\\x14\\x00\\x80\\x00\\x00\\x00\\x00\\x06\\x00\\x0b@\\n\\x00\\x04Left\\x00\\x00\\t@\\n\\x00\\x03Top\\x00\\x0b@\\n\\x00\\x05Right\\x00\\r@\\n\\x00\\x06Bottom\\x00\\x00K\\x00\\xf1\\x00\\x00\\x00\\x00\\x00\\x00\\x00\\x01(L-T-R-B DBL cluster -system numerics.ctl\\x00\\x1a@P\\x00\\x04\\x00\\x00\\x00\\x01\\x00\\x02\\x00\\x03\\x06Pixels\\x00\\x00\\x14@@\\x00\\x01\\xff\\xff\\xff\\xff\\x00\\x04\\x07subROIs\\x00\\x01\\x00\\x05\\x00\\x00\\x00\\x01@\\x88\\x08\\x00\\x00\\x00\\x00\\x00@\\x8c\\x08\\x00\\x00\\x00\\x00\\x00@\\x94\\x00\\x00\\x00\\x00\\x00\\x00@\\x92\\x00\\x00\\x00\\x00\\x00\\x00\\x00\\x00\\x00\\x01\\x00\\x00\\x00\\x04Name\\x14\\x00\\x80\\x00\\x00\\x00\\x00\\x01\\x00\\x0e@0\\xff\\xff\\xff\\xff\\x05Label\\x00\\x01\\x00\\x00\\x00\\x00\\x00\\x17 Cam Settings : subROIs\\x00\\x00\\x00\\x00\\x00\\x00\\x009v 4.02893.0012 Built on : 3/21/2016 12:20:26 PM, rev 2893'"
      ]
     },
     "execution_count": 18,
     "metadata": {},
     "output_type": "execute_result"
    }
   ],
   "source": [
    "tags['ImageID'].value"
   ]
  },
  {
   "cell_type": "code",
   "execution_count": 16,
   "metadata": {},
   "outputs": [
    {
     "data": {
      "text/plain": [
       "512"
      ]
     },
     "execution_count": 16,
     "metadata": {},
     "output_type": "execute_result"
    }
   ],
   "source": [
    "lls.pages.pages[0].imagelength"
   ]
  },
  {
   "cell_type": "code",
   "execution_count": 17,
   "metadata": {},
   "outputs": [
    {
     "data": {
      "text/plain": [
       "256"
      ]
     },
     "execution_count": 17,
     "metadata": {},
     "output_type": "execute_result"
    }
   ],
   "source": [
    "lls.pages.pages[0].imagewidth"
   ]
  },
  {
   "cell_type": "code",
   "execution_count": 18,
   "metadata": {},
   "outputs": [
    {
     "data": {
      "text/plain": [
       "1"
      ]
     },
     "execution_count": 18,
     "metadata": {},
     "output_type": "execute_result"
    }
   ],
   "source": [
    "lls.pages.pages[0].imagedepth"
   ]
  },
  {
   "cell_type": "code",
   "execution_count": 21,
   "metadata": {},
   "outputs": [
    {
     "data": {
      "text/plain": [
       "(76, 512, 256)"
      ]
     },
     "execution_count": 21,
     "metadata": {},
     "output_type": "execute_result"
    }
   ],
   "source": [
    "lls.asarray().shape"
   ]
  },
  {
   "cell_type": "markdown",
   "metadata": {},
   "source": [
    "# ImageJ metadata\n",
    "\n",
    "The information below was posted to Chris Gohlke on this thread\n",
    "https://forum.image.sc/t/python-copy-all-metadata-from-one-multipage-tif-to-another/26597/8\n",
    "\n",
    "I'm copying it here for my own reference.\n",
    "\n",
    "\n",
    "Quote:\n",
    "Reading selected metadata from an existing file and creating an ImageJ hyperstack compatible file from scratch using that metadata is possible with tifffile but some knowledge of the undocumented ImageJ hyperstack format is required.\n",
    "\n",
    "For example, using the confocal-series.tif file from the Fiji samples:"
   ]
  },
  {
   "cell_type": "code",
   "execution_count": 1,
   "metadata": {},
   "outputs": [
    {
     "ename": "ImportError",
     "evalue": "cannot import name 'imwrite'",
     "output_type": "error",
     "traceback": [
      "\u001b[1;31m--------------------------------------------------------------------------\u001b[0m",
      "\u001b[1;31mImportError\u001b[0m                              Traceback (most recent call last)",
      "\u001b[1;32m<ipython-input-1-9b3b3b1d0fcd>\u001b[0m in \u001b[0;36m<module>\u001b[1;34m\u001b[0m\n\u001b[1;32m----> 1\u001b[1;33m \u001b[1;32mfrom\u001b[0m \u001b[0mtifffile\u001b[0m \u001b[1;32mimport\u001b[0m \u001b[0mTiffFile\u001b[0m\u001b[1;33m,\u001b[0m \u001b[0mimwrite\u001b[0m\u001b[1;33m\u001b[0m\u001b[0m\n\u001b[0m\u001b[0;32m      2\u001b[0m \u001b[1;32mfrom\u001b[0m \u001b[0mtifffile\u001b[0m\u001b[1;33m.\u001b[0m\u001b[0mtifffile\u001b[0m \u001b[1;32mimport\u001b[0m \u001b[0mimagej_description_metadata\u001b[0m\u001b[1;33m,\u001b[0m \u001b[0mtranspose_axes\u001b[0m\u001b[1;33m\u001b[0m\u001b[0m\n\u001b[0;32m      3\u001b[0m \u001b[1;33m\u001b[0m\u001b[0m\n\u001b[0;32m      4\u001b[0m \u001b[1;32mwith\u001b[0m \u001b[0mTiffFile\u001b[0m\u001b[1;33m(\u001b[0m\u001b[1;34m'confocal-series.tif'\u001b[0m\u001b[1;33m)\u001b[0m \u001b[1;32mas\u001b[0m \u001b[0mtif\u001b[0m\u001b[1;33m:\u001b[0m\u001b[1;33m\u001b[0m\u001b[0m\n\u001b[0;32m      5\u001b[0m     \u001b[1;32massert\u001b[0m \u001b[0mtif\u001b[0m\u001b[1;33m.\u001b[0m\u001b[0mis_imagej\u001b[0m\u001b[1;33m\u001b[0m\u001b[0m\n",
      "\u001b[1;31mImportError\u001b[0m: cannot import name 'imwrite'"
     ]
    }
   ],
   "source": [
    "from tifffile import TiffFile, imwrite\n",
    "from tifffile.tifffile import imagej_description_metadata, transpose_axes\n",
    "\n",
    "with TiffFile('confocal-series.tif') as tif:\n",
    "    assert tif.is_imagej\n",
    "    # print detailed information about the file\n",
    "    print(tif.__str__(detail=2))\n",
    "    # get image resolution from TIFF tags\n",
    "    tags = tif.pages[0].tags\n",
    "    x_resolution = tags['XResolution'].value\n",
    "    y_resolution = tags['YResolution'].value\n",
    "    resolution_unit = tags['ResolutionUnit'].value\n",
    "    # parse ImageJ metadata from the ImageDescription tag\n",
    "    ij_description = tags['ImageDescription'].value\n",
    "    ij_description_metadata = imagej_description_metadata(ij_description)\n",
    "    # get ImageJ app metadata\n",
    "    ij_metadata = tags['IJMetadata'].value\n",
    "    # read the whole image stack and get the axes order\n",
    "    series = tif.series[0]\n",
    "    ij_hyperstack = series.asarray()\n",
    "    ij_hyperstack_axes = series.axes\n",
    "\n",
    "# process ij_hyperstack array; make sure not to change the array type or shape\n",
    "..."
   ]
  },
  {
   "cell_type": "markdown",
   "metadata": {},
   "source": [
    " Beware that tifffile writes little-endian TIFF files by default while ImageJ writes big-endian.\n",
    " \n",
    "      \n",
    "\n",
    "It is possible to create a TIFF file of individual 2D images, but that will not create an ImageJ hyperstack compatible file:"
   ]
  },
  {
   "cell_type": "code",
   "execution_count": null,
   "metadata": {},
   "outputs": [],
   "source": [
    "with tifffile.TiffWriter('file.tiff') as tif:\n",
    "    for image in image_stack:\n",
    "       tif.save(image, contiguous=False, **other_parameters)"
   ]
  },
  {
   "cell_type": "markdown",
   "metadata": {},
   "source": [
    "# tif file from save individual file during NIS Elements Scan Large Area"
   ]
  },
  {
   "cell_type": "code",
   "execution_count": 3,
   "metadata": {},
   "outputs": [],
   "source": [
    "tile  = tifffile.TiffFile(\"/home/hilsenst/Desktop/tile_x001_y007.tif\")"
   ]
  },
  {
   "cell_type": "code",
   "execution_count": 4,
   "metadata": {},
   "outputs": [],
   "source": [
    "tile.epics_metadata"
   ]
  },
  {
   "cell_type": "code",
   "execution_count": 5,
   "metadata": {},
   "outputs": [],
   "source": [
    "tile.imagej_metadata"
   ]
  },
  {
   "cell_type": "code",
   "execution_count": 6,
   "metadata": {},
   "outputs": [],
   "source": [
    "tile.metaseries_metadata"
   ]
  },
  {
   "cell_type": "code",
   "execution_count": 7,
   "metadata": {},
   "outputs": [
    {
     "data": {
      "text/plain": [
       "[<tifffile.tifffile.TiffPageSeries at 0x7fe3d4933a50>]"
      ]
     },
     "execution_count": 7,
     "metadata": {},
     "output_type": "execute_result"
    }
   ],
   "source": [
    "tile.series"
   ]
  },
  {
   "cell_type": "code",
   "execution_count": 13,
   "metadata": {},
   "outputs": [],
   "source": [
    "tags = tile.pages.pages[0].tags"
   ]
  },
  {
   "cell_type": "code",
   "execution_count": 14,
   "metadata": {},
   "outputs": [
    {
     "name": "stdout",
     "output_type": "stream",
     "text": [
      "TiffTag 256 ImageWidth @10020600 SHORT @10020608 2044\n",
      "TiffTag 257 ImageLength @10020612 SHORT @10020620 2060\n",
      "TiffTag 258 BitsPerSample @10020624 SHORT @10020632 16\n",
      "TiffTag 259 Compression @10020636 SHORT @10020644 LZW\n",
      "TiffTag 262 PhotometricInterpretation @10020648 SHORT @10020656 MINISBLACK\n",
      "TiffTag 266 FillOrder @10020660 SHORT @10020668 MSB2LSB\n",
      "TiffTag 273 StripOffsets @10020672 LONG[1030] @10024988 (8, 9497, 19028, 28548,\n",
      "TiffTag 274 Orientation @10020684 SHORT @10020692 TOPLEFT\n",
      "TiffTag 277 SamplesPerPixel @10020696 SHORT @10020704 1\n",
      "TiffTag 278 RowsPerStrip @10020708 SHORT @10020716 2\n",
      "TiffTag 279 StripByteCounts @10020720 LONG[1030] @10020868 (9489, 9531, 9520, 9\n",
      "TiffTag 281 MaxSampleValue @10020732 SHORT @10020740 65535\n",
      "TiffTag 284 PlanarConfiguration @10020744 SHORT @10020752 CONTIG\n",
      "TiffTag 65325 @10020756 DOUBLE @10029132 2623684.261686001\n",
      "TiffTag 65326 @10020768 DOUBLE @10029116 0.644888355182203\n",
      "TiffTag 65327 @10020780 DOUBLE @10029124 1.0\n",
      "TiffTag 65328 @10020792 DOUBLE @10029108 1.0\n",
      "TiffTag 65329 @10020804 DOUBLE[4] @10029140 (-3548.13720703125, 1822.3974609375\n",
      "TiffTag 65330 @10020816 BYTE[3184] @10029172 02 00 00 00 0d 00 00 00 41 00 63 0\n",
      "TiffTag 65331 @10020828 BYTE[42810] @10032356 01 00 00 00 10 00 00 00 4d 00 65 \n",
      "TiffTag 65332 @10020840 BYTE[450] @10075166 01 00 00 00 0c 00 00 00 41 00 70 00\n",
      "TiffTag 65333 @10020852 BYTE[4] @10020860 00 00 00 00 ....\n"
     ]
    },
    {
     "data": {
      "text/plain": [
       "[None,\n",
       " None,\n",
       " None,\n",
       " None,\n",
       " None,\n",
       " None,\n",
       " None,\n",
       " None,\n",
       " None,\n",
       " None,\n",
       " None,\n",
       " None,\n",
       " None,\n",
       " None,\n",
       " None,\n",
       " None,\n",
       " None,\n",
       " None,\n",
       " None,\n",
       " None,\n",
       " None,\n",
       " None]"
      ]
     },
     "execution_count": 14,
     "metadata": {},
     "output_type": "execute_result"
    }
   ],
   "source": [
    "[print(t) for t in tags]"
   ]
  },
  {
   "cell_type": "code",
   "execution_count": 23,
   "metadata": {},
   "outputs": [],
   "source": [
    "tile.ome_metadata"
   ]
  },
  {
   "cell_type": "markdown",
   "metadata": {},
   "source": [
    "## Tif file from NIS Elements. Results of Job script exported with `export nd2 to tif`\n"
   ]
  },
  {
   "cell_type": "code",
   "execution_count": 16,
   "metadata": {},
   "outputs": [],
   "source": [
    "nd2totiff  = tifffile.TiffFile(\"/home/hilsenst/Desktop/seq0000xy01c1.tif\")"
   ]
  },
  {
   "cell_type": "code",
   "execution_count": 20,
   "metadata": {},
   "outputs": [],
   "source": [
    "tags =nd2totiff.pages.pages[0].tags"
   ]
  },
  {
   "cell_type": "code",
   "execution_count": 21,
   "metadata": {},
   "outputs": [
    {
     "name": "stdout",
     "output_type": "stream",
     "text": [
      "TiffTag 256 ImageWidth @8494326 SHORT @8494334 2044\n",
      "TiffTag 257 ImageLength @8494338 SHORT @8494346 2060\n",
      "TiffTag 258 BitsPerSample @8494350 SHORT @8494358 16\n",
      "TiffTag 259 Compression @8494362 SHORT @8494370 NONE\n",
      "TiffTag 262 PhotometricInterpretation @8494374 SHORT @8494382 MINISBLACK\n",
      "TiffTag 266 FillOrder @8494386 SHORT @8494394 MSB2LSB\n",
      "TiffTag 270 ImageDescription @8494398 ASCII[5064] @8567372 <?xml version=\"1.0\" \n",
      "TiffTag 273 StripOffsets @8494410 LONG[1030] @8498726 (8, 8184, 16360, 24536, 3\n",
      "TiffTag 274 Orientation @8494422 SHORT @8494430 TOPLEFT\n",
      "TiffTag 277 SamplesPerPixel @8494434 SHORT @8494442 1\n",
      "TiffTag 278 RowsPerStrip @8494446 SHORT @8494454 2\n",
      "TiffTag 279 StripByteCounts @8494458 LONG[1030] @8494606 (8176, 8176, 8176, 817\n",
      "TiffTag 281 MaxSampleValue @8494470 SHORT @8494478 65535\n",
      "TiffTag 284 PlanarConfiguration @8494482 SHORT @8494490 CONTIG\n",
      "TiffTag 65325 @8494494 DOUBLE @8502846 25400.32065966446\n",
      "TiffTag 65326 @8494506 DOUBLE @8502854 0.644888355182203\n",
      "TiffTag 65327 @8494518 DOUBLE @8502862 1.0\n",
      "TiffTag 65328 @8494530 DOUBLE @8502870 1.0\n",
      "TiffTag 65329 @8494542 DOUBLE[4] @8502878 (22475.3466796875, 3288.4423828125, 1\n",
      "TiffTag 65330 @8494554 BYTE[9727] @8502910 0c 00 00 00 0d 00 00 00 41 00 63 00 \n",
      "TiffTag 65331 @8494566 BYTE[49482] @8512638 01 00 00 00 10 00 00 00 4d 00 65 00\n",
      "TiffTag 65332 @8494578 BYTE[5252] @8562120 02 00 00 00 0c 00 00 00 41 00 70 00 \n",
      "TiffTag 65333 @8494590 BYTE[4] @8494598 00 00 00 00 ....\n"
     ]
    },
    {
     "data": {
      "text/plain": [
       "[None,\n",
       " None,\n",
       " None,\n",
       " None,\n",
       " None,\n",
       " None,\n",
       " None,\n",
       " None,\n",
       " None,\n",
       " None,\n",
       " None,\n",
       " None,\n",
       " None,\n",
       " None,\n",
       " None,\n",
       " None,\n",
       " None,\n",
       " None,\n",
       " None,\n",
       " None,\n",
       " None,\n",
       " None,\n",
       " None]"
      ]
     },
     "execution_count": 21,
     "metadata": {},
     "output_type": "execute_result"
    }
   ],
   "source": [
    "[print(t) for t in tags]"
   ]
  },
  {
   "cell_type": "code",
   "execution_count": 22,
   "metadata": {},
   "outputs": [
    {
     "data": {
      "text/plain": [
       "'<?xml version=\"1.0\" encoding=\"UTF-8\"?>\\r\\n<OME xmlns=\"http://www.openmicroscopy.org/Schemas/OME/2015-01\" xmlns:xsi=\"http://www.w3.org/2001/XMLSchema-instance\" xsi:schemaLocation=\"http://www.openmicroscopy.org/Schemas/OME/2015-01 http://www.openmicroscopy.org/Schemas/OME/2015-01/ome.xsd\">\\r\\n   <Experimenter ID=\"Experimenter:0\" Institution=\"\" LastName=\"\"/>\\r\\n   <Instrument ID=\"Instrument:0\">\\r\\n      <!--this instrument tag is add because of backward compatibility with NIS elements 4.30-->\\r\\n      <LightSource ID=\"LightSource:0\">\\r\\n         <Laser/>\\r\\n      </LightSource>\\r\\n      <Objective CalibratedMagnification=\"1.000000\" ID=\"Objective:0\" LensNA=\"0.450000\" NominalMagnification=\"1\"/>\\r\\n   </Instrument>\\r\\n   <Instrument ID=\"Instrument:1\">\\r\\n      <Microscope Model=\"Ti Microscope\"/>\\r\\n      <Detector ID=\"Detector:0\"/>\\r\\n      <Objective Correction=\"PlanApo\" ID=\"Objective:1\" LensNA=\"0.450000\" Model=\"Plan Apo ? 10x\" NominalMagnification=\"10\" WorkingDistance=\"4000.000000\"/>\\r\\n      <Filter ID=\"Filter:0\" Model=\"Custom\" Type=\"BandPass\">\\r\\n         <TransmittanceRange CutOut=\"1\"/>\\r\\n      </Filter>\\r\\n   </Instrument>\\r\\n   <Image ID=\"Image:0\" Name=\"Z:\\\\Volker\\\\20210305_Nikon_export_experiments\\\\ND_Export_to_tiff_singlepage_channels\\\\seq0000xy01c1.tif\">\\r\\n      <AcquisitionDate>\\r\\n         2021-03-04T15:25:04      </AcquisitionDate>\\r\\n      <Description>\\r\\n         Metadata:\\r\\nDimensions: XY(56) x ?(3)\\r\\nCamera Name: pco.edge, SN:61001736\\r\\nNumerical Aperture: 0,45\\r\\nRefractive Index: 1\\r\\nNumber of Picture Planes: 3\\r\\nPlane #1:\\r\\n Name: Trans\\r\\n Component Count: 1\\r\\n Modality: Brightfield\\r\\n Camera Settings:   \\r\\n  Camera Type: pco.edge\\r\\n  Exposure: 40 ms\\r\\n  Readout Mode: Rolling shutter at 16-bit\\r\\n  Readout Rate: 272.25 MHz\\r\\n  Noise Filter: Off\\r\\n  Temperature: 5.0°C\\r\\n Microscope Settings:   Microscope: Ti Microscope\\r\\n  Nikon Ti, FilterChanger(Rev.kopf1): 3 (Quad)\\r\\n  Nikon Ti, FilterChanger(Emissionsrad): 1\\r\\n  Condenser: 1 (-----)\\r\\n  PFS-S, state: Off\\r\\n  PFS-S, offset: 7506\\r\\n  PFS-S, mirror: Inserted\\r\\n  PFS-S, mirror: Inserted\\r\\n  \\r\\n  Zoom: 1.00x\\r\\n  Spectra/Aura, Shutter(Spectra): Closed\\r\\n  Spectra/Aura, MultiLaser(Spectra1):\\r\\n     Line:1; ExW:395; Power: 50.0; ND:0\\r\\n     Line:2; ExW:440; Power: 50.0; ND:0\\r\\n     Line:3; ExW:470; Power:100.0; ND:0\\r\\n     Line:4; ExW:510; Power: 50.0; ND:0\\r\\n     Line:5; ExW:555; Power: 50.0; ND:0\\r\\n     Line:6; ExW:586; Power: 50.0; ND:0\\r\\n     Line:7; ExW:640; Power: 30.0; ND:0\\r\\n  \\r\\n  NIDAQ, Shutter(DIA): Active\\r\\nPlane #2:\\r\\n Name: Dapi\\r\\n Component Count: 1\\r\\n Modality: Widefield Fluorescence\\r\\n Camera Settings:   \\r\\n  Camera Type: pco.edge\\r\\n  Exposure: 250 ms\\r\\n  Readout Mode: Rolling shutter at 16-bit\\r\\n  Readout Rate: 272.25 MHz\\r\\n  Noise Filter: Off\\r\\n  Temperature: 5.0°C\\r\\n Microscope Settings:   Microscope: Ti Microscope\\r\\n  Nikon Ti, FilterChanger(Rev.kopf1): 3 (Quad)\\r\\n  Nikon Ti, FilterChanger(Emissionsrad): 1\\r\\n  Condenser: 1 (-----)\\r\\n  PFS-S, state: Off\\r\\n  PFS-S, offset: 9017\\r\\n  PFS-S, mirror: Inserted\\r\\n  PFS-S, mirror: Inserted\\r\\n  \\r\\n  Zoom: 1.00x\\r\\n  Spectra/Aura, Shutter(Spectra): Active\\r\\n  Spectra/Aura, MultiLaser(Spectra1):\\r\\n     Line:1; ExW:395; Power: 50.0; On\\r\\n     Line:2; ExW:440; Power: 50.0; Off\\r\\n     Line:3; ExW:470; Power:100.0; Off\\r\\n     Line:4; ExW:510; Power: 50.0; Off\\r\\n     Line:5; ExW:555; Power: 50.0; Off\\r\\n     Line:6; ExW:586; Power: 50.0; Off\\r\\n     Line:7; ExW:640; Power: 30.0; Off\\r\\n  \\r\\n  NIDAQ, Shutter(DIA): Closed\\r\\nPlane #3:\\r\\n Name: GFP\\r\\n Component Count: 1\\r\\n Modality: Widefield Fluorescence\\r\\n Camera Settings:   \\r\\n  Camera Type: pco.edge\\r\\n  Exposure: 15 ms\\r\\n  Readout Mode: Rolling shutter at 16-bit\\r\\n  Readout Rate: 95.3333 MHz\\r\\n  Noise Filter: Off\\r\\n  Temperature: 5.0°C\\r\\n Microscope Settings:   Microscope: Ti Microscope\\r\\n  Nikon Ti, FilterChanger(Rev.kopf1): 5 (C-FL-C GFP-B)\\r\\n  Nikon Ti, FilterChanger(Emissionsrad): 1\\r\\n  Condenser: 1 (-----)\\r\\n  PFS-S, state: Off\\r\\n  PFS-S, offset: 9306\\r\\n  PFS-S, mirror: Inserted\\r\\n  PFS-S, mirror: Inserted\\r\\n  \\r\\n  Zoom: 1.00x\\r\\n  Spectra/Aura, Shutter(Spectra): Active\\r\\n  Spectra/Aura, MultiLaser(Spectra1):\\r\\n     Line:1; ExW:395; Power:  0.0; Off\\r\\n     Line:2; ExW:440; Power:  0.0; Off\\r\\n     Line:3; ExW:470; Power: 53.0; On\\r\\n     Line:4; ExW:510; Power:  0.0; Off\\r\\n     Line:5; ExW:555; Power:  0.0; Off\\r\\n     Line:6; ExW:586; Power:  0.0; Off\\r\\n     Line:7; ExW:640; Power:  0.0; Off\\r\\n  \\r\\n  NIDAQ, Shutter(DIA): Closed      </Description>\\r\\n      <InstrumentRef ID=\"Instrument:1\"/>\\r\\n      <ImagingEnvironment Temperature=\"-1.000000\"/>\\r\\n      <Pixels DimensionOrder=\"XYCZT\" ID=\"Pixels:0\" PhysicalSizeX=\"0.644888\" PhysicalSizeY=\"0.644888\" SizeC=\"1\" SizeT=\"1\" SizeX=\"2044\" SizeY=\"2060\" SizeZ=\"1\" Type=\"uint16\">\\r\\n         <Channel AcquisitionMode=\"WideField\" Color=\"16777215\" EmissionWavelength=\"525\" ID=\"Channel:0\" Name=\"Mono\" PinholeSize=\"-1.000000\">\\r\\n            <DetectorSettings Binning=\"1x1\" ID=\"Detector:0\"/>\\r\\n         </Channel>\\r\\n         <TiffData/>\\r\\n         <Plane DeltaT=\"25400.320313\" ExposureTime=\"40.000000\" PositionX=\"22475.347656\" PositionY=\"3288.442383\" PositionZ=\"1671.724976\" TheC=\"0\" TheT=\"0\" TheZ=\"0\"/>\\r\\n      </Pixels>\\r\\n   </Image>\\r\\n</OME>'"
      ]
     },
     "execution_count": 22,
     "metadata": {},
     "output_type": "execute_result"
    }
   ],
   "source": [
    "nd2totiff.ome_metadata"
   ]
  },
  {
   "cell_type": "code",
   "execution_count": 26,
   "metadata": {},
   "outputs": [
    {
     "data": {
      "text/plain": [
       "odict_keys(['OME'])"
      ]
     },
     "execution_count": 26,
     "metadata": {},
     "output_type": "execute_result"
    }
   ],
   "source": [
    "import xmltodict\n",
    "nd2tiff_dict = xmltodict.parse(nd2totiff.ome_metadata)\n",
    "nd2tiff_dict.keys()"
   ]
  },
  {
   "cell_type": "code",
   "execution_count": 31,
   "metadata": {},
   "outputs": [
    {
     "data": {
      "text/plain": [
       "OrderedDict([('@DimensionOrder', 'XYCZT'),\n",
       "             ('@ID', 'Pixels:0'),\n",
       "             ('@PhysicalSizeX', '0.644888'),\n",
       "             ('@PhysicalSizeY', '0.644888'),\n",
       "             ('@SizeC', '1'),\n",
       "             ('@SizeT', '1'),\n",
       "             ('@SizeX', '2044'),\n",
       "             ('@SizeY', '2060'),\n",
       "             ('@SizeZ', '1'),\n",
       "             ('@Type', 'uint16'),\n",
       "             ('Channel',\n",
       "              OrderedDict([('@AcquisitionMode', 'WideField'),\n",
       "                           ('@Color', '16777215'),\n",
       "                           ('@EmissionWavelength', '525'),\n",
       "                           ('@ID', 'Channel:0'),\n",
       "                           ('@Name', 'Mono'),\n",
       "                           ('@PinholeSize', '-1.000000'),\n",
       "                           ('DetectorSettings',\n",
       "                            OrderedDict([('@Binning', '1x1'),\n",
       "                                         ('@ID', 'Detector:0')]))])),\n",
       "             ('TiffData', None),\n",
       "             ('Plane',\n",
       "              OrderedDict([('@DeltaT', '25400.320313'),\n",
       "                           ('@ExposureTime', '40.000000'),\n",
       "                           ('@PositionX', '22475.347656'),\n",
       "                           ('@PositionY', '3288.442383'),\n",
       "                           ('@PositionZ', '1671.724976'),\n",
       "                           ('@TheC', '0'),\n",
       "                           ('@TheT', '0'),\n",
       "                           ('@TheZ', '0')]))])"
      ]
     },
     "execution_count": 31,
     "metadata": {},
     "output_type": "execute_result"
    }
   ],
   "source": [
    "nd2tiff_dict['OME']['Image']['Pixels']"
   ]
  },
  {
   "cell_type": "code",
   "execution_count": null,
   "metadata": {},
   "outputs": [],
   "source": []
  }
 ],
 "metadata": {
  "kernelspec": {
   "display_name": "Python 3",
   "language": "python",
   "name": "python3"
  },
  "language_info": {
   "codemirror_mode": {
    "name": "ipython",
    "version": 3
   },
   "file_extension": ".py",
   "mimetype": "text/x-python",
   "name": "python",
   "nbconvert_exporter": "python",
   "pygments_lexer": "ipython3",
   "version": "3.7.9"
  }
 },
 "nbformat": 4,
 "nbformat_minor": 2
}
